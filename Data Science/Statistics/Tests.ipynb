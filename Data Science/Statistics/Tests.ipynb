{
  "nbformat": 4,
  "nbformat_minor": 0,
  "metadata": {
    "colab": {
      "provenance": []
    },
    "kernelspec": {
      "name": "python3",
      "display_name": "Python 3"
    },
    "language_info": {
      "name": "python"
    }
  },
  "cells": [
    {
      "cell_type": "markdown",
      "source": [
        "**This notebook covers various parametric and non-parametric statistical tests commonly used in data analysis and hypothesis testing. The implementations are simple and demonstrated using the Titanic dataset.**"
      ],
      "metadata": {
        "id": "KKM9Ts_fvrtd"
      }
    },
    {
      "cell_type": "markdown",
      "source": [
        "### **Confidence Intervals**\n",
        "\n",
        " a confidence interval gives you a sense of how accurate your sample estimate is likely to be, considering the variability that can occur when taking different samples from the same population.\n",
        "\n",
        " ![download (9).png](data:image/png;base64,iVBORw0KGgoAAAANSUhEUgAAATQAAACkCAMAAAAuTiJaAAAAVFBMVEX///8AAACmpqbs7OwwMDDk5OSLi4vHx8eAgIBqampDQ0PU1NQcHBxlZWX7+/uYmJiysrJ4eHg8PDwRERG+vr5wcHBWVlZNTU0kJCRbW1srKysWFhYlmCGFAAAHeElEQVR4nO2d14KqMBCGdwhNkQQBKfr+73lIQu+J7mIO892ssIrhN3VK+PlBEARBEARBEARBEARBkP8WIjm6GCZBaAEcmx5dEmPwfGhhKNs+Kq1eoZemXnarXh5dGiMIMoCoOajqXHpkYUyhqlxW8zq9AtyPLIwhBL0WmcaA7XMHQVjJ1HT+/DX4h5bHCCzoiXbhB9inbWL1G6Soac6RxTEDIVozEESMMWv17QhHiAZRtP1OpMWqVwIJZKl3dGFMwcu7JVTsoWz7CKDHDVee+6BWT7UYVdvJ/Z61qmED3Q11iI2iqeOQe3/KhixBgiDoWbivfCg4rjRmQBJufuwdlz3LGjKPtHL3TjywT9uCjkVjBYq2hdSsZ6gNAQqcp60jResGAqfAwXMT58KXm90xn+EGxxXHEBgAaw8c34YrarZNNcVg0iXAWDX9eGKHtoOAOwUYh8/YGI6c+wiih1xzWpGR1Sxlh7g0AiuqsIyU7MfBiaU6KJoGKJoGKJoGZxLNg9smyZ4LnUm0FHaw50JnEi24+9vsudCZRPsYKJoGKJoGKJoGKJoGZxUtKsMwaw78MAxLBbuFrmjV12SticK6GGatYBcRUP4Qvon08uIHubf7JrREo9Ic1hit6cus2sq90/DMbzI8mkf8xnmsElCiI1paR600TiTLsKiCAOzcIz/ErdRKKwEelQIkr/7uvYCOaI1mYAvVLNsoFxwJIak9ObxRhiKk0BO3s/cS6qLRiNfnCv49F4sygGz7U9+D03kM5U/Pu7JcSTSiLJrbLGvbsNlc7QLHQh7dbyxKL7wUpYjHnHs/9d0JftWUZ86ujL9um13ipdebcbGfrOeabiua8FjP1x6yxzQiWa59dGg+CaH81O38DSWwNiSimwLwAGB3NitcQbQVn/cgY4I8DQsp6BeY8TvVSWQjbwVSRC+zBgE+3Xi1FWqQoKXCW8soz+ggKZE+CTrlf0e0KJmGfVq/yId/H6Y98r8h2mw9299tqvPhUADROtn2+6boi5bMhhcbJJq4pqvzSW3REoW12neiXdG0RUuM37bF+WvRSAK+4ZrJcUAvc15PNIXF7dciRNP7qI5oxIW76fXsx7oNRHOe9/3jjIZoZDgEOHZukjmtQVS0rr04KgsjddGsZNg2ybxJ5TuhUZ7loiMbJv858a+K5iQQ9j/h3E2aeogscP4jUxgMnnclGVRFs16j3rM0KXUi4GmSYunkDEXLQSViWlU0nqRzCTOnMRX4hUmiCVeAqGmPvmhOrrbcUBSNNU4V+2I5jhdmAMn7m3i54WUHod5MtI/0n6S8mcbPrk+LFHciUxONmzGzIGD9FeH7Pdpgu4kVLu9/UyGXsNUNeNFLWuqpl8HLXq5oZEpV4Gjm9HwDpwxsYUuxuzsp3l5G0xKS/LpN/IHdwqrbLSm/6WotwL1qPuXOtefKld/2EVza/qtT7X3TQ7ngB/oNiJzTvoSfgNzkLYSrn0jsnbxm+3ZSdMZtl3cJSRG9PwiQv833dKAoOsdnURQvLeuQwvf1HQLx7fWR3fV4WzFn/P0ScsM89N/A1TAP/VeQYQa7MpFtvAn478HWqY63MUtCZoixR1PGxr0SlOHrGKxoingfWbuejBiHAWWCG8S425wigI9uUAZ7NA3iyVbKAWd0iM+U6kOrOdpoviHsqI2/nsk8BRtXWT3YOLKaZGDzMNgHr1xeWUAehtwRUuJg0TIx2DJwqQixuMugAV7jhA8E578Nl4nz78mjxXi4wDO4vCAMZH+X8FS5A8r3lYxrEA1lAiTfhy6HLGiGCF71zA+G+wyVFsXwjIx7rh3H9/4b8ZlSEjpRIoIkEn+4a7C3uELRWqYuWlcG2EcwWiegaA3TxQCNpWjl2L9/RdFq2EQIWu8bL3q0/ioAcM5Rs1h5xtmEVOQxvx9jZQ7+UrNii3a00dA5jvL873lMJhUN7rJ5g0vkjk+cpnXSJyz24MtO9WDUOmXo4mlEC+UkdXatvTwcWmPR3BOJ1j5Ia84y6y6LFo3HgfN0aR43L1rXharmrsgwEfo8Fc0GeDgyJWSmTlXT18VdKUbjgIx3PYdozPer6WkUz4rmrQQ+erOiiZdpeo5oycmjjtqzS5+A2S6t/tc5fDCyqo3mam6y8mDK0RqKhzA3/V8BJ/GwiPnCqC1WPd3yTs/i/Z2konXKjSXy0wTK+NOhwAnX0oL4u5/dIWmHX+88z2mXD1QcVLV8raLlo0kZac1ENtxP0jrbOW53wgFYyUKCmcEzqf9zjnmHYLyWcledJGLs7NWoRjQvPJUZ8jGcRJASkpVUuvEKgvJ5W0SqUZidpnH+tL1ac7iROjaZ1tEmb+23yvedyMzQeu/grWhRz55kJ/rx9RrPb6H3/yJTxeuJaQAn3fNalX6vluNj6vdRzzq4Vtdq6DzHqvttpGh8OydMHdtN2PRq1tOwHXEPxHnU7fOKybD7kb0aSzFnQIEmeAp7NBXqXg17NBUafx62ThUiKdo5jPwfAzXTgPdqmN6vCG+fBm3n9yVg69SAkJOZxBAEQRAEQRAEQRAEQZC/5x9L7D4oaUdO0QAAAABJRU5ErkJggg==)\n",
        "\n",
        " x = sample mean\n",
        "\n",
        " z = number of standard deviations we have to traverse to capture the confidence interval\n",
        "\n",
        " s = standard deviation\n",
        "\n",
        " n = sample size\n",
        "\n",
        " We can use this to calculate the margin of error and a point estimate\n",
        "\n",
        " which gives our answer to be point estimate +- margin of error"
      ],
      "metadata": {
        "id": "fJUHk1ak0Ed5"
      }
    },
    {
      "cell_type": "markdown",
      "source": [
        "Point estimates : estimate of population parameters based on sample data"
      ],
      "metadata": {
        "id": "BEGGnZ544CeA"
      }
    },
    {
      "cell_type": "code",
      "source": [
        "import pandas as pd\n",
        "import numpy as np\n",
        "import matplotlib.pyplot as plt\n",
        "import seaborn as sns\n",
        "import scipy.stats as stats\n",
        "import math"
      ],
      "metadata": {
        "id": "Lp-sq-r84t5_"
      },
      "execution_count": null,
      "outputs": []
    },
    {
      "cell_type": "markdown",
      "source": [
        "Using Titanic Dataset\n",
        "\n",
        "* We will take a sample of the dataset.\n",
        "\n",
        "* Calculate the sample mean.\n",
        "\n",
        "* Get the confidence interval and then compare it with the population mean.\n",
        "\n",
        "* Will repeat the same with multiple samples and calculate the percent of samples for which the population mean lies within the confidence interval"
      ],
      "metadata": {
        "id": "p59VQODN4mc2"
      }
    },
    {
      "cell_type": "code",
      "source": [
        "titanic_link = \"https://raw.githubusercontent.com/datasciencedojo/datasets/master/titanic.csv\""
      ],
      "metadata": {
        "id": "T5GhWy2pQkPX"
      },
      "execution_count": null,
      "outputs": []
    },
    {
      "cell_type": "code",
      "source": [
        "titanic_df = pd.read_csv(\"https://raw.githubusercontent.com/datasciencedojo/datasets/master/titanic.csv\")\n",
        "titanic_df.head(3)"
      ],
      "metadata": {
        "colab": {
          "base_uri": "https://localhost:8080/",
          "height": 143
        },
        "id": "lhpplTWZ0JG4",
        "outputId": "8ff83e64-6e2e-4c0f-dcf1-29704d033fb0"
      },
      "execution_count": null,
      "outputs": [
        {
          "output_type": "execute_result",
          "data": {
            "text/plain": [
              "   PassengerId  Survived  Pclass  \\\n",
              "0            1         0       3   \n",
              "1            2         1       1   \n",
              "2            3         1       3   \n",
              "\n",
              "                                                Name     Sex   Age  SibSp  \\\n",
              "0                            Braund, Mr. Owen Harris    male  22.0      1   \n",
              "1  Cumings, Mrs. John Bradley (Florence Briggs Th...  female  38.0      1   \n",
              "2                             Heikkinen, Miss. Laina  female  26.0      0   \n",
              "\n",
              "   Parch            Ticket     Fare Cabin Embarked  \n",
              "0      0         A/5 21171   7.2500   NaN        S  \n",
              "1      0          PC 17599  71.2833   C85        C  \n",
              "2      0  STON/O2. 3101282   7.9250   NaN        S  "
            ],
            "text/html": [
              "\n",
              "  <div id=\"df-3af7a1ce-bc4a-41e9-ba94-1832a1ab0a4b\" class=\"colab-df-container\">\n",
              "    <div>\n",
              "<style scoped>\n",
              "    .dataframe tbody tr th:only-of-type {\n",
              "        vertical-align: middle;\n",
              "    }\n",
              "\n",
              "    .dataframe tbody tr th {\n",
              "        vertical-align: top;\n",
              "    }\n",
              "\n",
              "    .dataframe thead th {\n",
              "        text-align: right;\n",
              "    }\n",
              "</style>\n",
              "<table border=\"1\" class=\"dataframe\">\n",
              "  <thead>\n",
              "    <tr style=\"text-align: right;\">\n",
              "      <th></th>\n",
              "      <th>PassengerId</th>\n",
              "      <th>Survived</th>\n",
              "      <th>Pclass</th>\n",
              "      <th>Name</th>\n",
              "      <th>Sex</th>\n",
              "      <th>Age</th>\n",
              "      <th>SibSp</th>\n",
              "      <th>Parch</th>\n",
              "      <th>Ticket</th>\n",
              "      <th>Fare</th>\n",
              "      <th>Cabin</th>\n",
              "      <th>Embarked</th>\n",
              "    </tr>\n",
              "  </thead>\n",
              "  <tbody>\n",
              "    <tr>\n",
              "      <th>0</th>\n",
              "      <td>1</td>\n",
              "      <td>0</td>\n",
              "      <td>3</td>\n",
              "      <td>Braund, Mr. Owen Harris</td>\n",
              "      <td>male</td>\n",
              "      <td>22.0</td>\n",
              "      <td>1</td>\n",
              "      <td>0</td>\n",
              "      <td>A/5 21171</td>\n",
              "      <td>7.2500</td>\n",
              "      <td>NaN</td>\n",
              "      <td>S</td>\n",
              "    </tr>\n",
              "    <tr>\n",
              "      <th>1</th>\n",
              "      <td>2</td>\n",
              "      <td>1</td>\n",
              "      <td>1</td>\n",
              "      <td>Cumings, Mrs. John Bradley (Florence Briggs Th...</td>\n",
              "      <td>female</td>\n",
              "      <td>38.0</td>\n",
              "      <td>1</td>\n",
              "      <td>0</td>\n",
              "      <td>PC 17599</td>\n",
              "      <td>71.2833</td>\n",
              "      <td>C85</td>\n",
              "      <td>C</td>\n",
              "    </tr>\n",
              "    <tr>\n",
              "      <th>2</th>\n",
              "      <td>3</td>\n",
              "      <td>1</td>\n",
              "      <td>3</td>\n",
              "      <td>Heikkinen, Miss. Laina</td>\n",
              "      <td>female</td>\n",
              "      <td>26.0</td>\n",
              "      <td>0</td>\n",
              "      <td>0</td>\n",
              "      <td>STON/O2. 3101282</td>\n",
              "      <td>7.9250</td>\n",
              "      <td>NaN</td>\n",
              "      <td>S</td>\n",
              "    </tr>\n",
              "  </tbody>\n",
              "</table>\n",
              "</div>\n",
              "    <div class=\"colab-df-buttons\">\n",
              "\n",
              "  <div class=\"colab-df-container\">\n",
              "    <button class=\"colab-df-convert\" onclick=\"convertToInteractive('df-3af7a1ce-bc4a-41e9-ba94-1832a1ab0a4b')\"\n",
              "            title=\"Convert this dataframe to an interactive table.\"\n",
              "            style=\"display:none;\">\n",
              "\n",
              "  <svg xmlns=\"http://www.w3.org/2000/svg\" height=\"24px\" viewBox=\"0 -960 960 960\">\n",
              "    <path d=\"M120-120v-720h720v720H120Zm60-500h600v-160H180v160Zm220 220h160v-160H400v160Zm0 220h160v-160H400v160ZM180-400h160v-160H180v160Zm440 0h160v-160H620v160ZM180-180h160v-160H180v160Zm440 0h160v-160H620v160Z\"/>\n",
              "  </svg>\n",
              "    </button>\n",
              "\n",
              "  <style>\n",
              "    .colab-df-container {\n",
              "      display:flex;\n",
              "      gap: 12px;\n",
              "    }\n",
              "\n",
              "    .colab-df-convert {\n",
              "      background-color: #E8F0FE;\n",
              "      border: none;\n",
              "      border-radius: 50%;\n",
              "      cursor: pointer;\n",
              "      display: none;\n",
              "      fill: #1967D2;\n",
              "      height: 32px;\n",
              "      padding: 0 0 0 0;\n",
              "      width: 32px;\n",
              "    }\n",
              "\n",
              "    .colab-df-convert:hover {\n",
              "      background-color: #E2EBFA;\n",
              "      box-shadow: 0px 1px 2px rgba(60, 64, 67, 0.3), 0px 1px 3px 1px rgba(60, 64, 67, 0.15);\n",
              "      fill: #174EA6;\n",
              "    }\n",
              "\n",
              "    .colab-df-buttons div {\n",
              "      margin-bottom: 4px;\n",
              "    }\n",
              "\n",
              "    [theme=dark] .colab-df-convert {\n",
              "      background-color: #3B4455;\n",
              "      fill: #D2E3FC;\n",
              "    }\n",
              "\n",
              "    [theme=dark] .colab-df-convert:hover {\n",
              "      background-color: #434B5C;\n",
              "      box-shadow: 0px 1px 3px 1px rgba(0, 0, 0, 0.15);\n",
              "      filter: drop-shadow(0px 1px 2px rgba(0, 0, 0, 0.3));\n",
              "      fill: #FFFFFF;\n",
              "    }\n",
              "  </style>\n",
              "\n",
              "    <script>\n",
              "      const buttonEl =\n",
              "        document.querySelector('#df-3af7a1ce-bc4a-41e9-ba94-1832a1ab0a4b button.colab-df-convert');\n",
              "      buttonEl.style.display =\n",
              "        google.colab.kernel.accessAllowed ? 'block' : 'none';\n",
              "\n",
              "      async function convertToInteractive(key) {\n",
              "        const element = document.querySelector('#df-3af7a1ce-bc4a-41e9-ba94-1832a1ab0a4b');\n",
              "        const dataTable =\n",
              "          await google.colab.kernel.invokeFunction('convertToInteractive',\n",
              "                                                    [key], {});\n",
              "        if (!dataTable) return;\n",
              "\n",
              "        const docLinkHtml = 'Like what you see? Visit the ' +\n",
              "          '<a target=\"_blank\" href=https://colab.research.google.com/notebooks/data_table.ipynb>data table notebook</a>'\n",
              "          + ' to learn more about interactive tables.';\n",
              "        element.innerHTML = '';\n",
              "        dataTable['output_type'] = 'display_data';\n",
              "        await google.colab.output.renderOutput(dataTable, element);\n",
              "        const docLink = document.createElement('div');\n",
              "        docLink.innerHTML = docLinkHtml;\n",
              "        element.appendChild(docLink);\n",
              "      }\n",
              "    </script>\n",
              "  </div>\n",
              "\n",
              "\n",
              "<div id=\"df-46a9cbf9-29f6-49d4-ac38-7dfc18a173d3\">\n",
              "  <button class=\"colab-df-quickchart\" onclick=\"quickchart('df-46a9cbf9-29f6-49d4-ac38-7dfc18a173d3')\"\n",
              "            title=\"Suggest charts\"\n",
              "            style=\"display:none;\">\n",
              "\n",
              "<svg xmlns=\"http://www.w3.org/2000/svg\" height=\"24px\"viewBox=\"0 0 24 24\"\n",
              "     width=\"24px\">\n",
              "    <g>\n",
              "        <path d=\"M19 3H5c-1.1 0-2 .9-2 2v14c0 1.1.9 2 2 2h14c1.1 0 2-.9 2-2V5c0-1.1-.9-2-2-2zM9 17H7v-7h2v7zm4 0h-2V7h2v10zm4 0h-2v-4h2v4z\"/>\n",
              "    </g>\n",
              "</svg>\n",
              "  </button>\n",
              "\n",
              "<style>\n",
              "  .colab-df-quickchart {\n",
              "      --bg-color: #E8F0FE;\n",
              "      --fill-color: #1967D2;\n",
              "      --hover-bg-color: #E2EBFA;\n",
              "      --hover-fill-color: #174EA6;\n",
              "      --disabled-fill-color: #AAA;\n",
              "      --disabled-bg-color: #DDD;\n",
              "  }\n",
              "\n",
              "  [theme=dark] .colab-df-quickchart {\n",
              "      --bg-color: #3B4455;\n",
              "      --fill-color: #D2E3FC;\n",
              "      --hover-bg-color: #434B5C;\n",
              "      --hover-fill-color: #FFFFFF;\n",
              "      --disabled-bg-color: #3B4455;\n",
              "      --disabled-fill-color: #666;\n",
              "  }\n",
              "\n",
              "  .colab-df-quickchart {\n",
              "    background-color: var(--bg-color);\n",
              "    border: none;\n",
              "    border-radius: 50%;\n",
              "    cursor: pointer;\n",
              "    display: none;\n",
              "    fill: var(--fill-color);\n",
              "    height: 32px;\n",
              "    padding: 0;\n",
              "    width: 32px;\n",
              "  }\n",
              "\n",
              "  .colab-df-quickchart:hover {\n",
              "    background-color: var(--hover-bg-color);\n",
              "    box-shadow: 0 1px 2px rgba(60, 64, 67, 0.3), 0 1px 3px 1px rgba(60, 64, 67, 0.15);\n",
              "    fill: var(--button-hover-fill-color);\n",
              "  }\n",
              "\n",
              "  .colab-df-quickchart-complete:disabled,\n",
              "  .colab-df-quickchart-complete:disabled:hover {\n",
              "    background-color: var(--disabled-bg-color);\n",
              "    fill: var(--disabled-fill-color);\n",
              "    box-shadow: none;\n",
              "  }\n",
              "\n",
              "  .colab-df-spinner {\n",
              "    border: 2px solid var(--fill-color);\n",
              "    border-color: transparent;\n",
              "    border-bottom-color: var(--fill-color);\n",
              "    animation:\n",
              "      spin 1s steps(1) infinite;\n",
              "  }\n",
              "\n",
              "  @keyframes spin {\n",
              "    0% {\n",
              "      border-color: transparent;\n",
              "      border-bottom-color: var(--fill-color);\n",
              "      border-left-color: var(--fill-color);\n",
              "    }\n",
              "    20% {\n",
              "      border-color: transparent;\n",
              "      border-left-color: var(--fill-color);\n",
              "      border-top-color: var(--fill-color);\n",
              "    }\n",
              "    30% {\n",
              "      border-color: transparent;\n",
              "      border-left-color: var(--fill-color);\n",
              "      border-top-color: var(--fill-color);\n",
              "      border-right-color: var(--fill-color);\n",
              "    }\n",
              "    40% {\n",
              "      border-color: transparent;\n",
              "      border-right-color: var(--fill-color);\n",
              "      border-top-color: var(--fill-color);\n",
              "    }\n",
              "    60% {\n",
              "      border-color: transparent;\n",
              "      border-right-color: var(--fill-color);\n",
              "    }\n",
              "    80% {\n",
              "      border-color: transparent;\n",
              "      border-right-color: var(--fill-color);\n",
              "      border-bottom-color: var(--fill-color);\n",
              "    }\n",
              "    90% {\n",
              "      border-color: transparent;\n",
              "      border-bottom-color: var(--fill-color);\n",
              "    }\n",
              "  }\n",
              "</style>\n",
              "\n",
              "  <script>\n",
              "    async function quickchart(key) {\n",
              "      const quickchartButtonEl =\n",
              "        document.querySelector('#' + key + ' button');\n",
              "      quickchartButtonEl.disabled = true;  // To prevent multiple clicks.\n",
              "      quickchartButtonEl.classList.add('colab-df-spinner');\n",
              "      try {\n",
              "        const charts = await google.colab.kernel.invokeFunction(\n",
              "            'suggestCharts', [key], {});\n",
              "      } catch (error) {\n",
              "        console.error('Error during call to suggestCharts:', error);\n",
              "      }\n",
              "      quickchartButtonEl.classList.remove('colab-df-spinner');\n",
              "      quickchartButtonEl.classList.add('colab-df-quickchart-complete');\n",
              "    }\n",
              "    (() => {\n",
              "      let quickchartButtonEl =\n",
              "        document.querySelector('#df-46a9cbf9-29f6-49d4-ac38-7dfc18a173d3 button');\n",
              "      quickchartButtonEl.style.display =\n",
              "        google.colab.kernel.accessAllowed ? 'block' : 'none';\n",
              "    })();\n",
              "  </script>\n",
              "</div>\n",
              "\n",
              "    </div>\n",
              "  </div>\n"
            ],
            "application/vnd.google.colaboratory.intrinsic+json": {
              "type": "dataframe",
              "variable_name": "titanic_df",
              "summary": "{\n  \"name\": \"titanic_df\",\n  \"rows\": 891,\n  \"fields\": [\n    {\n      \"column\": \"PassengerId\",\n      \"properties\": {\n        \"dtype\": \"number\",\n        \"std\": 257,\n        \"min\": 1,\n        \"max\": 891,\n        \"num_unique_values\": 891,\n        \"samples\": [\n          710,\n          440,\n          841\n        ],\n        \"semantic_type\": \"\",\n        \"description\": \"\"\n      }\n    },\n    {\n      \"column\": \"Survived\",\n      \"properties\": {\n        \"dtype\": \"number\",\n        \"std\": 0,\n        \"min\": 0,\n        \"max\": 1,\n        \"num_unique_values\": 2,\n        \"samples\": [\n          1,\n          0\n        ],\n        \"semantic_type\": \"\",\n        \"description\": \"\"\n      }\n    },\n    {\n      \"column\": \"Pclass\",\n      \"properties\": {\n        \"dtype\": \"number\",\n        \"std\": 0,\n        \"min\": 1,\n        \"max\": 3,\n        \"num_unique_values\": 3,\n        \"samples\": [\n          3,\n          1\n        ],\n        \"semantic_type\": \"\",\n        \"description\": \"\"\n      }\n    },\n    {\n      \"column\": \"Name\",\n      \"properties\": {\n        \"dtype\": \"string\",\n        \"num_unique_values\": 891,\n        \"samples\": [\n          \"Moubarek, Master. Halim Gonios (\\\"William George\\\")\",\n          \"Kvillner, Mr. Johan Henrik Johannesson\"\n        ],\n        \"semantic_type\": \"\",\n        \"description\": \"\"\n      }\n    },\n    {\n      \"column\": \"Sex\",\n      \"properties\": {\n        \"dtype\": \"category\",\n        \"num_unique_values\": 2,\n        \"samples\": [\n          \"female\",\n          \"male\"\n        ],\n        \"semantic_type\": \"\",\n        \"description\": \"\"\n      }\n    },\n    {\n      \"column\": \"Age\",\n      \"properties\": {\n        \"dtype\": \"number\",\n        \"std\": 14.526497332334042,\n        \"min\": 0.42,\n        \"max\": 80.0,\n        \"num_unique_values\": 88,\n        \"samples\": [\n          0.75,\n          22.0\n        ],\n        \"semantic_type\": \"\",\n        \"description\": \"\"\n      }\n    },\n    {\n      \"column\": \"SibSp\",\n      \"properties\": {\n        \"dtype\": \"number\",\n        \"std\": 1,\n        \"min\": 0,\n        \"max\": 8,\n        \"num_unique_values\": 7,\n        \"samples\": [\n          1,\n          0\n        ],\n        \"semantic_type\": \"\",\n        \"description\": \"\"\n      }\n    },\n    {\n      \"column\": \"Parch\",\n      \"properties\": {\n        \"dtype\": \"number\",\n        \"std\": 0,\n        \"min\": 0,\n        \"max\": 6,\n        \"num_unique_values\": 7,\n        \"samples\": [\n          0,\n          1\n        ],\n        \"semantic_type\": \"\",\n        \"description\": \"\"\n      }\n    },\n    {\n      \"column\": \"Ticket\",\n      \"properties\": {\n        \"dtype\": \"string\",\n        \"num_unique_values\": 681,\n        \"samples\": [\n          \"11774\",\n          \"248740\"\n        ],\n        \"semantic_type\": \"\",\n        \"description\": \"\"\n      }\n    },\n    {\n      \"column\": \"Fare\",\n      \"properties\": {\n        \"dtype\": \"number\",\n        \"std\": 49.6934285971809,\n        \"min\": 0.0,\n        \"max\": 512.3292,\n        \"num_unique_values\": 248,\n        \"samples\": [\n          11.2417,\n          51.8625\n        ],\n        \"semantic_type\": \"\",\n        \"description\": \"\"\n      }\n    },\n    {\n      \"column\": \"Cabin\",\n      \"properties\": {\n        \"dtype\": \"category\",\n        \"num_unique_values\": 147,\n        \"samples\": [\n          \"D45\",\n          \"B49\"\n        ],\n        \"semantic_type\": \"\",\n        \"description\": \"\"\n      }\n    },\n    {\n      \"column\": \"Embarked\",\n      \"properties\": {\n        \"dtype\": \"category\",\n        \"num_unique_values\": 3,\n        \"samples\": [\n          \"S\",\n          \"C\"\n        ],\n        \"semantic_type\": \"\",\n        \"description\": \"\"\n      }\n    }\n  ]\n}"
            }
          },
          "metadata": {},
          "execution_count": 3
        }
      ]
    },
    {
      "cell_type": "markdown",
      "source": [
        "Dropping all the null columns"
      ],
      "metadata": {
        "id": "epXxRmDj57I2"
      }
    },
    {
      "cell_type": "code",
      "source": [
        "titanic_df = titanic_df.dropna(subset=['Age'])\n",
        "titanic_df.describe()"
      ],
      "metadata": {
        "colab": {
          "base_uri": "https://localhost:8080/",
          "height": 300
        },
        "id": "J4_3OWfV42S7",
        "outputId": "61862029-bc89-4ece-e35d-3af17045bc6b"
      },
      "execution_count": null,
      "outputs": [
        {
          "output_type": "execute_result",
          "data": {
            "text/plain": [
              "       PassengerId    Survived      Pclass         Age       SibSp  \\\n",
              "count   714.000000  714.000000  714.000000  714.000000  714.000000   \n",
              "mean    448.582633    0.406162    2.236695   29.699118    0.512605   \n",
              "std     259.119524    0.491460    0.838250   14.526497    0.929783   \n",
              "min       1.000000    0.000000    1.000000    0.420000    0.000000   \n",
              "25%     222.250000    0.000000    1.000000   20.125000    0.000000   \n",
              "50%     445.000000    0.000000    2.000000   28.000000    0.000000   \n",
              "75%     677.750000    1.000000    3.000000   38.000000    1.000000   \n",
              "max     891.000000    1.000000    3.000000   80.000000    5.000000   \n",
              "\n",
              "            Parch        Fare  \n",
              "count  714.000000  714.000000  \n",
              "mean     0.431373   34.694514  \n",
              "std      0.853289   52.918930  \n",
              "min      0.000000    0.000000  \n",
              "25%      0.000000    8.050000  \n",
              "50%      0.000000   15.741700  \n",
              "75%      1.000000   33.375000  \n",
              "max      6.000000  512.329200  "
            ],
            "text/html": [
              "\n",
              "  <div id=\"df-d48ba77f-ade8-4e2f-a19a-d7f2c4efde96\" class=\"colab-df-container\">\n",
              "    <div>\n",
              "<style scoped>\n",
              "    .dataframe tbody tr th:only-of-type {\n",
              "        vertical-align: middle;\n",
              "    }\n",
              "\n",
              "    .dataframe tbody tr th {\n",
              "        vertical-align: top;\n",
              "    }\n",
              "\n",
              "    .dataframe thead th {\n",
              "        text-align: right;\n",
              "    }\n",
              "</style>\n",
              "<table border=\"1\" class=\"dataframe\">\n",
              "  <thead>\n",
              "    <tr style=\"text-align: right;\">\n",
              "      <th></th>\n",
              "      <th>PassengerId</th>\n",
              "      <th>Survived</th>\n",
              "      <th>Pclass</th>\n",
              "      <th>Age</th>\n",
              "      <th>SibSp</th>\n",
              "      <th>Parch</th>\n",
              "      <th>Fare</th>\n",
              "    </tr>\n",
              "  </thead>\n",
              "  <tbody>\n",
              "    <tr>\n",
              "      <th>count</th>\n",
              "      <td>714.000000</td>\n",
              "      <td>714.000000</td>\n",
              "      <td>714.000000</td>\n",
              "      <td>714.000000</td>\n",
              "      <td>714.000000</td>\n",
              "      <td>714.000000</td>\n",
              "      <td>714.000000</td>\n",
              "    </tr>\n",
              "    <tr>\n",
              "      <th>mean</th>\n",
              "      <td>448.582633</td>\n",
              "      <td>0.406162</td>\n",
              "      <td>2.236695</td>\n",
              "      <td>29.699118</td>\n",
              "      <td>0.512605</td>\n",
              "      <td>0.431373</td>\n",
              "      <td>34.694514</td>\n",
              "    </tr>\n",
              "    <tr>\n",
              "      <th>std</th>\n",
              "      <td>259.119524</td>\n",
              "      <td>0.491460</td>\n",
              "      <td>0.838250</td>\n",
              "      <td>14.526497</td>\n",
              "      <td>0.929783</td>\n",
              "      <td>0.853289</td>\n",
              "      <td>52.918930</td>\n",
              "    </tr>\n",
              "    <tr>\n",
              "      <th>min</th>\n",
              "      <td>1.000000</td>\n",
              "      <td>0.000000</td>\n",
              "      <td>1.000000</td>\n",
              "      <td>0.420000</td>\n",
              "      <td>0.000000</td>\n",
              "      <td>0.000000</td>\n",
              "      <td>0.000000</td>\n",
              "    </tr>\n",
              "    <tr>\n",
              "      <th>25%</th>\n",
              "      <td>222.250000</td>\n",
              "      <td>0.000000</td>\n",
              "      <td>1.000000</td>\n",
              "      <td>20.125000</td>\n",
              "      <td>0.000000</td>\n",
              "      <td>0.000000</td>\n",
              "      <td>8.050000</td>\n",
              "    </tr>\n",
              "    <tr>\n",
              "      <th>50%</th>\n",
              "      <td>445.000000</td>\n",
              "      <td>0.000000</td>\n",
              "      <td>2.000000</td>\n",
              "      <td>28.000000</td>\n",
              "      <td>0.000000</td>\n",
              "      <td>0.000000</td>\n",
              "      <td>15.741700</td>\n",
              "    </tr>\n",
              "    <tr>\n",
              "      <th>75%</th>\n",
              "      <td>677.750000</td>\n",
              "      <td>1.000000</td>\n",
              "      <td>3.000000</td>\n",
              "      <td>38.000000</td>\n",
              "      <td>1.000000</td>\n",
              "      <td>1.000000</td>\n",
              "      <td>33.375000</td>\n",
              "    </tr>\n",
              "    <tr>\n",
              "      <th>max</th>\n",
              "      <td>891.000000</td>\n",
              "      <td>1.000000</td>\n",
              "      <td>3.000000</td>\n",
              "      <td>80.000000</td>\n",
              "      <td>5.000000</td>\n",
              "      <td>6.000000</td>\n",
              "      <td>512.329200</td>\n",
              "    </tr>\n",
              "  </tbody>\n",
              "</table>\n",
              "</div>\n",
              "    <div class=\"colab-df-buttons\">\n",
              "\n",
              "  <div class=\"colab-df-container\">\n",
              "    <button class=\"colab-df-convert\" onclick=\"convertToInteractive('df-d48ba77f-ade8-4e2f-a19a-d7f2c4efde96')\"\n",
              "            title=\"Convert this dataframe to an interactive table.\"\n",
              "            style=\"display:none;\">\n",
              "\n",
              "  <svg xmlns=\"http://www.w3.org/2000/svg\" height=\"24px\" viewBox=\"0 -960 960 960\">\n",
              "    <path d=\"M120-120v-720h720v720H120Zm60-500h600v-160H180v160Zm220 220h160v-160H400v160Zm0 220h160v-160H400v160ZM180-400h160v-160H180v160Zm440 0h160v-160H620v160ZM180-180h160v-160H180v160Zm440 0h160v-160H620v160Z\"/>\n",
              "  </svg>\n",
              "    </button>\n",
              "\n",
              "  <style>\n",
              "    .colab-df-container {\n",
              "      display:flex;\n",
              "      gap: 12px;\n",
              "    }\n",
              "\n",
              "    .colab-df-convert {\n",
              "      background-color: #E8F0FE;\n",
              "      border: none;\n",
              "      border-radius: 50%;\n",
              "      cursor: pointer;\n",
              "      display: none;\n",
              "      fill: #1967D2;\n",
              "      height: 32px;\n",
              "      padding: 0 0 0 0;\n",
              "      width: 32px;\n",
              "    }\n",
              "\n",
              "    .colab-df-convert:hover {\n",
              "      background-color: #E2EBFA;\n",
              "      box-shadow: 0px 1px 2px rgba(60, 64, 67, 0.3), 0px 1px 3px 1px rgba(60, 64, 67, 0.15);\n",
              "      fill: #174EA6;\n",
              "    }\n",
              "\n",
              "    .colab-df-buttons div {\n",
              "      margin-bottom: 4px;\n",
              "    }\n",
              "\n",
              "    [theme=dark] .colab-df-convert {\n",
              "      background-color: #3B4455;\n",
              "      fill: #D2E3FC;\n",
              "    }\n",
              "\n",
              "    [theme=dark] .colab-df-convert:hover {\n",
              "      background-color: #434B5C;\n",
              "      box-shadow: 0px 1px 3px 1px rgba(0, 0, 0, 0.15);\n",
              "      filter: drop-shadow(0px 1px 2px rgba(0, 0, 0, 0.3));\n",
              "      fill: #FFFFFF;\n",
              "    }\n",
              "  </style>\n",
              "\n",
              "    <script>\n",
              "      const buttonEl =\n",
              "        document.querySelector('#df-d48ba77f-ade8-4e2f-a19a-d7f2c4efde96 button.colab-df-convert');\n",
              "      buttonEl.style.display =\n",
              "        google.colab.kernel.accessAllowed ? 'block' : 'none';\n",
              "\n",
              "      async function convertToInteractive(key) {\n",
              "        const element = document.querySelector('#df-d48ba77f-ade8-4e2f-a19a-d7f2c4efde96');\n",
              "        const dataTable =\n",
              "          await google.colab.kernel.invokeFunction('convertToInteractive',\n",
              "                                                    [key], {});\n",
              "        if (!dataTable) return;\n",
              "\n",
              "        const docLinkHtml = 'Like what you see? Visit the ' +\n",
              "          '<a target=\"_blank\" href=https://colab.research.google.com/notebooks/data_table.ipynb>data table notebook</a>'\n",
              "          + ' to learn more about interactive tables.';\n",
              "        element.innerHTML = '';\n",
              "        dataTable['output_type'] = 'display_data';\n",
              "        await google.colab.output.renderOutput(dataTable, element);\n",
              "        const docLink = document.createElement('div');\n",
              "        docLink.innerHTML = docLinkHtml;\n",
              "        element.appendChild(docLink);\n",
              "      }\n",
              "    </script>\n",
              "  </div>\n",
              "\n",
              "\n",
              "<div id=\"df-043be668-7717-467c-bd7b-80868a923e76\">\n",
              "  <button class=\"colab-df-quickchart\" onclick=\"quickchart('df-043be668-7717-467c-bd7b-80868a923e76')\"\n",
              "            title=\"Suggest charts\"\n",
              "            style=\"display:none;\">\n",
              "\n",
              "<svg xmlns=\"http://www.w3.org/2000/svg\" height=\"24px\"viewBox=\"0 0 24 24\"\n",
              "     width=\"24px\">\n",
              "    <g>\n",
              "        <path d=\"M19 3H5c-1.1 0-2 .9-2 2v14c0 1.1.9 2 2 2h14c1.1 0 2-.9 2-2V5c0-1.1-.9-2-2-2zM9 17H7v-7h2v7zm4 0h-2V7h2v10zm4 0h-2v-4h2v4z\"/>\n",
              "    </g>\n",
              "</svg>\n",
              "  </button>\n",
              "\n",
              "<style>\n",
              "  .colab-df-quickchart {\n",
              "      --bg-color: #E8F0FE;\n",
              "      --fill-color: #1967D2;\n",
              "      --hover-bg-color: #E2EBFA;\n",
              "      --hover-fill-color: #174EA6;\n",
              "      --disabled-fill-color: #AAA;\n",
              "      --disabled-bg-color: #DDD;\n",
              "  }\n",
              "\n",
              "  [theme=dark] .colab-df-quickchart {\n",
              "      --bg-color: #3B4455;\n",
              "      --fill-color: #D2E3FC;\n",
              "      --hover-bg-color: #434B5C;\n",
              "      --hover-fill-color: #FFFFFF;\n",
              "      --disabled-bg-color: #3B4455;\n",
              "      --disabled-fill-color: #666;\n",
              "  }\n",
              "\n",
              "  .colab-df-quickchart {\n",
              "    background-color: var(--bg-color);\n",
              "    border: none;\n",
              "    border-radius: 50%;\n",
              "    cursor: pointer;\n",
              "    display: none;\n",
              "    fill: var(--fill-color);\n",
              "    height: 32px;\n",
              "    padding: 0;\n",
              "    width: 32px;\n",
              "  }\n",
              "\n",
              "  .colab-df-quickchart:hover {\n",
              "    background-color: var(--hover-bg-color);\n",
              "    box-shadow: 0 1px 2px rgba(60, 64, 67, 0.3), 0 1px 3px 1px rgba(60, 64, 67, 0.15);\n",
              "    fill: var(--button-hover-fill-color);\n",
              "  }\n",
              "\n",
              "  .colab-df-quickchart-complete:disabled,\n",
              "  .colab-df-quickchart-complete:disabled:hover {\n",
              "    background-color: var(--disabled-bg-color);\n",
              "    fill: var(--disabled-fill-color);\n",
              "    box-shadow: none;\n",
              "  }\n",
              "\n",
              "  .colab-df-spinner {\n",
              "    border: 2px solid var(--fill-color);\n",
              "    border-color: transparent;\n",
              "    border-bottom-color: var(--fill-color);\n",
              "    animation:\n",
              "      spin 1s steps(1) infinite;\n",
              "  }\n",
              "\n",
              "  @keyframes spin {\n",
              "    0% {\n",
              "      border-color: transparent;\n",
              "      border-bottom-color: var(--fill-color);\n",
              "      border-left-color: var(--fill-color);\n",
              "    }\n",
              "    20% {\n",
              "      border-color: transparent;\n",
              "      border-left-color: var(--fill-color);\n",
              "      border-top-color: var(--fill-color);\n",
              "    }\n",
              "    30% {\n",
              "      border-color: transparent;\n",
              "      border-left-color: var(--fill-color);\n",
              "      border-top-color: var(--fill-color);\n",
              "      border-right-color: var(--fill-color);\n",
              "    }\n",
              "    40% {\n",
              "      border-color: transparent;\n",
              "      border-right-color: var(--fill-color);\n",
              "      border-top-color: var(--fill-color);\n",
              "    }\n",
              "    60% {\n",
              "      border-color: transparent;\n",
              "      border-right-color: var(--fill-color);\n",
              "    }\n",
              "    80% {\n",
              "      border-color: transparent;\n",
              "      border-right-color: var(--fill-color);\n",
              "      border-bottom-color: var(--fill-color);\n",
              "    }\n",
              "    90% {\n",
              "      border-color: transparent;\n",
              "      border-bottom-color: var(--fill-color);\n",
              "    }\n",
              "  }\n",
              "</style>\n",
              "\n",
              "  <script>\n",
              "    async function quickchart(key) {\n",
              "      const quickchartButtonEl =\n",
              "        document.querySelector('#' + key + ' button');\n",
              "      quickchartButtonEl.disabled = true;  // To prevent multiple clicks.\n",
              "      quickchartButtonEl.classList.add('colab-df-spinner');\n",
              "      try {\n",
              "        const charts = await google.colab.kernel.invokeFunction(\n",
              "            'suggestCharts', [key], {});\n",
              "      } catch (error) {\n",
              "        console.error('Error during call to suggestCharts:', error);\n",
              "      }\n",
              "      quickchartButtonEl.classList.remove('colab-df-spinner');\n",
              "      quickchartButtonEl.classList.add('colab-df-quickchart-complete');\n",
              "    }\n",
              "    (() => {\n",
              "      let quickchartButtonEl =\n",
              "        document.querySelector('#df-043be668-7717-467c-bd7b-80868a923e76 button');\n",
              "      quickchartButtonEl.style.display =\n",
              "        google.colab.kernel.accessAllowed ? 'block' : 'none';\n",
              "    })();\n",
              "  </script>\n",
              "</div>\n",
              "\n",
              "    </div>\n",
              "  </div>\n"
            ],
            "application/vnd.google.colaboratory.intrinsic+json": {
              "type": "dataframe",
              "summary": "{\n  \"name\": \"titanic_df\",\n  \"rows\": 8,\n  \"fields\": [\n    {\n      \"column\": \"PassengerId\",\n      \"properties\": {\n        \"dtype\": \"number\",\n        \"std\": 294.1209049179309,\n        \"min\": 1.0,\n        \"max\": 891.0,\n        \"num_unique_values\": 8,\n        \"samples\": [\n          448.5826330532213,\n          445.0,\n          714.0\n        ],\n        \"semantic_type\": \"\",\n        \"description\": \"\"\n      }\n    },\n    {\n      \"column\": \"Survived\",\n      \"properties\": {\n        \"dtype\": \"number\",\n        \"std\": 252.29111059252477,\n        \"min\": 0.0,\n        \"max\": 714.0,\n        \"num_unique_values\": 5,\n        \"samples\": [\n          0.4061624649859944,\n          1.0,\n          0.49145986433537053\n        ],\n        \"semantic_type\": \"\",\n        \"description\": \"\"\n      }\n    },\n    {\n      \"column\": \"Pclass\",\n      \"properties\": {\n        \"dtype\": \"number\",\n        \"std\": 251.77823535620172,\n        \"min\": 0.838249862698379,\n        \"max\": 714.0,\n        \"num_unique_values\": 6,\n        \"samples\": [\n          714.0,\n          2.2366946778711485,\n          3.0\n        ],\n        \"semantic_type\": \"\",\n        \"description\": \"\"\n      }\n    },\n    {\n      \"column\": \"Age\",\n      \"properties\": {\n        \"dtype\": \"number\",\n        \"std\": 242.9056731818781,\n        \"min\": 0.42,\n        \"max\": 714.0,\n        \"num_unique_values\": 8,\n        \"samples\": [\n          29.69911764705882,\n          28.0,\n          714.0\n        ],\n        \"semantic_type\": \"\",\n        \"description\": \"\"\n      }\n    },\n    {\n      \"column\": \"SibSp\",\n      \"properties\": {\n        \"dtype\": \"number\",\n        \"std\": 252.06666841229693,\n        \"min\": 0.0,\n        \"max\": 714.0,\n        \"num_unique_values\": 6,\n        \"samples\": [\n          714.0,\n          0.5126050420168067,\n          5.0\n        ],\n        \"semantic_type\": \"\",\n        \"description\": \"\"\n      }\n    },\n    {\n      \"column\": \"Parch\",\n      \"properties\": {\n        \"dtype\": \"number\",\n        \"std\": 252.02664898218913,\n        \"min\": 0.0,\n        \"max\": 714.0,\n        \"num_unique_values\": 6,\n        \"samples\": [\n          714.0,\n          0.43137254901960786,\n          6.0\n        ],\n        \"semantic_type\": \"\",\n        \"description\": \"\"\n      }\n    },\n    {\n      \"column\": \"Fare\",\n      \"properties\": {\n        \"dtype\": \"number\",\n        \"std\": 278.44343406987986,\n        \"min\": 0.0,\n        \"max\": 714.0,\n        \"num_unique_values\": 8,\n        \"samples\": [\n          34.694514005602244,\n          15.7417,\n          714.0\n        ],\n        \"semantic_type\": \"\",\n        \"description\": \"\"\n      }\n    }\n  ]\n}"
            }
          },
          "metadata": {},
          "execution_count": 4
        }
      ]
    },
    {
      "cell_type": "markdown",
      "source": [
        "The population size is 714"
      ],
      "metadata": {
        "id": "_wNFiLXN-tMK"
      }
    },
    {
      "cell_type": "code",
      "source": [
        "sns.displot(titanic_df['Age'],kde=True,bins=30)"
      ],
      "metadata": {
        "colab": {
          "base_uri": "https://localhost:8080/",
          "height": 523
        },
        "id": "2w0BF6Bv6Hfn",
        "outputId": "7481e0eb-7354-4d80-f779-69792feaee65"
      },
      "execution_count": null,
      "outputs": [
        {
          "output_type": "execute_result",
          "data": {
            "text/plain": [
              "<seaborn.axisgrid.FacetGrid at 0x7fa2fef70640>"
            ]
          },
          "metadata": {},
          "execution_count": 5
        },
        {
          "output_type": "display_data",
          "data": {
            "text/plain": [
              "<Figure size 500x500 with 1 Axes>"
            ],
            "image/png": "[encoded data removed]"
          },
          "metadata": {}
        }
      ]
    },
    {
      "cell_type": "code",
      "source": [
        "population_mean = titanic_df['Age'].mean()"
      ],
      "metadata": {
        "id": "hwd7ree76Nv_"
      },
      "execution_count": null,
      "outputs": []
    },
    {
      "cell_type": "markdown",
      "source": [
        "Lets take a sample of size 300"
      ],
      "metadata": {
        "id": "MNO6uQW2-qDT"
      }
    },
    {
      "cell_type": "code",
      "source": [
        "sample_size = 300\n",
        "sample_df = titanic_df.sample(n=sample_size)\n",
        "sample_mean = sample_df['Age'].mean()\n",
        "sample_df.head(2)"
      ],
      "metadata": {
        "colab": {
          "base_uri": "https://localhost:8080/",
          "height": 112
        },
        "id": "CPQYkoF7-jzv",
        "outputId": "f1285320-f566-4e3f-fce2-e1d62b76b78a"
      },
      "execution_count": null,
      "outputs": [
        {
          "output_type": "execute_result",
          "data": {
            "text/plain": [
              "     PassengerId  Survived  Pclass                       Name   Sex   Age  \\\n",
              "321          322         0       3           Danoff, Mr. Yoto  male  27.0   \n",
              "616          617         0       3  Danbom, Mr. Ernst Gilbert  male  34.0   \n",
              "\n",
              "     SibSp  Parch  Ticket     Fare Cabin Embarked  \n",
              "321      0      0  349219   7.8958   NaN        S  \n",
              "616      1      1  347080  14.4000   NaN        S  "
            ],
            "text/html": [
              "\n",
              "  <div id=\"df-4990b347-cc11-41ac-b854-72e381632cad\" class=\"colab-df-container\">\n",
              "    <div>\n",
              "<style scoped>\n",
              "    .dataframe tbody tr th:only-of-type {\n",
              "        vertical-align: middle;\n",
              "    }\n",
              "\n",
              "    .dataframe tbody tr th {\n",
              "        vertical-align: top;\n",
              "    }\n",
              "\n",
              "    .dataframe thead th {\n",
              "        text-align: right;\n",
              "    }\n",
              "</style>\n",
              "<table border=\"1\" class=\"dataframe\">\n",
              "  <thead>\n",
              "    <tr style=\"text-align: right;\">\n",
              "      <th></th>\n",
              "      <th>PassengerId</th>\n",
              "      <th>Survived</th>\n",
              "      <th>Pclass</th>\n",
              "      <th>Name</th>\n",
              "      <th>Sex</th>\n",
              "      <th>Age</th>\n",
              "      <th>SibSp</th>\n",
              "      <th>Parch</th>\n",
              "      <th>Ticket</th>\n",
              "      <th>Fare</th>\n",
              "      <th>Cabin</th>\n",
              "      <th>Embarked</th>\n",
              "    </tr>\n",
              "  </thead>\n",
              "  <tbody>\n",
              "    <tr>\n",
              "      <th>321</th>\n",
              "      <td>322</td>\n",
              "      <td>0</td>\n",
              "      <td>3</td>\n",
              "      <td>Danoff, Mr. Yoto</td>\n",
              "      <td>male</td>\n",
              "      <td>27.0</td>\n",
              "      <td>0</td>\n",
              "      <td>0</td>\n",
              "      <td>349219</td>\n",
              "      <td>7.8958</td>\n",
              "      <td>NaN</td>\n",
              "      <td>S</td>\n",
              "    </tr>\n",
              "    <tr>\n",
              "      <th>616</th>\n",
              "      <td>617</td>\n",
              "      <td>0</td>\n",
              "      <td>3</td>\n",
              "      <td>Danbom, Mr. Ernst Gilbert</td>\n",
              "      <td>male</td>\n",
              "      <td>34.0</td>\n",
              "      <td>1</td>\n",
              "      <td>1</td>\n",
              "      <td>347080</td>\n",
              "      <td>14.4000</td>\n",
              "      <td>NaN</td>\n",
              "      <td>S</td>\n",
              "    </tr>\n",
              "  </tbody>\n",
              "</table>\n",
              "</div>\n",
              "    <div class=\"colab-df-buttons\">\n",
              "\n",
              "  <div class=\"colab-df-container\">\n",
              "    <button class=\"colab-df-convert\" onclick=\"convertToInteractive('df-4990b347-cc11-41ac-b854-72e381632cad')\"\n",
              "            title=\"Convert this dataframe to an interactive table.\"\n",
              "            style=\"display:none;\">\n",
              "\n",
              "  <svg xmlns=\"http://www.w3.org/2000/svg\" height=\"24px\" viewBox=\"0 -960 960 960\">\n",
              "    <path d=\"M120-120v-720h720v720H120Zm60-500h600v-160H180v160Zm220 220h160v-160H400v160Zm0 220h160v-160H400v160ZM180-400h160v-160H180v160Zm440 0h160v-160H620v160ZM180-180h160v-160H180v160Zm440 0h160v-160H620v160Z\"/>\n",
              "  </svg>\n",
              "    </button>\n",
              "\n",
              "  <style>\n",
              "    .colab-df-container {\n",
              "      display:flex;\n",
              "      gap: 12px;\n",
              "    }\n",
              "\n",
              "    .colab-df-convert {\n",
              "      background-color: #E8F0FE;\n",
              "      border: none;\n",
              "      border-radius: 50%;\n",
              "      cursor: pointer;\n",
              "      display: none;\n",
              "      fill: #1967D2;\n",
              "      height: 32px;\n",
              "      padding: 0 0 0 0;\n",
              "      width: 32px;\n",
              "    }\n",
              "\n",
              "    .colab-df-convert:hover {\n",
              "      background-color: #E2EBFA;\n",
              "      box-shadow: 0px 1px 2px rgba(60, 64, 67, 0.3), 0px 1px 3px 1px rgba(60, 64, 67, 0.15);\n",
              "      fill: #174EA6;\n",
              "    }\n",
              "\n",
              "    .colab-df-buttons div {\n",
              "      margin-bottom: 4px;\n",
              "    }\n",
              "\n",
              "    [theme=dark] .colab-df-convert {\n",
              "      background-color: #3B4455;\n",
              "      fill: #D2E3FC;\n",
              "    }\n",
              "\n",
              "    [theme=dark] .colab-df-convert:hover {\n",
              "      background-color: #434B5C;\n",
              "      box-shadow: 0px 1px 3px 1px rgba(0, 0, 0, 0.15);\n",
              "      filter: drop-shadow(0px 1px 2px rgba(0, 0, 0, 0.3));\n",
              "      fill: #FFFFFF;\n",
              "    }\n",
              "  </style>\n",
              "\n",
              "    <script>\n",
              "      const buttonEl =\n",
              "        document.querySelector('#df-4990b347-cc11-41ac-b854-72e381632cad button.colab-df-convert');\n",
              "      buttonEl.style.display =\n",
              "        google.colab.kernel.accessAllowed ? 'block' : 'none';\n",
              "\n",
              "      async function convertToInteractive(key) {\n",
              "        const element = document.querySelector('#df-4990b347-cc11-41ac-b854-72e381632cad');\n",
              "        const dataTable =\n",
              "          await google.colab.kernel.invokeFunction('convertToInteractive',\n",
              "                                                    [key], {});\n",
              "        if (!dataTable) return;\n",
              "\n",
              "        const docLinkHtml = 'Like what you see? Visit the ' +\n",
              "          '<a target=\"_blank\" href=https://colab.research.google.com/notebooks/data_table.ipynb>data table notebook</a>'\n",
              "          + ' to learn more about interactive tables.';\n",
              "        element.innerHTML = '';\n",
              "        dataTable['output_type'] = 'display_data';\n",
              "        await google.colab.output.renderOutput(dataTable, element);\n",
              "        const docLink = document.createElement('div');\n",
              "        docLink.innerHTML = docLinkHtml;\n",
              "        element.appendChild(docLink);\n",
              "      }\n",
              "    </script>\n",
              "  </div>\n",
              "\n",
              "\n",
              "<div id=\"df-00a4d397-0733-40b8-aed1-48579c09794c\">\n",
              "  <button class=\"colab-df-quickchart\" onclick=\"quickchart('df-00a4d397-0733-40b8-aed1-48579c09794c')\"\n",
              "            title=\"Suggest charts\"\n",
              "            style=\"display:none;\">\n",
              "\n",
              "<svg xmlns=\"http://www.w3.org/2000/svg\" height=\"24px\"viewBox=\"0 0 24 24\"\n",
              "     width=\"24px\">\n",
              "    <g>\n",
              "        <path d=\"M19 3H5c-1.1 0-2 .9-2 2v14c0 1.1.9 2 2 2h14c1.1 0 2-.9 2-2V5c0-1.1-.9-2-2-2zM9 17H7v-7h2v7zm4 0h-2V7h2v10zm4 0h-2v-4h2v4z\"/>\n",
              "    </g>\n",
              "</svg>\n",
              "  </button>\n",
              "\n",
              "<style>\n",
              "  .colab-df-quickchart {\n",
              "      --bg-color: #E8F0FE;\n",
              "      --fill-color: #1967D2;\n",
              "      --hover-bg-color: #E2EBFA;\n",
              "      --hover-fill-color: #174EA6;\n",
              "      --disabled-fill-color: #AAA;\n",
              "      --disabled-bg-color: #DDD;\n",
              "  }\n",
              "\n",
              "  [theme=dark] .colab-df-quickchart {\n",
              "      --bg-color: #3B4455;\n",
              "      --fill-color: #D2E3FC;\n",
              "      --hover-bg-color: #434B5C;\n",
              "      --hover-fill-color: #FFFFFF;\n",
              "      --disabled-bg-color: #3B4455;\n",
              "      --disabled-fill-color: #666;\n",
              "  }\n",
              "\n",
              "  .colab-df-quickchart {\n",
              "    background-color: var(--bg-color);\n",
              "    border: none;\n",
              "    border-radius: 50%;\n",
              "    cursor: pointer;\n",
              "    display: none;\n",
              "    fill: var(--fill-color);\n",
              "    height: 32px;\n",
              "    padding: 0;\n",
              "    width: 32px;\n",
              "  }\n",
              "\n",
              "  .colab-df-quickchart:hover {\n",
              "    background-color: var(--hover-bg-color);\n",
              "    box-shadow: 0 1px 2px rgba(60, 64, 67, 0.3), 0 1px 3px 1px rgba(60, 64, 67, 0.15);\n",
              "    fill: var(--button-hover-fill-color);\n",
              "  }\n",
              "\n",
              "  .colab-df-quickchart-complete:disabled,\n",
              "  .colab-df-quickchart-complete:disabled:hover {\n",
              "    background-color: var(--disabled-bg-color);\n",
              "    fill: var(--disabled-fill-color);\n",
              "    box-shadow: none;\n",
              "  }\n",
              "\n",
              "  .colab-df-spinner {\n",
              "    border: 2px solid var(--fill-color);\n",
              "    border-color: transparent;\n",
              "    border-bottom-color: var(--fill-color);\n",
              "    animation:\n",
              "      spin 1s steps(1) infinite;\n",
              "  }\n",
              "\n",
              "  @keyframes spin {\n",
              "    0% {\n",
              "      border-color: transparent;\n",
              "      border-bottom-color: var(--fill-color);\n",
              "      border-left-color: var(--fill-color);\n",
              "    }\n",
              "    20% {\n",
              "      border-color: transparent;\n",
              "      border-left-color: var(--fill-color);\n",
              "      border-top-color: var(--fill-color);\n",
              "    }\n",
              "    30% {\n",
              "      border-color: transparent;\n",
              "      border-left-color: var(--fill-color);\n",
              "      border-top-color: var(--fill-color);\n",
              "      border-right-color: var(--fill-color);\n",
              "    }\n",
              "    40% {\n",
              "      border-color: transparent;\n",
              "      border-right-color: var(--fill-color);\n",
              "      border-top-color: var(--fill-color);\n",
              "    }\n",
              "    60% {\n",
              "      border-color: transparent;\n",
              "      border-right-color: var(--fill-color);\n",
              "    }\n",
              "    80% {\n",
              "      border-color: transparent;\n",
              "      border-right-color: var(--fill-color);\n",
              "      border-bottom-color: var(--fill-color);\n",
              "    }\n",
              "    90% {\n",
              "      border-color: transparent;\n",
              "      border-bottom-color: var(--fill-color);\n",
              "    }\n",
              "  }\n",
              "</style>\n",
              "\n",
              "  <script>\n",
              "    async function quickchart(key) {\n",
              "      const quickchartButtonEl =\n",
              "        document.querySelector('#' + key + ' button');\n",
              "      quickchartButtonEl.disabled = true;  // To prevent multiple clicks.\n",
              "      quickchartButtonEl.classList.add('colab-df-spinner');\n",
              "      try {\n",
              "        const charts = await google.colab.kernel.invokeFunction(\n",
              "            'suggestCharts', [key], {});\n",
              "      } catch (error) {\n",
              "        console.error('Error during call to suggestCharts:', error);\n",
              "      }\n",
              "      quickchartButtonEl.classList.remove('colab-df-spinner');\n",
              "      quickchartButtonEl.classList.add('colab-df-quickchart-complete');\n",
              "    }\n",
              "    (() => {\n",
              "      let quickchartButtonEl =\n",
              "        document.querySelector('#df-00a4d397-0733-40b8-aed1-48579c09794c button');\n",
              "      quickchartButtonEl.style.display =\n",
              "        google.colab.kernel.accessAllowed ? 'block' : 'none';\n",
              "    })();\n",
              "  </script>\n",
              "</div>\n",
              "\n",
              "    </div>\n",
              "  </div>\n"
            ],
            "application/vnd.google.colaboratory.intrinsic+json": {
              "type": "dataframe",
              "variable_name": "sample_df",
              "summary": "{\n  \"name\": \"sample_df\",\n  \"rows\": 300,\n  \"fields\": [\n    {\n      \"column\": \"PassengerId\",\n      \"properties\": {\n        \"dtype\": \"number\",\n        \"std\": 262,\n        \"min\": 1,\n        \"max\": 891,\n        \"num_unique_values\": 300,\n        \"samples\": [\n          1,\n          223,\n          598\n        ],\n        \"semantic_type\": \"\",\n        \"description\": \"\"\n      }\n    },\n    {\n      \"column\": \"Survived\",\n      \"properties\": {\n        \"dtype\": \"number\",\n        \"std\": 0,\n        \"min\": 0,\n        \"max\": 1,\n        \"num_unique_values\": 2,\n        \"samples\": [\n          1,\n          0\n        ],\n        \"semantic_type\": \"\",\n        \"description\": \"\"\n      }\n    },\n    {\n      \"column\": \"Pclass\",\n      \"properties\": {\n        \"dtype\": \"number\",\n        \"std\": 0,\n        \"min\": 1,\n        \"max\": 3,\n        \"num_unique_values\": 3,\n        \"samples\": [\n          3,\n          2\n        ],\n        \"semantic_type\": \"\",\n        \"description\": \"\"\n      }\n    },\n    {\n      \"column\": \"Name\",\n      \"properties\": {\n        \"dtype\": \"string\",\n        \"num_unique_values\": 300,\n        \"samples\": [\n          \"Braund, Mr. Owen Harris\",\n          \"Green, Mr. George Henry\"\n        ],\n        \"semantic_type\": \"\",\n        \"description\": \"\"\n      }\n    },\n    {\n      \"column\": \"Sex\",\n      \"properties\": {\n        \"dtype\": \"category\",\n        \"num_unique_values\": 2,\n        \"samples\": [\n          \"female\",\n          \"male\"\n        ],\n        \"semantic_type\": \"\",\n        \"description\": \"\"\n      }\n    },\n    {\n      \"column\": \"Age\",\n      \"properties\": {\n        \"dtype\": \"number\",\n        \"std\": 13.825781815483873,\n        \"min\": 0.42,\n        \"max\": 71.0,\n        \"num_unique_values\": 71,\n        \"samples\": [\n          56.0,\n          27.0\n        ],\n        \"semantic_type\": \"\",\n        \"description\": \"\"\n      }\n    },\n    {\n      \"column\": \"SibSp\",\n      \"properties\": {\n        \"dtype\": \"number\",\n        \"std\": 0,\n        \"min\": 0,\n        \"max\": 5,\n        \"num_unique_values\": 6,\n        \"samples\": [\n          0,\n          1\n        ],\n        \"semantic_type\": \"\",\n        \"description\": \"\"\n      }\n    },\n    {\n      \"column\": \"Parch\",\n      \"properties\": {\n        \"dtype\": \"number\",\n        \"std\": 0,\n        \"min\": 0,\n        \"max\": 6,\n        \"num_unique_values\": 7,\n        \"samples\": [\n          0,\n          1\n        ],\n        \"semantic_type\": \"\",\n        \"description\": \"\"\n      }\n    },\n    {\n      \"column\": \"Ticket\",\n      \"properties\": {\n        \"dtype\": \"string\",\n        \"num_unique_values\": 257,\n        \"samples\": [\n          \"363294\",\n          \"349251\"\n        ],\n        \"semantic_type\": \"\",\n        \"description\": \"\"\n      }\n    },\n    {\n      \"column\": \"Fare\",\n      \"properties\": {\n        \"dtype\": \"number\",\n        \"std\": 38.08413750647321,\n        \"min\": 0.0,\n        \"max\": 263.0,\n        \"num_unique_values\": 140,\n        \"samples\": [\n          65.0,\n          151.55\n        ],\n        \"semantic_type\": \"\",\n        \"description\": \"\"\n      }\n    },\n    {\n      \"column\": \"Cabin\",\n      \"properties\": {\n        \"dtype\": \"category\",\n        \"num_unique_values\": 65,\n        \"samples\": [\n          \"B30\",\n          \"F G63\"\n        ],\n        \"semantic_type\": \"\",\n        \"description\": \"\"\n      }\n    },\n    {\n      \"column\": \"Embarked\",\n      \"properties\": {\n        \"dtype\": \"category\",\n        \"num_unique_values\": 3,\n        \"samples\": [\n          \"S\",\n          \"C\"\n        ],\n        \"semantic_type\": \"\",\n        \"description\": \"\"\n      }\n    }\n  ]\n}"
            }
          },
          "metadata": {},
          "execution_count": 7
        }
      ]
    },
    {
      "cell_type": "code",
      "source": [
        "Z = stats.norm.ppf(q=0.975)\n",
        "std_dev = sample_df['Age'].std()\n",
        "margin_of_error = Z * (std_dev / math.sqrt(sample_size))"
      ],
      "metadata": {
        "id": "VZymRgQ6_UO4"
      },
      "execution_count": null,
      "outputs": []
    },
    {
      "cell_type": "code",
      "source": [
        "lower_bound = int(sample_mean - margin_of_error)\n",
        "upper_bound = int(sample_mean + margin_of_error)\n",
        "print(lower_bound,upper_bound)"
      ],
      "metadata": {
        "colab": {
          "base_uri": "https://localhost:8080/"
        },
        "id": "IY-JqV2k-lh8",
        "outputId": "66b0d8cb-2b46-4983-a7e5-0e7f539a9850"
      },
      "execution_count": null,
      "outputs": [
        {
          "output_type": "stream",
          "name": "stdout",
          "text": [
            "28 31\n"
          ]
        }
      ]
    },
    {
      "cell_type": "markdown",
      "source": [
        "According to this experiment we are 95% confident that the population mean age will lie between 28 and 31"
      ],
      "metadata": {
        "id": "SZB2bgKCAQ4-"
      }
    },
    {
      "cell_type": "markdown",
      "source": [
        "Lets repeat this experiment for 500 samples and see for how many samples,the population means lies in the confidence interval of that sample"
      ],
      "metadata": {
        "id": "JgZf8Rg2aUv-"
      }
    },
    {
      "cell_type": "code",
      "source": [
        "def get_confidence_interval(df,sample_size,conf_interval):\n",
        "  sample_df = df.sample(n = sample_size)\n",
        "  sample_mean = sample_df['Age'].mean()\n",
        "  Z = stats.norm.ppf(q=(1 + conf_interval)/2)\n",
        "  std_dev = sample_df['Age'].std()\n",
        "  margin_of_error = Z * (std_dev / math.sqrt(sample_size))\n",
        "  lower_bound = int(sample_mean - margin_of_error)\n",
        "  upper_bound = int(sample_mean + margin_of_error)\n",
        "  return (lower_bound,upper_bound)"
      ],
      "metadata": {
        "id": "2dQ4x67m--30"
      },
      "execution_count": null,
      "outputs": []
    },
    {
      "cell_type": "code",
      "source": [
        "def get_confidence_interval_percentage(population_mean,conf_interval):\n",
        "  population_mean_age = int(population_mean)\n",
        "  confidence_intervals = []\n",
        "  in_between = []\n",
        "  for i in range(0,10):\n",
        "    confidence_interval = get_confidence_interval(titanic_df,300,conf_interval)\n",
        "    lower_bound , upper_bound = confidence_interval\n",
        "    confidence_intervals.append(confidence_interval)\n",
        "    if population_mean_age >= lower_bound and population_mean_age <= upper_bound:\n",
        "      in_between.append(1)\n",
        "    else:\n",
        "      in_between.append(0)\n",
        "  correct_intervals = np.sum(in_between)\n",
        "  percentage_correct = (correct_intervals / len(in_between)) * 100\n",
        "  print(f\"{percentage_correct:.2f}% of intervals contain the population age mean for confidence interval {conf_interval}\")"
      ],
      "metadata": {
        "id": "RyOoKQCLBLg0"
      },
      "execution_count": null,
      "outputs": []
    },
    {
      "cell_type": "markdown",
      "source": [
        "Now lets see how many confidence intervals actually contain the population mean"
      ],
      "metadata": {
        "id": "x45Aq8-2CDH9"
      }
    },
    {
      "cell_type": "code",
      "source": [
        "conf_ints = [0.15,0.25,0.45,0.55,0.75,0.85,0.95]\n",
        "for interval in conf_ints:\n",
        "  get_confidence_interval_percentage(population_mean,interval)"
      ],
      "metadata": {
        "colab": {
          "base_uri": "https://localhost:8080/"
        },
        "id": "nYrcPjp7B_4b",
        "outputId": "f6762801-4d2c-4d1c-be3f-9e316718509b"
      },
      "execution_count": null,
      "outputs": [
        {
          "output_type": "stream",
          "name": "stdout",
          "text": [
            "60.00% of intervals contain the population age mean for confidence interval 0.15\n",
            "80.00% of intervals contain the population age mean for confidence interval 0.25\n",
            "90.00% of intervals contain the population age mean for confidence interval 0.45\n",
            "70.00% of intervals contain the population age mean for confidence interval 0.55\n",
            "100.00% of intervals contain the population age mean for confidence interval 0.75\n",
            "100.00% of intervals contain the population age mean for confidence interval 0.85\n",
            "100.00% of intervals contain the population age mean for confidence interval 0.95\n"
          ]
        }
      ]
    },
    {
      "cell_type": "markdown",
      "source": [
        "##Parametric Tests\n",
        "\n",
        "Parametric tests assume that the data come from populations that follow a specific probability distribution (typically the normal distribution) and have certain characteristics (e.g., homogeneity of variances)."
      ],
      "metadata": {
        "id": "-bIwgg0dmUj5"
      }
    },
    {
      "cell_type": "markdown",
      "source": [
        "### **Hypothesis Testing**\n",
        "![image.png](data:image/png;base64,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)"
      ],
      "metadata": {
        "id": "tjPlMg7d2T4s"
      }
    },
    {
      "cell_type": "markdown",
      "source": [
        "#### Z-Test\n",
        "\n",
        "![image.png](data:image/png;base64,iVBORw0KGgoAAAANSUhEUgAAANEAAACICAIAAAD22ZmHAAAKXklEQVR4Ae2dT2gUVxzH57CQg+BByGGhN29i7cH2IOSwEtiDhR4CgUpJKDmuoIg1KIhbKa31TwVto6IGPJSEpqbgocXIyh6qVZRSLImh1EMxiQeFNu4GVJZhyvx5b2fevJmdnX3vzczONwedP2/e773v++x7b37vz2gG/qCAWgU0teZgDQoYYA4QqFYAzKlWHPbAHBhQrQCYU6047IE5MKBaATCnWnHYA3NgQLUCYE614rAH5sCAagXAnGrFYQ/MgQHVCoA51YrDHpgDA6oVAHOqFYc9MAcGVCsA5lQrDntgDgyoVgDMqVYc9sAcGFCtAJhTrTjsgTkwoFoBMKdacdgDc2BAtQJgTrXisAfmwIBqBcBcHMU1cX9xzGf8GTAXpwDFIZdH/fOY5ziU4RlxCoA5cVoipmgKgLloOiGUOAXAnDgtEVM0BcBcNJ0QSpwCYE6clogpmgJgLppOCCVOATAnTkvEFE0BMBdNp4BQ+urM9IGi5SIul2aXX3iCtZpL577+eJN5t3h0al333BR0oi9Xypb5wuE7zz1xtl7dHrZSVixeWW55biV8AuZ6KIDmzOmhgmtM4sPRB/+R6DbWFvaU6L3ydF0Kcq/+urzVMrKztPCSmLb/D7nlDaj8DMzFlVx/OD++qTB2vdbQ9ZXqhFWlkMqm1VzaP25Xf/xKKK5R9rmndw5ttiyMVpZfe2+SW9KqWK+5Ls7AXBdieYI2arPDlerKW+uip4D11fNHzPrPbG0beu3a7gFZrZtemx62Klp/Pbo+Nem0+ZKqWI8YXZ2Aua7kCgpMO0+jlaWl+fFNWnGisrQeFFrU9eDOnBFyS5T12PGAudjSeR6kZWy2dKHAeUJa7WKEf/zdNcMwKOj+t4T0duYMA98k8ZDTwwlt5kKBM4x2DRQBNRqEyxxp0LXgzhznVg95FPQo6jlBQhqEAH/XSpQFJp425T5HTIo7c6jnmGKMfer2jPhrndjRhj5IwCIvyzQwbXM13y0aJskD1HO9q28DVxwc+chyyHHbwd6tMDFQsHydOVr/aWpSwiSs8ymY66xRaAinhitMzD/713ZP+CAIfT7uzaC3hI3VHz4gnkFVNW6XeQBzXQpmBrfKuzxdbz27/9U2s4BLn0+tvjX8XTr94czeY+dlOE34lZn5AxgqjB0/bqWKeoP1xfrlRe+4XIxcC3sEzMWQkrwu2K+V7RdV2t5t3zH3j248X764ozBUtXCMYSX0EdKZ07Ti4MkHJk/64sOLpZJWHr799xN7QKy4z3RZN2o/Hihq9nFolMpugrnupW7XMZpmlvFqewS9jYLFYxvH7q2EPhHg5Nu+7dKfLwydjO4TV0vpaPWJdAd1aHo9N8GcR45IJwSswtg3vnZzY+3up85Iq8SSJp258snZ74ftmQSFsdPVe2sO/frj2iFn5Kt0YaHekDK/IJJWvEBgjqdK2q85jXs6XSEdxQNzHSVKXwCnolXzgiw++2BOvKayYySdOTAnW2nE7yhA347BHJhQpAD11IA5wzDWquPk9bzz/9Rjqaio+sYMHdtN6dBWR6EF9udond+ZN03TChPzj9P1Ct9RKwQQo4BA5ojTyBwLmtx/n/iKaDrbTiPNXkZA70Q++P3GJwORiI4SaOuZubYzN3ISELBnBQQyR/oZ/GGWlUdfvuOQ4IxOxkg7mIshWuoeEcdca+6MuezNvd6O5tYceXQmO/CJpCHDD8BcuD7ZuCuOOesFgtdLc82ukTb+mA2xkUpLAXHM8QWlL1m+4XB++JRejdI/zFyYpLSWypx7abE5vSe7XfbM8RQlwX3IHF3drmn2HJuk8ijAbpQizFwYAbrEikJWPUfWspurPQc/W1iEKy5W8fTlQ3KYa/581d6PCL7fvqSmt0xJYM7aPMZuaOL6foPy1N++klZz8fLZs8euOJuLMW11Vke6/GUpmjnXYANZmeI3GvtKvzK3sfbbwcOebcUY4DQtlSvy4xWkWOZE+X6D8tKPzNlrZGzGSpOVa7fqDd2aIUcW1wSJkdnrApnr6Pu1B8dSuugymRJs90O8b1rOTOD+1EoUcx19v63mg73mahFMYWrTTX+lXuDMhYP2xnJZnSHXziLvSAhzbt+vd+0dNUm3QVW2hQw1ndoDumbR/zukt/pRLgHMdfL9urZy1rSBU4/epBYCtQkLW9ZAljNqYI5TKLQC879pca70zws/R4ruLtEprpxOG8ExpRsrdZdRX+he6zmqDgcwziWOvr4k5eQCneLq14Ti2J8/0V6ZywkgErJJwfIx19edOex5KIGl6FHyHSL0ZZY7+zV67OkNiXouwbJxHEyFse9mzK3EDKNRv3XC3sZrfO+959md+hWuKZgL10f2XXOMddbmzO7+kqEI2YYTjB/MJSh+Tk2DuZwWfILZBnMJip9T02AupwWfYLbBXILi59Q0mMtpwSeYbTCXoPg5NQ3mclrwCWYbzCUofk5NgzmJBc+ZWCPtksRsiI4azIlW1BWfNMA4EbvMpv0QzKW9hPovfWCu/8o07TkCc2kvof5LH5hLSZnSacOcvlqUSynJRpRkgLkoKikIQ3ZjjsIXL4yCJIoyAeZEKdlbPOtThwvvlhZe9hZLNp4Gc6koJ2v5nG8xTiqSJj4RYE68pt3HSD62no+dIcFc94QIf0KvXds9ULyy3K+LbhjBwBwjSAKnuWpYsb41AcJ8Jk0vSaFwZGo9Hy2rYaCe8zGg+oLpJcnoV87jSQXm4ukm7imul6RRX7hQMrfr08ql2eUXtrX2xYCv+IlLlNSYwJxUeTtGzmlYXZ85sJ2/pg/FdzHDu0eCuY5YSA1gekk8DWtz5tSugcGDN8iuwpqm7Rz69tLke5u3nfil3tANg34hMqv+PDAnFSkr8kb91vXRscJIZfk1a4zjJdlY+elX+xMurn3W3B8SCtlEjI0+nedgTma5OD2wnbt2mZ869tRnltlQLwkd9Wc2UCfMZXYLTjAnkzl98e4XN+sNun/3vuqKtf+SYzN8+IGwxew2THan8xMsMyci4wZzItUMjMvZk5/ZB/1p7eCWwOGHILacXesyvAUnmAvkROgN0lC6Ky2ul4RaddhiMCXxZPmzOGCOFrLkA6feogxxvCSuFASxRabZZbYzh7EvVylLPyQYlc7NNXXDCB9+iNiZazX+uGk5UKSnXqAB1HMCxewUlfNdA6srpteuvr8lcJIm6cyx34cg342wXiDerC3sKWnZ+wA4mOsEisj7ZH/q8vTSUmU4ZFyf35mj32Sik9NdI2Mi0yk3LjAnV182dgem0sjIIFuHtYOSVljzv5y2mk+q9lc3C2Onq/fWsjjlDsy1i1rJEemoafRlQonZNBkBc8pLw6nqsjpa2rteYK53DbuNwRqkz7Kzo9sMM+HBHCMITqUrAOakSwwDjAJgjhEEp9IVAHPSJYYBRgEwxwiCU+kKgDnpEsMAowCYYwTBqXQFwJx0iWGAUQDMMYLgVLoCYE66xDDAKADmGEFwKl0BMCddYhhgFABzjCA4la4AmJMuMQwwCoA5RhCcSlcAzEmXGAYYBf4HCCbLidaR26oAAAAASUVORK5CYII=)"
      ],
      "metadata": {
        "id": "pMF1FFQ6250L"
      }
    },
    {
      "cell_type": "markdown",
      "source": [
        "Let us conduct a Z-test with a null hypothesis that the average age of a titanic passenger is 26"
      ],
      "metadata": {
        "id": "cEAljqUa5e8x"
      }
    },
    {
      "cell_type": "code",
      "source": [
        "titanic_df = pd.read_csv(\"https://raw.githubusercontent.com/datasciencedojo/datasets/master/titanic.csv\")\n",
        "titanic_df = titanic_df.dropna(subset=['Age'])"
      ],
      "metadata": {
        "id": "96CyTirc5vO2"
      },
      "execution_count": null,
      "outputs": []
    },
    {
      "cell_type": "markdown",
      "source": [
        "We are taking a sample of 50 passengers"
      ],
      "metadata": {
        "id": "wCfkwEqw7kKc"
      }
    },
    {
      "cell_type": "code",
      "source": [
        "sample_size = 50\n",
        "sample_df = titanic_df.sample(n=sample_size)\n",
        "sample_mean = titanic_df['Age'].mean()"
      ],
      "metadata": {
        "id": "oiIFo-X27nLD"
      },
      "execution_count": null,
      "outputs": []
    },
    {
      "cell_type": "code",
      "source": [
        "std_dev = titanic_df['Age'].std()\n",
        "population_mean = 26"
      ],
      "metadata": {
        "id": "UuyKnnJe5vO2"
      },
      "execution_count": null,
      "outputs": []
    },
    {
      "cell_type": "markdown",
      "source": [
        "With a confidence interval of 0.95 the Z value should lie between -1.96 and +1.96"
      ],
      "metadata": {
        "id": "kCaP4oab7636"
      }
    },
    {
      "cell_type": "code",
      "source": [
        "Z_value = (sample_mean - population_mean) / (std_dev / math.sqrt(sample_size))\n",
        "Z_value"
      ],
      "metadata": {
        "colab": {
          "base_uri": "https://localhost:8080/"
        },
        "id": "Juh5U7IB73BF",
        "outputId": "832b76b6-467c-41e2-90b9-c0e281d9f303"
      },
      "execution_count": null,
      "outputs": [
        {
          "output_type": "execute_result",
          "data": {
            "text/plain": [
              "1.800620695272482"
            ]
          },
          "metadata": {},
          "execution_count": 16
        }
      ]
    },
    {
      "cell_type": "markdown",
      "source": [
        "Since the Z value is between -1.96 and +1.96 , we fail to reject the null hypothesis"
      ],
      "metadata": {
        "id": "EnhFL_298SIg"
      }
    },
    {
      "cell_type": "markdown",
      "source": [
        "#### T-Test\n",
        "![image.png](data:image/png;base64,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)"
      ],
      "metadata": {
        "id": "ddvPPlrI8fz_"
      }
    },
    {
      "cell_type": "markdown",
      "source": [
        "Degree of freedom = n-1\n",
        "\n",
        "In T test we don't have the std deviation of the population\n",
        "\n",
        "Let us conduct a T-test with a null hypothesis that the average age of a titanic passenger is 26"
      ],
      "metadata": {
        "id": "4Zc-WJ5LF4K1"
      }
    },
    {
      "cell_type": "code",
      "source": [
        "titanic_df = pd.read_csv(\"https://raw.githubusercontent.com/datasciencedojo/datasets/master/titanic.csv\")\n",
        "titanic_df = titanic_df.dropna(subset=['Age'])"
      ],
      "metadata": {
        "id": "jRfjDCJE8O0j"
      },
      "execution_count": null,
      "outputs": []
    },
    {
      "cell_type": "markdown",
      "source": [
        "T value for 95% confidence interval is 2.045\n"
      ],
      "metadata": {
        "id": "23qUbknQG0VK"
      }
    },
    {
      "cell_type": "code",
      "source": [
        "sample_size = 20\n",
        "sample_df = titanic_df.sample(n=sample_size)\n",
        "sample_mean = titanic_df['Age'].mean()\n",
        "std_dev = sample_df['Age'].std()\n",
        "population_mean = 26\n",
        "T_value = (sample_mean - population_mean) / (std_dev / math.sqrt(sample_size))\n",
        "T_value"
      ],
      "metadata": {
        "colab": {
          "base_uri": "https://localhost:8080/"
        },
        "id": "w7i2DIrFFlWn",
        "outputId": "2db000ee-40c0-4eed-c360-5d12d8846521"
      },
      "execution_count": null,
      "outputs": [
        {
          "output_type": "execute_result",
          "data": {
            "text/plain": [
              "1.393106554584822"
            ]
          },
          "metadata": {},
          "execution_count": 18
        }
      ]
    },
    {
      "cell_type": "markdown",
      "source": [
        "Therefore, we fail to reject the null hypothesis"
      ],
      "metadata": {
        "id": "QDLS9P9SIc2R"
      }
    },
    {
      "cell_type": "markdown",
      "source": [
        "#### ANOVA TEST\n",
        "\n",
        "ANOVA, or Analysis of Variance, is a statistical test used to compare the means of three or more groups to determine if they are significantly different from each other.\n",
        "\n",
        "Assumption :\n",
        "* The data within each group or population should be normally distributed. Departures from normality can affect the accuracy of the test.\n",
        "\n",
        "* absence of outliers\n",
        "* Homogenity of variance : each population has same variance , the population variance in different levels of each indivdiual variable is same\n",
        "* samples are independent and random\n",
        "\n",
        "Types of ANOVA:\n",
        "* One way ANOVA: One factor with atleast 2 levels which are independent\n",
        "* Repeated measure ANOVA: One factor with atleast 2 levels are dependent\n",
        "* Factorial ANOVA: two or more factors (each with atleast 2 levels) each of which can be independent or dependent\n",
        "\n",
        "It is performed on F distribution\n",
        "\n",
        "* Null Hypothesis : The population means of all groups are equal.\n",
        "* Alternative Hypothesis : At least one of the population means of the groups is different"
      ],
      "metadata": {
        "id": "NARoRlkXRYEW"
      }
    },
    {
      "cell_type": "markdown",
      "source": [
        "Lets us conduct an ANOVA test to find out whether there is a relation between fare and survival\n",
        "\n",
        "Null Hypothesis : Mean fare for survived and not survivied are equal\n",
        "\n",
        "Alternate Hypothesis : Mean is different"
      ],
      "metadata": {
        "id": "fBL8MmDjImbN"
      }
    },
    {
      "cell_type": "code",
      "source": [
        "titanic_df = pd.read_csv(\"https://raw.githubusercontent.com/datasciencedojo/datasets/master/titanic.csv\")\n",
        "titanic_df.head(5)"
      ],
      "metadata": {
        "colab": {
          "base_uri": "https://localhost:8080/",
          "height": 206
        },
        "outputId": "03f34e3b-f024-41e9-8502-87f49fb92e9a",
        "id": "f820_zIGMP62"
      },
      "execution_count": null,
      "outputs": [
        {
          "output_type": "execute_result",
          "data": {
            "text/plain": [
              "   PassengerId  Survived  Pclass  \\\n",
              "0            1         0       3   \n",
              "1            2         1       1   \n",
              "2            3         1       3   \n",
              "3            4         1       1   \n",
              "4            5         0       3   \n",
              "\n",
              "                                                Name     Sex   Age  SibSp  \\\n",
              "0                            Braund, Mr. Owen Harris    male  22.0      1   \n",
              "1  Cumings, Mrs. John Bradley (Florence Briggs Th...  female  38.0      1   \n",
              "2                             Heikkinen, Miss. Laina  female  26.0      0   \n",
              "3       Futrelle, Mrs. Jacques Heath (Lily May Peel)  female  35.0      1   \n",
              "4                           Allen, Mr. William Henry    male  35.0      0   \n",
              "\n",
              "   Parch            Ticket     Fare Cabin Embarked  \n",
              "0      0         A/5 21171   7.2500   NaN        S  \n",
              "1      0          PC 17599  71.2833   C85        C  \n",
              "2      0  STON/O2. 3101282   7.9250   NaN        S  \n",
              "3      0            113803  53.1000  C123        S  \n",
              "4      0            373450   8.0500   NaN        S  "
            ],
            "text/html": [
              "\n",
              "  <div id=\"df-edcb34dc-a31d-463f-bf02-2ca9dc9aa51d\" class=\"colab-df-container\">\n",
              "    <div>\n",
              "<style scoped>\n",
              "    .dataframe tbody tr th:only-of-type {\n",
              "        vertical-align: middle;\n",
              "    }\n",
              "\n",
              "    .dataframe tbody tr th {\n",
              "        vertical-align: top;\n",
              "    }\n",
              "\n",
              "    .dataframe thead th {\n",
              "        text-align: right;\n",
              "    }\n",
              "</style>\n",
              "<table border=\"1\" class=\"dataframe\">\n",
              "  <thead>\n",
              "    <tr style=\"text-align: right;\">\n",
              "      <th></th>\n",
              "      <th>PassengerId</th>\n",
              "      <th>Survived</th>\n",
              "      <th>Pclass</th>\n",
              "      <th>Name</th>\n",
              "      <th>Sex</th>\n",
              "      <th>Age</th>\n",
              "      <th>SibSp</th>\n",
              "      <th>Parch</th>\n",
              "      <th>Ticket</th>\n",
              "      <th>Fare</th>\n",
              "      <th>Cabin</th>\n",
              "      <th>Embarked</th>\n",
              "    </tr>\n",
              "  </thead>\n",
              "  <tbody>\n",
              "    <tr>\n",
              "      <th>0</th>\n",
              "      <td>1</td>\n",
              "      <td>0</td>\n",
              "      <td>3</td>\n",
              "      <td>Braund, Mr. Owen Harris</td>\n",
              "      <td>male</td>\n",
              "      <td>22.0</td>\n",
              "      <td>1</td>\n",
              "      <td>0</td>\n",
              "      <td>A/5 21171</td>\n",
              "      <td>7.2500</td>\n",
              "      <td>NaN</td>\n",
              "      <td>S</td>\n",
              "    </tr>\n",
              "    <tr>\n",
              "      <th>1</th>\n",
              "      <td>2</td>\n",
              "      <td>1</td>\n",
              "      <td>1</td>\n",
              "      <td>Cumings, Mrs. John Bradley (Florence Briggs Th...</td>\n",
              "      <td>female</td>\n",
              "      <td>38.0</td>\n",
              "      <td>1</td>\n",
              "      <td>0</td>\n",
              "      <td>PC 17599</td>\n",
              "      <td>71.2833</td>\n",
              "      <td>C85</td>\n",
              "      <td>C</td>\n",
              "    </tr>\n",
              "    <tr>\n",
              "      <th>2</th>\n",
              "      <td>3</td>\n",
              "      <td>1</td>\n",
              "      <td>3</td>\n",
              "      <td>Heikkinen, Miss. Laina</td>\n",
              "      <td>female</td>\n",
              "      <td>26.0</td>\n",
              "      <td>0</td>\n",
              "      <td>0</td>\n",
              "      <td>STON/O2. 3101282</td>\n",
              "      <td>7.9250</td>\n",
              "      <td>NaN</td>\n",
              "      <td>S</td>\n",
              "    </tr>\n",
              "    <tr>\n",
              "      <th>3</th>\n",
              "      <td>4</td>\n",
              "      <td>1</td>\n",
              "      <td>1</td>\n",
              "      <td>Futrelle, Mrs. Jacques Heath (Lily May Peel)</td>\n",
              "      <td>female</td>\n",
              "      <td>35.0</td>\n",
              "      <td>1</td>\n",
              "      <td>0</td>\n",
              "      <td>113803</td>\n",
              "      <td>53.1000</td>\n",
              "      <td>C123</td>\n",
              "      <td>S</td>\n",
              "    </tr>\n",
              "    <tr>\n",
              "      <th>4</th>\n",
              "      <td>5</td>\n",
              "      <td>0</td>\n",
              "      <td>3</td>\n",
              "      <td>Allen, Mr. William Henry</td>\n",
              "      <td>male</td>\n",
              "      <td>35.0</td>\n",
              "      <td>0</td>\n",
              "      <td>0</td>\n",
              "      <td>373450</td>\n",
              "      <td>8.0500</td>\n",
              "      <td>NaN</td>\n",
              "      <td>S</td>\n",
              "    </tr>\n",
              "  </tbody>\n",
              "</table>\n",
              "</div>\n",
              "    <div class=\"colab-df-buttons\">\n",
              "\n",
              "  <div class=\"colab-df-container\">\n",
              "    <button class=\"colab-df-convert\" onclick=\"convertToInteractive('df-edcb34dc-a31d-463f-bf02-2ca9dc9aa51d')\"\n",
              "            title=\"Convert this dataframe to an interactive table.\"\n",
              "            style=\"display:none;\">\n",
              "\n",
              "  <svg xmlns=\"http://www.w3.org/2000/svg\" height=\"24px\" viewBox=\"0 -960 960 960\">\n",
              "    <path d=\"M120-120v-720h720v720H120Zm60-500h600v-160H180v160Zm220 220h160v-160H400v160Zm0 220h160v-160H400v160ZM180-400h160v-160H180v160Zm440 0h160v-160H620v160ZM180-180h160v-160H180v160Zm440 0h160v-160H620v160Z\"/>\n",
              "  </svg>\n",
              "    </button>\n",
              "\n",
              "  <style>\n",
              "    .colab-df-container {\n",
              "      display:flex;\n",
              "      gap: 12px;\n",
              "    }\n",
              "\n",
              "    .colab-df-convert {\n",
              "      background-color: #E8F0FE;\n",
              "      border: none;\n",
              "      border-radius: 50%;\n",
              "      cursor: pointer;\n",
              "      display: none;\n",
              "      fill: #1967D2;\n",
              "      height: 32px;\n",
              "      padding: 0 0 0 0;\n",
              "      width: 32px;\n",
              "    }\n",
              "\n",
              "    .colab-df-convert:hover {\n",
              "      background-color: #E2EBFA;\n",
              "      box-shadow: 0px 1px 2px rgba(60, 64, 67, 0.3), 0px 1px 3px 1px rgba(60, 64, 67, 0.15);\n",
              "      fill: #174EA6;\n",
              "    }\n",
              "\n",
              "    .colab-df-buttons div {\n",
              "      margin-bottom: 4px;\n",
              "    }\n",
              "\n",
              "    [theme=dark] .colab-df-convert {\n",
              "      background-color: #3B4455;\n",
              "      fill: #D2E3FC;\n",
              "    }\n",
              "\n",
              "    [theme=dark] .colab-df-convert:hover {\n",
              "      background-color: #434B5C;\n",
              "      box-shadow: 0px 1px 3px 1px rgba(0, 0, 0, 0.15);\n",
              "      filter: drop-shadow(0px 1px 2px rgba(0, 0, 0, 0.3));\n",
              "      fill: #FFFFFF;\n",
              "    }\n",
              "  </style>\n",
              "\n",
              "    <script>\n",
              "      const buttonEl =\n",
              "        document.querySelector('#df-edcb34dc-a31d-463f-bf02-2ca9dc9aa51d button.colab-df-convert');\n",
              "      buttonEl.style.display =\n",
              "        google.colab.kernel.accessAllowed ? 'block' : 'none';\n",
              "\n",
              "      async function convertToInteractive(key) {\n",
              "        const element = document.querySelector('#df-edcb34dc-a31d-463f-bf02-2ca9dc9aa51d');\n",
              "        const dataTable =\n",
              "          await google.colab.kernel.invokeFunction('convertToInteractive',\n",
              "                                                    [key], {});\n",
              "        if (!dataTable) return;\n",
              "\n",
              "        const docLinkHtml = 'Like what you see? Visit the ' +\n",
              "          '<a target=\"_blank\" href=https://colab.research.google.com/notebooks/data_table.ipynb>data table notebook</a>'\n",
              "          + ' to learn more about interactive tables.';\n",
              "        element.innerHTML = '';\n",
              "        dataTable['output_type'] = 'display_data';\n",
              "        await google.colab.output.renderOutput(dataTable, element);\n",
              "        const docLink = document.createElement('div');\n",
              "        docLink.innerHTML = docLinkHtml;\n",
              "        element.appendChild(docLink);\n",
              "      }\n",
              "    </script>\n",
              "  </div>\n",
              "\n",
              "\n",
              "<div id=\"df-749a8a6e-f4ce-4bbc-86ed-bc9f1906066d\">\n",
              "  <button class=\"colab-df-quickchart\" onclick=\"quickchart('df-749a8a6e-f4ce-4bbc-86ed-bc9f1906066d')\"\n",
              "            title=\"Suggest charts\"\n",
              "            style=\"display:none;\">\n",
              "\n",
              "<svg xmlns=\"http://www.w3.org/2000/svg\" height=\"24px\"viewBox=\"0 0 24 24\"\n",
              "     width=\"24px\">\n",
              "    <g>\n",
              "        <path d=\"M19 3H5c-1.1 0-2 .9-2 2v14c0 1.1.9 2 2 2h14c1.1 0 2-.9 2-2V5c0-1.1-.9-2-2-2zM9 17H7v-7h2v7zm4 0h-2V7h2v10zm4 0h-2v-4h2v4z\"/>\n",
              "    </g>\n",
              "</svg>\n",
              "  </button>\n",
              "\n",
              "<style>\n",
              "  .colab-df-quickchart {\n",
              "      --bg-color: #E8F0FE;\n",
              "      --fill-color: #1967D2;\n",
              "      --hover-bg-color: #E2EBFA;\n",
              "      --hover-fill-color: #174EA6;\n",
              "      --disabled-fill-color: #AAA;\n",
              "      --disabled-bg-color: #DDD;\n",
              "  }\n",
              "\n",
              "  [theme=dark] .colab-df-quickchart {\n",
              "      --bg-color: #3B4455;\n",
              "      --fill-color: #D2E3FC;\n",
              "      --hover-bg-color: #434B5C;\n",
              "      --hover-fill-color: #FFFFFF;\n",
              "      --disabled-bg-color: #3B4455;\n",
              "      --disabled-fill-color: #666;\n",
              "  }\n",
              "\n",
              "  .colab-df-quickchart {\n",
              "    background-color: var(--bg-color);\n",
              "    border: none;\n",
              "    border-radius: 50%;\n",
              "    cursor: pointer;\n",
              "    display: none;\n",
              "    fill: var(--fill-color);\n",
              "    height: 32px;\n",
              "    padding: 0;\n",
              "    width: 32px;\n",
              "  }\n",
              "\n",
              "  .colab-df-quickchart:hover {\n",
              "    background-color: var(--hover-bg-color);\n",
              "    box-shadow: 0 1px 2px rgba(60, 64, 67, 0.3), 0 1px 3px 1px rgba(60, 64, 67, 0.15);\n",
              "    fill: var(--button-hover-fill-color);\n",
              "  }\n",
              "\n",
              "  .colab-df-quickchart-complete:disabled,\n",
              "  .colab-df-quickchart-complete:disabled:hover {\n",
              "    background-color: var(--disabled-bg-color);\n",
              "    fill: var(--disabled-fill-color);\n",
              "    box-shadow: none;\n",
              "  }\n",
              "\n",
              "  .colab-df-spinner {\n",
              "    border: 2px solid var(--fill-color);\n",
              "    border-color: transparent;\n",
              "    border-bottom-color: var(--fill-color);\n",
              "    animation:\n",
              "      spin 1s steps(1) infinite;\n",
              "  }\n",
              "\n",
              "  @keyframes spin {\n",
              "    0% {\n",
              "      border-color: transparent;\n",
              "      border-bottom-color: var(--fill-color);\n",
              "      border-left-color: var(--fill-color);\n",
              "    }\n",
              "    20% {\n",
              "      border-color: transparent;\n",
              "      border-left-color: var(--fill-color);\n",
              "      border-top-color: var(--fill-color);\n",
              "    }\n",
              "    30% {\n",
              "      border-color: transparent;\n",
              "      border-left-color: var(--fill-color);\n",
              "      border-top-color: var(--fill-color);\n",
              "      border-right-color: var(--fill-color);\n",
              "    }\n",
              "    40% {\n",
              "      border-color: transparent;\n",
              "      border-right-color: var(--fill-color);\n",
              "      border-top-color: var(--fill-color);\n",
              "    }\n",
              "    60% {\n",
              "      border-color: transparent;\n",
              "      border-right-color: var(--fill-color);\n",
              "    }\n",
              "    80% {\n",
              "      border-color: transparent;\n",
              "      border-right-color: var(--fill-color);\n",
              "      border-bottom-color: var(--fill-color);\n",
              "    }\n",
              "    90% {\n",
              "      border-color: transparent;\n",
              "      border-bottom-color: var(--fill-color);\n",
              "    }\n",
              "  }\n",
              "</style>\n",
              "\n",
              "  <script>\n",
              "    async function quickchart(key) {\n",
              "      const quickchartButtonEl =\n",
              "        document.querySelector('#' + key + ' button');\n",
              "      quickchartButtonEl.disabled = true;  // To prevent multiple clicks.\n",
              "      quickchartButtonEl.classList.add('colab-df-spinner');\n",
              "      try {\n",
              "        const charts = await google.colab.kernel.invokeFunction(\n",
              "            'suggestCharts', [key], {});\n",
              "      } catch (error) {\n",
              "        console.error('Error during call to suggestCharts:', error);\n",
              "      }\n",
              "      quickchartButtonEl.classList.remove('colab-df-spinner');\n",
              "      quickchartButtonEl.classList.add('colab-df-quickchart-complete');\n",
              "    }\n",
              "    (() => {\n",
              "      let quickchartButtonEl =\n",
              "        document.querySelector('#df-749a8a6e-f4ce-4bbc-86ed-bc9f1906066d button');\n",
              "      quickchartButtonEl.style.display =\n",
              "        google.colab.kernel.accessAllowed ? 'block' : 'none';\n",
              "    })();\n",
              "  </script>\n",
              "</div>\n",
              "\n",
              "    </div>\n",
              "  </div>\n"
            ],
            "application/vnd.google.colaboratory.intrinsic+json": {
              "type": "dataframe",
              "variable_name": "titanic_df",
              "summary": "{\n  \"name\": \"titanic_df\",\n  \"rows\": 891,\n  \"fields\": [\n    {\n      \"column\": \"PassengerId\",\n      \"properties\": {\n        \"dtype\": \"number\",\n        \"std\": 257,\n        \"min\": 1,\n        \"max\": 891,\n        \"num_unique_values\": 891,\n        \"samples\": [\n          710,\n          440,\n          841\n        ],\n        \"semantic_type\": \"\",\n        \"description\": \"\"\n      }\n    },\n    {\n      \"column\": \"Survived\",\n      \"properties\": {\n        \"dtype\": \"number\",\n        \"std\": 0,\n        \"min\": 0,\n        \"max\": 1,\n        \"num_unique_values\": 2,\n        \"samples\": [\n          1,\n          0\n        ],\n        \"semantic_type\": \"\",\n        \"description\": \"\"\n      }\n    },\n    {\n      \"column\": \"Pclass\",\n      \"properties\": {\n        \"dtype\": \"number\",\n        \"std\": 0,\n        \"min\": 1,\n        \"max\": 3,\n        \"num_unique_values\": 3,\n        \"samples\": [\n          3,\n          1\n        ],\n        \"semantic_type\": \"\",\n        \"description\": \"\"\n      }\n    },\n    {\n      \"column\": \"Name\",\n      \"properties\": {\n        \"dtype\": \"string\",\n        \"num_unique_values\": 891,\n        \"samples\": [\n          \"Moubarek, Master. Halim Gonios (\\\"William George\\\")\",\n          \"Kvillner, Mr. Johan Henrik Johannesson\"\n        ],\n        \"semantic_type\": \"\",\n        \"description\": \"\"\n      }\n    },\n    {\n      \"column\": \"Sex\",\n      \"properties\": {\n        \"dtype\": \"category\",\n        \"num_unique_values\": 2,\n        \"samples\": [\n          \"female\",\n          \"male\"\n        ],\n        \"semantic_type\": \"\",\n        \"description\": \"\"\n      }\n    },\n    {\n      \"column\": \"Age\",\n      \"properties\": {\n        \"dtype\": \"number\",\n        \"std\": 14.526497332334042,\n        \"min\": 0.42,\n        \"max\": 80.0,\n        \"num_unique_values\": 88,\n        \"samples\": [\n          0.75,\n          22.0\n        ],\n        \"semantic_type\": \"\",\n        \"description\": \"\"\n      }\n    },\n    {\n      \"column\": \"SibSp\",\n      \"properties\": {\n        \"dtype\": \"number\",\n        \"std\": 1,\n        \"min\": 0,\n        \"max\": 8,\n        \"num_unique_values\": 7,\n        \"samples\": [\n          1,\n          0\n        ],\n        \"semantic_type\": \"\",\n        \"description\": \"\"\n      }\n    },\n    {\n      \"column\": \"Parch\",\n      \"properties\": {\n        \"dtype\": \"number\",\n        \"std\": 0,\n        \"min\": 0,\n        \"max\": 6,\n        \"num_unique_values\": 7,\n        \"samples\": [\n          0,\n          1\n        ],\n        \"semantic_type\": \"\",\n        \"description\": \"\"\n      }\n    },\n    {\n      \"column\": \"Ticket\",\n      \"properties\": {\n        \"dtype\": \"string\",\n        \"num_unique_values\": 681,\n        \"samples\": [\n          \"11774\",\n          \"248740\"\n        ],\n        \"semantic_type\": \"\",\n        \"description\": \"\"\n      }\n    },\n    {\n      \"column\": \"Fare\",\n      \"properties\": {\n        \"dtype\": \"number\",\n        \"std\": 49.6934285971809,\n        \"min\": 0.0,\n        \"max\": 512.3292,\n        \"num_unique_values\": 248,\n        \"samples\": [\n          11.2417,\n          51.8625\n        ],\n        \"semantic_type\": \"\",\n        \"description\": \"\"\n      }\n    },\n    {\n      \"column\": \"Cabin\",\n      \"properties\": {\n        \"dtype\": \"category\",\n        \"num_unique_values\": 147,\n        \"samples\": [\n          \"D45\",\n          \"B49\"\n        ],\n        \"semantic_type\": \"\",\n        \"description\": \"\"\n      }\n    },\n    {\n      \"column\": \"Embarked\",\n      \"properties\": {\n        \"dtype\": \"category\",\n        \"num_unique_values\": 3,\n        \"samples\": [\n          \"S\",\n          \"C\"\n        ],\n        \"semantic_type\": \"\",\n        \"description\": \"\"\n      }\n    }\n  ]\n}"
            }
          },
          "metadata": {},
          "execution_count": 19
        }
      ]
    },
    {
      "cell_type": "code",
      "source": [
        "titanic_df = titanic_df.dropna(subset=['Fare','Survived'])"
      ],
      "metadata": {
        "id": "9qVRs0cnMP63"
      },
      "execution_count": null,
      "outputs": []
    },
    {
      "cell_type": "code",
      "source": [
        "survivedFare = titanic_df[titanic_df['Survived'] == 1]['Fare']\n",
        "notsurvivedFare = titanic_df[titanic_df['Survived'] == 0]['Fare']"
      ],
      "metadata": {
        "id": "bvLVsge0MSm6"
      },
      "execution_count": null,
      "outputs": []
    },
    {
      "cell_type": "code",
      "source": [
        "f_value,p_value = stats.f_oneway(notsurvivedFare,survivedFare)\n",
        "f_value,p_value"
      ],
      "metadata": {
        "colab": {
          "base_uri": "https://localhost:8080/"
        },
        "id": "wtbCigJ-NxnF",
        "outputId": "cd7953dd-5b83-4272-c0f0-da35f1b7187a"
      },
      "execution_count": null,
      "outputs": [
        {
          "output_type": "execute_result",
          "data": {
            "text/plain": [
              "(63.03076422804448, 6.120189341921873e-15)"
            ]
          },
          "metadata": {},
          "execution_count": 22
        }
      ]
    },
    {
      "cell_type": "markdown",
      "source": [
        "Since P value is very less, we reject the null hypothesis, it means there is no relation between fare and survival"
      ],
      "metadata": {
        "id": "Ptg2VwCNOF-u"
      }
    },
    {
      "cell_type": "markdown",
      "source": [
        "### Variance Ratio Test\n",
        "\n",
        "\n",
        "The Variance Ratio Test, also known as the Fisher's F-test or Bartlett's test, is used to assess whether the variances of two or more groups or populations are equal.\n",
        "\n",
        "Assumptions :\n",
        "* Normality: The data within each group or population should be normally distributed. Departures from normality can affect the accuracy of the test.\n",
        "* Homogeneity of Variances: The variances of the different groups or populations should be approximately equal. In other words, the variability within each group should be similar across all groups.\n",
        "* Independence: The observations within each group or population should be independent of each other. This assumption ensures that the observations are not influenced by each other and are representative of the population.\n",
        "\n",
        "let's consider a hypothetical scenario where we want to compare the ages of passengers across different ticket classes (1st class, 2nd class, and 3rd class) to see if there is a significant difference in the variance of ages between these groups."
      ],
      "metadata": {
        "id": "0LigQlaaWhnx"
      }
    },
    {
      "cell_type": "markdown",
      "source": [
        "Null Hypothesis : There is no significant difference in variance of age across different ticket classes\n",
        "\n",
        "Alternate Hypothesis : There is a significant difference in variance of age atleast across one ticket class"
      ],
      "metadata": {
        "id": "Mw8K3SRFYxmb"
      }
    },
    {
      "cell_type": "code",
      "source": [
        "from scipy.stats import bartlett\n",
        "titanic_df = pd.read_csv(\"https://raw.githubusercontent.com/datasciencedojo/datasets/master/titanic.csv\")\n",
        "titanic_df = titanic_df.dropna(subset=['Age','Pclass'])\n",
        "ages_by_class = [titanic_df[titanic_df['Pclass'] == i]['Age'] for i in range(1, 4)]\n",
        "statistic, p_value = bartlett(*ages_by_class)\n",
        "print(\"Bartlett's Test Statistic:\", statistic)\n",
        "print(\"P-value:\", p_value)"
      ],
      "metadata": {
        "colab": {
          "base_uri": "https://localhost:8080/"
        },
        "id": "ZoBwO0rdWrQO",
        "outputId": "ae195eb3-d344-46ac-9e94-ac9466fad2b8"
      },
      "execution_count": null,
      "outputs": [
        {
          "output_type": "stream",
          "name": "stdout",
          "text": [
            "Bartlett's Test Statistic: 7.818000705428391\n",
            "P-value: 0.020060544510697085\n"
          ]
        }
      ]
    },
    {
      "cell_type": "markdown",
      "source": [
        "Since P-value is less than 0.05 we reject the null hypothesis, meaning that There is a significant difference in variance of age atleast across one ticket class"
      ],
      "metadata": {
        "id": "ck6uVB6EZJJF"
      }
    },
    {
      "cell_type": "markdown",
      "source": [
        "## Non Parametric tests\n",
        "\n",
        "Non-parametric tests make fewer assumptions about the underlying population distribution. They do not require the data to follow a specific distribution or have specific characteristics."
      ],
      "metadata": {
        "id": "oXAQxktmmnHJ"
      }
    },
    {
      "cell_type": "markdown",
      "source": [
        "#### Chi Square Test\n",
        "\n",
        "![image.png](data:image/png;base64,iVBORw0KGgoAAAANSUhEUgAAAQ8AAAC6CAIAAAA/PV8bAAAgAElEQVR4Aex9B3gU1fr3UAUbqKBSBCygKIqgiNgLcL1guSp6LypeERURFKQqIEhVUBQQQZROCDUhQIAAgQTSISG9980m23en95nzMfPC+e9dCGYRED93njybM7NnTnn3/Z23nUKg0BWiQIgCDaMA0bBsoVwhCoQogEJoCTFBiAINpUAILQ2lVChfiAIhtIR4IESBhlIghJaGUiqUL0SBEFpCPBCiQEMpEEJLQykVyheiQAgtIR4IUaChFAihpaGUCuULUSCElhAPhCjQUAqE0NJQSoXyhSgQQkuIB0IUaCgFQmhpKKVC+UIUCKElxAMhCjSUApcZLRpC8Hd2+/73K/3sDP/zxO97/CJO/E/Os2/83g34UjPvcTlwi/zy468CXkRn+nX6lbO/9nuCC4GE3zdXRBI37/ytaWC28xfyF/s2aLRwAk8xtIZ0HRlspCGdE3gv6ZNVRUdI1TUN6RRDQ1pHSJaQKCCek3me5wVaVjiEFIQ0VdV1zSzCZEYdyYrKSjLrdjmQjtx245NjWLfThRDSdV1VVVEUoRYdIVFVBElUNBkhRZI5WeEVVVA1UVZ4UeSBdyVJUBQFfhCe52maFUVZR4iTzE+B50XBaKEsIqTpusrxFEV6EVI0VaQpD9IVnmOMjpjNJGmKYrxun12UWIahkNE1HWlIkXRd1Yxm8D6E5OrqGqCMUREvMyyvKAaEeN5omKbKSJd1TVIVQZY4gadJo0akqiq0U1VVm82GEJIkSdd1QRBw+2VZpmla0xAUiBBiWd74GcyL58XTKeNdRRAkluVlWdaNS0VIs9vrPB6Xqsp2e50gcH7wxnwPCUXVREnmFEU6kwdpmiaaFzxRFEmSOR3JsmKQWtOMDoqiCK0VxdMtMb4wv5JlmWEYSZKgpzRNG9QzL6AM3Hq9Bingwh0/8+CK+B80WgAGwGcG18oSLwq8KGD86Ai5vR631+N0u3hBQhpSZZPdjA8JIREhRVVlRdFkSRcFA04mrygI8cafrnEUbQDxzJ+OOcJkZEmRBUWWNIO/VKRJMoeQrGqCphsla7pklK8ZADD//ofKuvGdLijw7ukaVKN9mvmKgpBCkW5VYo0yJdbrcbndrMsrmHUhgz80FqOdZcTTlWi6AS3GafYO8YLq8TK8oEIPZFkFvjG51qhCEhlJZBAyoA6NBE6CtnIchxAClqIoyuVywbcm3+sUxSCESJLG8FCNeozL5fIAqRRF4zjB6yVl2egaz7M8zyKkcRwDyEFIE0VelkVB4DiOAQogpEmSMeJAw3SjecYgAhxvSE9NU1XZeGISGSFZ0yVNU/CQBM2A38uf3QEYRj5z8OJ5HoYDs3nGuIAQ8vl8DocDSoDxEaevnMQFosVL+vzhwYuCl/QpmvG7cQLPCfwZVjeYQRaRphrygeV8okQhpJjDOVIVQ+xIosEGxkOV4gQ30jWeZpCm8zQjCSLSEcuyXq9XkiRjdJMlA5/mHyeJvCLQjBchmaLdvGCUzLA+RRVEg92BS4wf5sxvYzRPklVBUWmeY8x2cgKvqrKmKRTt4QUaIcXndaoSq8kc6bGb7IJ4CblJxktTOpIFmeIFmmVpQZBIH3saLTrSJJ5nnLpuVCdKOstJvKAIoiqflm1GGwSB0zUDzJLIqopgDK+SMcbTNO3z+QAhIA1U1eBReAjtFwSB53ld12Hk5nmeZVnoF0VRwHZer9egkCz7D9IcxyCk+QsTUeS9XveZ0cQYU0zJLUuSIIqGiEZIEUSG5UhTBZAZhhJFo0JZFlVVlmVRlFhBZESJNaSQJMiyzHGcKTxFDHuQliCUOI4TBEE11AkD2PAVNBVAiPsICV3XZVkWhP9TDeD5n/4ZNFoEScQ48fi8OkKCJKq6pmgqKGCAE0MCSKJBG0NXOS1bFJUH2QJcKEu6JCJDHzMuRdUZhnMKjCFYBIZFinp68DdHNaCgqmugGsm6JiiyYmhJCkIyL1CSbIz6ksyZ0kbRNMVfEzN/ZFlWNE033hFVRTGVSUUztBTzTwFGgQIVkUHGCKqxrCGI3CTjMjor636ykaZ4oyxDC1NlnlFEn67zXi+ZcTL3+IlMl5tUNcRygikHDBSBymeWb0gYhGRF5oHbzGFbxeOxZF5nQC5XVFRAGj4BJwbJzKEaGBT0NyhB0zSXy8XzhiZ2pncGYCjKB7IF+F4QOCxVOI4JaJ5JDYMygLQz356mFQhwTTs9GAAA/FkfflSsF8iyjPOA6BAEA2aQDb5iGEY1LxgUcDchz5XwGTRadISsdbUACUESJUV2uJyyqkiKYQzQLPPdou+X/LQUbimapUmF9ErqaarKgBZJEnTd0PtFASmnKXZaE6utrgKQMD6SY1ikI6fTCcqJMYCZloaKECsKNM+pSNN0ybSFZEGkTeVBMaWNYtoDBhBNnBiatCjK1lobw/K8rMi6gRKwuxRFMhnC5GDdGO9BE0NI/mnp4vDwSFYwQCEosopEQabOqHlG+3VTk5INOcIixHOcZ9KkSY2IZgTR9LuFP5rj6GndSRSNYRh4l+MpliOhtT6fx3/EVRSF53lJkqqrqzF/iObYbrPZFEU5ceLEuHHjSktLNU0DlQY+EUI1NTVjxoxJSEgAYwA0KF1XrVaLqsqC4G+KaJpm6MOapui6ChQwzCpNAZ0NCxyeN8QIIFxRBZAw/ggMUMNAmNA0DfIEf6soCsdxFGXYeyBeRFHE+MHPRVF0OBzwliAIHo8HE+FKSASNFofL2X/gAKIRQTQiWt94A9GIuOa6axs1aUw0ItZtWK8jtOjHH97/YASY4w6nW+CQyBtWPsdxkszKCoO5DemGYBEF41cXREZWKQ2xifFxTQiiCUE0b9zErIRo27ZtTU0Ny7KGpWhiEniXZBmKp2nGK0qGDaCoPEgVWeEp2gOsgElscqHIsLyqIZoXFKSDJmbIRtPkFSWW4ylRMDhDV3jNNIfeGPLarFkLKNaAFieJosL6o8Vov2L8mZJQRIgvL8m99eZbwjZuMYBolGxo5IIgAOsrikJRPp/PY/ClLimqABopDMmCIBjKKsuCfV9UVDRhwgTCvFq2bBkZGYkQ4jguNja2devWR44cga6pqkrTtCzLFEUlJSV17tx52rRpPp8PBmae5+32OoS0I0di+/btc+21Vzdt2viZZ57avTsKGzD+AKBpEpADD03RYQwiIHUNy94wY4yRCBQ8EzanDQ+w8nVd5zgOmzqAW6yenXEVGEMYdBOQU1NTQxDEvn37oFMwZMiyjMGGf8c/NxE0WnwUeTz9RHllRZWleumyn+64685de3ZXWapdHrfL4/b4vJOmTH7rnbd1hOrsNmPwBjtWB5oaji+SckuSoZ+IgqFr6ZrhLyIpN8XYOcG99rdfb23TNjczq7SwqKqi0ufxpqSksCwL+rqGdIZjKY5VkOHo4WTeVAkEt8dm+KhkzuGsNUwgxTBhJUkAdR//MIYWpyGn16cixJzxifl8HqOZqgBgk0QWqYKhhmniByOGz5q1gBMRL2u84QKTNSSAI4jnRU1FqoQUERmGlq5oMhWzN7Jb1zvDwzaLvKTKmshLpNfndrsBM4Z8kyVB4nWk6UhjOFpSDKGHR1DMHElJSffee2+PHj0KCgqsVuv+/fsJgti+fbuiKNnZmZ0731ZSUgQDfG1tDSRAlh48GGO312maoYjCc11Xc3Ozb7315ldeeamsrKSqqmLEiOE33NCqpqYajH6OYyjKhxUtQRBMK9EQg1iqmHa/TFIuEDKCwIEORtO0JElgnYNIBEgDT0vmDwBpTdMkSVIUBWwqURRxZ0VRzMvLIwji5MmTdeaFxQ52r/25IMG1B40WQRJZ3tCIRFkKC990x113+ihSlCWaZVie05A+c9bXgJZde3ZH7dqTmVHk84gsYwwrCMk2e1Vc/KHDhw/Fxh7JzyvmWNM4MQS/JKuUqjPJx462aX2DtapaZDmB42nSkN0g1kVRLCop3h6xY2vEjoKSYk4SWcNKVqqqS3dEbPb6HKVlhVu2hhlWOEcePnzI5XJYrdbIyMjo6GhQV0rLKpJT0mLjj/Ky5GNoiqElRT56NC4tLcXEgCJLXMz+PYV5mQjJHmftP18YOHXqbEkF80h3eW0JyYcjIrfu2xftcnlkSVdEJAu6IVtMn9hvvyzp1L7d0sVL8nLya6otpqqnp6WlRUZGRkVFOZ1O8Cj6KDIrJzP1eJrT7YqIiIiKihJFEYwNhFBtbe0//vGPAQMGqKrq8/lAAcOjdUzMvl69elZXV2ZknEhKSoiI2M6yNBgkdnvdwYMxTqfdZqs17HVFYlkaIW3dujXdu9/t8bgURTIVP7WsrMTptIPSpapyTk5WRMT22NiDVqvlyJEjWVlZppHNJSUfTUg84vHaERJ9pPPosdgT6ck+0mWqlAbIN2/eHBMTEx0dTVEUSZJgNWVlZZWUlKSlpUVFRSUmJoJxcuLEiaioqLi4OLvdDp5xrIZxHHfixAmCILBzwmaz7dy5c//+/UlJSZhTr4RE0GgBEx98U5u3bul6d7eSslJV1ziBFySRF4UJkyaOHPXx2M/H3dvjvkaNm97cpnPswSSH3WOMKz7HkqULO9526223dSCIxo/1e6q6yg5eL4/XAR7kiK1b7upyO9J0xkfKomTEXsyxmeO4JUuWXHv9dbe2b3fjzW1vbt9uW2QEyJak5Ph27dss+uHb7vd2bde+bUFhTm5eZs+e969cueKZZ55p1aoVQRA//PBDTMzBp55+9rZOXYhGjUeP/czudsmqwnAsQRClpcUIKaLEigLTuVP78I1rEJJFjnzpxUETJkxTdFRWVVNcXjb8g2F3dO14w43XdezYfsiQN31eRpMR5eUMUaGIBbnHmxDErW1uaNms6X133+N1umqqLWM+GX39tdd17tz5xhtvvLPrXeWVFeCliI7ZP/iVf42fPOmqli369evndDpVVeU4Ttf16OjoW265Zf/+/RDE8HenOhyOLVvCX/hn/x9+XHhP97tu69SOaER8+tkoEKc11sreDz2wI2ILL9CCyCiqwPEUQtru3VHXXXfNiRNpPM9SlI/nWVDDQAStXLmCIIjGjYmuXe98+umne/d+eNeuPWZ4irypTasNG1cjJDKck+O9Xbt1+uDD/7o9dpomk5KSnn762XbtOgB5v/jiC+D+2travn37Tpw4sW/fvi1btty2bRtCKCoqqn379nfeeWfr1q27deuWkJCAdTNwLmdnZxMEkZ2dDZLtgw8+IAji/vvv79ix44cffkhRFPZ/MIzhQP+zrqDRAl4pSZFFWQrfsvmubl1LykoBQi6PW0dozry57Tt2WL9xg6Ey0ewjDz/91bT5AImYA3u63N6usCjXZqu1WKxjP5vw4QdjRMFw4JiaMe8la3ds2dyu7c2rflkZHbXrwP6Yjes3VFVVybK8a9eua665Ztnyn3WEeFmaOuMrohGRdDyZF+hqS9mt7W568aV/HD+RDNpUSmpC+/a3vvrqKzRNC4Lw/fffN2/efMCAf9TW2T1ecvP2HTfe3PZkTraGdIu1plmzJikpSRxPCSLjsFsHDnj2t19+YkiXrvDv/XfYtGlzINhSYanetGU9+MQKC/M7dLhtc/h2TUYGYDxeyuNEiD9yaHfPe+9Ojo9HRpBWGz3y404dbysqKEQIlZaWDnzhH68Ned30FqDjWVlE48b/fvsdHSHQZERRBF/wxo0bO3bsWFpaCjgpLy8H7d90BmgZGSeIRsTIj0fYHVYdyV/Pmt6h4y3FJfmqJtbWVT/c58HIndtEiZVkTtMlQWTq6qy6rg4Z8hpBEMuXL8vJyQILHlSv5OREgiAWLPgGNLfo6GiCaLpubZgJVP72O25b9vMiVWcUjSZp293dO305dbypjGnJyamZJ3PBPNu/f3/Hjh1TUlJA9Ro0aFCnTp2ioqJIkkQIZWZmEgSxYcMGr9er6/p3333XpEkT+ArGQVEUS0tLW7RoUVhYaLfb4+LiWrdunZubq+t6eXn5oUOHQHABQrCS9qcAJmi0gPkOaNm0OfzOrncVl5ZoSHe4nIIkcgL/45LF/xw8CEIuDMt/v/DnBx/oZ9gnut6rd48DB3eTlJvnWUlSDsce7f/8YGuNEZOSZM7mqKAY++EDMU0I4sEe9/e6/4GHevV+5OE+qampCKF///vfo0aNMqAiCrwsVVlrnnru2W8XLVA1MTEp7s67Oq38dRlo1dbaqoyTaT163Juammy4fhQlJyenRYsWx4+nl5SWy4p2/GTmta1blVSU86JQWV1FEER8/BFJ5mrrqiWR7XHf3atWLgNN/fnnnpk6dTbFasXlVaYPTS4ozlq+YukzzzzVps3Ns76eZ7iPVSSynGHsI760KPO2W9ukJsQjXcnNTL+p1fWHD8R43R6fz0dRVHZuDtGo8b6Dh0QVHYw7dm/P3sezsoxIk6IwDGN4QSSJoqhFixbdcMMNpaWl/lq7pmmmj1g7eTL99jtuO3hoH3Q2Ny+zQ8db8vKzEFLsDusjfXtH7dqhGCElI2xijh0aTZOVleUxMfseffQRgiAGDXrh5Ml0wMykSRO6dbuL4xiPx8VxjNfrve7aG7ZuidQ0wxXZ4/57flz8LSe4OcGJEHtXtw6z50wzYFlbazCrjtavC58+fcaTTz7ZqFGjgwcPIoQsFsv999+/cuVKRVFA2nz11VefffYZWG61tbW5ubn33ntvRUUFeAJZluU4rqSkpFGjRpWVlQihgoICgiDS09NpmrbZbBA5wCJF0zQsZy4/YIJGC3iljMkhpt3S5Y7bi0tLjAHSZSjlDpfzkzGjX3n1XzpCNoddR2jJj7++NPhNljHiW/c/cA8400xPT2OCaNriqlaFBWUIIYb1IcSzvCti65b7u9/rqK0zxi0dkV6fIAgul+u+++5bsWKFx+e1WGskTS2pKB/16ZjPJ4+XZC7+6KFOndvl5p2EqBlCSkpqwsMP987JyQJzpby8vEmTJjk5eRCdPHIs4ZpW1x+KO1JeWWGtq23atHFMzD4ITRbkZz/Wr8+P33/jc9vAyh85cqzpsFYOH41/7Y2Xr7m+2Qv/7L948Q/dut0zfdrXEKrRJEPEsJT95PGjt7a+LuHQAaelKin+8E3XXZcYH+fzGBM6ZFm21tVefX2rfbGxboqNTUzu1O2eqlo7RbOYsSDb1q1bO3ToUFVVBSzicrk8Hg90hCS9SclH73+ge21dtc1e4/bYi4rz2ne4OSU1ASHF6ap7tN/Du/dEGiF2M9yuqAJNG0FGhLSKijKEtMOHD7388ostW161f/9ehLTbb+/86aejIQNCmsViue7aG9evCxd4A8D33tdt/jczVZ0xJ9k4ej3Ubdzno0wEoqTEtL6PPHH9dTe98sqrc+fO7dSp09q1a8GL/fjjj//8889utxvGiMmTJ7do0YIgiBYtWlx99dXg5cvMzAQLTdd1SZIKCwubNWvmdrsdDgfDMGFhYT169Gjfvv2WLVvS09M1TcNxGwjFYCvuMgMmaLRAzFHVNUmRN4Rt7NSlc1FJMXjAaJYRJPGbBd8OefMNzXASqbwgfT1jwTNP/ZNjDV/qXV07r16zvKy8SNdVmmZlSfd6OFDS3EbgnK+zl0ds3dLhlltdNrvP5fZ5vALHe71eh8PRo0ePWbNm6QhRDA2q0ev/fnP8lAmSzJWVF3bq3O5Q7GmOR0hJz0i99957jh6NgwB5UVFRly5djh1LJClGVrSisvJGzZqmZ2VC7KhVq+v27t1jhq4VmvK0u7XNjq1hBnsL9JtvvD516mybk6E48ZPPPu1yZ0e7y8JypNvtfPfd9+bO+dbn5gy3lmFluWXBW1p48oarm+alp0mULyM1qXkjYu+uSMPhZkYbvD6KaNQ0am8MJ2t5ZRUtWt9UZTeGGPjtsc83Pj7+6quvPnTokOn/tYOTw5hlx/OCwO2J3nlTm+srq0ogypSTm9GmbatjCYcRkp2u2kf7PbR7T4Smi+Y8IFlRBYi3AB4sliqENIfDNnBg/y++mCwI3AMP9Bg1aiQ4ABDSSJJs2qTliuVrfF7DLfNAz+6Ll36DEOvxVSua7777u4yfMNrtsdE0/VDvvp+M+tznNaKuJSUlPXr0iI2NhS48/PDDsbGxxgho2hijR4+eOXOmy+VyOBw2m81isdTV1RnOyjPhFF3Xk5KSCIKA1+vq6hBC1dXViYmJb7zxxnPPPWe32zE8wJOG/WlXOlpAxdKQLiny+o0bOna6rbC4CIKVdqeDZpnZc+e8+vpr8MTl9q5bs/WJxwYYUoIkBw0e8NLLA41R0GlnWR7piKFlS7XN1GIVhjNU/10RO25r177OUgOyRRYlVVUpivr000//9a9/UQxtzKyRxBOZJ7t2v2fNxrUIKVnZJx5/4pGYA3tkhfd4HTXWytKywt69HywoyAPnrMViIQiioOB0O8urLUQj4sixoyRNlVdWEASRkpIEg3Fuzsm2bVpv27wB6RLPeN8Y8trcud+TjBHOv6Nb143ha2nOzQu0rqv/+tdrc+d8S/tEkTPcejzt02TqyMFdve/rmnokVudZjWMe6fXAyp+XGnN6VJnjhLiExBtvbrfv0BEJoS1Ruzt3vy+ryBDLwFVY2fD5fK+//vp///tfnucpM0DDcRzLsi6Xy+12Hord3/fR3m6PTVF5hvWWlOb3fPDezKzjCMl2R80jfXtF7dquqLw5bUI25zcY8qS8vBQmsEBs/uWXX/zuuwU1NdXz5s158MEHXC7HmaA+uubqGzeF7WBowWq1Ptjrvq9nT0GIVXWSZutuaXftlC8/43jDGrn2mtYZ6XkCb8ReLRZL9+7dN2/ejBDyer3dunXbvXs38DHLsj/++GP37t0piqqtreV53ul0mvPcSMBGdXW1phkobdSoUXJyMjjQ7HY7aKGiKBIEkZOTw5gXyF48d+YyQwWh4PdBZjgWbHpZVdZtWN++Y4eCokIY8kUjIoG+XbjgvfeHg6tUR2j5srVd73yg1moYJyWl+UQjYti7Q71ed1WVZd7cBbt3HQBL0XDgCG5Fo/fsjGzT+oayomJAi8gbk3BlWc7Ozu7cufMrr/6rvLIiOz/v4Uf73tC2Ta2zTtXEE+nJDz38wKHYfWDiI6Tk5J7s3v3upCQjqs0wTHl5+fXXX5+fX+gjjcnRCSmpjZo1TUxNAUh36tTxmWeecrrqkpKPdut6e79HH94cthbslveH//e//x2pIlTrcA8d9s49993lcNeczDzev/9z7dp1mDB+CtIMK5+nGYEhEeKPJx/u2unW2N1RGkcjTf7ph++aEMTKn5f5fJ5ff11FNGo8ZdoMRjRmAkXuO9D9oT45JWUG6ShKkiSXefl8PlmWExISCIJ47rnnMjIyCgoKEhIS2rVrN3PmTIS0vPysbnffnl+QBS0sKy+8487bjiUcVjWhtq7q4T49I3duFSVGkllNFwWRLi8v/fjjj7p06bR58yafz+NyOV5//dVmzZqkpiYjpKWmJjdt2nj8+HG5udlRUZFvv/12I6LFprAd4Ioc8cG7z/XvF7FzfX5RyvAPXr+3R6fxE0exnI/juKuaX/PhB2Py88rKyiruu+++Dh06REdHcxwniuJjjz3222+/seYFsr13795du3YlSTI5OXnz5s2LFi0CWYEtkOLi4quuuiorK4um6Q0bNvTp02ffvn3FxcWzZs3q27dvSUkJiFbQx2CW0OWHyh9Fy9r16zBaZFURZenUtPbPJ4wf8I+BGtJZntMRWvbTyltu7oR0w5b1eB25eScf7fdw48aG03JA/3+eOJ7lchoTCs1Z4jQvUFE7IxoRRE1lFeUjWSPqZ8QuwVhPTEx8/Y0hYPm8+/7wyuoqDakk5a6sKiUaEcdPJCOkuD12SRIyMzNatGi+e3cU0DQlJeXaa69NSzthVoQKS8uaNm92JD7O6XapujH0tmjRnCCItjffwDLUc88++cOiBQJPexx1y3/+iSCabdi0Q0foREb6E0/1a9aiEdGIyMzM+OijjydPmsozstPuMWZ/GvO+xKL8k00J4tjBGMPolwWkK5s3bmhkqurXXnvtnLnzQYcUVLRpWwTRuKnV4eYFied5HHxQFAUG3aqqqnfeeeeUw6ply5bNmzcPCwszn2tRu3YQjYj8gmxjzgGS4+IP3XjT9YlJ8bLC1+dBrqqqWLHi52bNmoDN8I9/DIiLOwyhGFkWY2L2NWvWpGnTxt27371y5cpH+jy+fl2402HYWtk5GXff0+Xa65sQjYn1G5dP/uLTkR+/h5DRwsjIqCaNWxBEsz59+iYmJj755JMrVqww50G72rVrt3HjRhjjYC5sTk7O2LFjr7nmGoIg+vTps3fvXkVRzKlARrwSIQTxltzcXI7jysrK5syZ07p1a4IgHnrooa1btwJBMDzAHYJvL2ciaLsFHORnf8Kk9LM/ZVk982fM2DrzZ8yxU1VdNRfEmGacquvGH1yagme5w0R1PaBk4z3zOlMgLtmYhHueyxiZzrzrX6b5Crx7uijDSW5cqnS6C//TfvjKv2uKLCqyqGvK//yd7sfpqhRNVVRdVjT4k2QV1C2WZWHgNAMdhtfbv23+6XP112iwqhr6Hsz3gdlfQM/T5NNP9/k0fQ3V0rg0TYN5dMbEfYahafqqq1quWLGS541JXBCWESWWF2jwHECI5kx7DD/5mXTg//rqxc8DEiY9z/FxOcHwu3UFjRZYpXD2ZyC1ztyfnROe4J8NMmLa1ff8THmB/+srv77nge+fua8vf7DPz5RX73/oIC4WfiFd1xVFwZ4fRVHqex+/GJCoj26YsFAgzgb1gtCGWZswE48gCPBuiaLov2SgvvbU97y+evHzgERAd/Dt73Lw5czwJ6MFaI0JBwYcrO4AvyF8BaPgOX8YTNYGJs5ZCDBNA0s4f7b6ysfPMb9COQ6HA09clyQJwvkX0F8oFmrxpyeEOOEJfAs5/dECUUWe5zmOM4OYy8GuwK4nmCiJuxsvGRIAACAASURBVNCQRH314rYFJOqj6uUEw+/WFTRa8I8dkAjoPL4NyIZvMcUhJ25ofc9xgQEJXGBAoj7qB7yObwNev+BbXOA5E9A7/8J1XQcTFlMAEud8HVZc+7+O0/XRDRcLBeJswM1gMSvG0mFzsZ0ohoeHw3IaPDOaNZb4GAu5grrqq7e+QnBHAhK4nCshETRa6uttfZ2pL3+A6MCv1/ccZwhI1Fd+ANHxbcDr+La+coJ9jgsMSPiX448ZyCaKImdev7tg0L8c/3RD6Ibz48y4JXhwgfbAc/Ao4sUnAT1q+O3Z9eInv5toeC2XIWfQaLlYbcJkCiiwvucB2X73Fg+iAYnfffGSZsC9w63y+XxgrsAAD7XjYFzDG4NLPv8rOBtuAE7AVwxjxCXBcALx4m9Qnb/w83yL660vcZ53r5yv/mS0nE0IoObZz4N9gpkgIBFsORc9P3QQtwo8rTBjHyaMMQyDLZmG195wukHOAOPw7IokSWIYBpsuZ2cI9gnUW99nsKX9Kfn/TLScs8PYL3TObxv+ELNjQKLhJVy6nMAx0DBYrwbh7bCwsDFjxmzatOkCqg6KbmD/QAMCXiRJI8qO4z+w+h/PM7iAhvm/Uh9UAtrg/8oVlb5oaPGn7x/pIRgYoFj7l1MfoSGPbsYTVFVVFAWc9ggh2NgBVuGWl5cnJCTgJezABDAliSRJTdNYlgX9B4KhMGcWtCOKonCADG9cgtsGVWNMUhSFG8/zfHV1taqqOJwiisYON8iM3yckJKSlpcFCdkmScnJyVq9ezTDMv//9b1jcgqu4FAnc4IDEpajr/5syLyZaQLgHsHWwlMLMB7AJsD4bXhoAA6Yb5ebmmtNGjLchhuD1ekHHAKUcgwEmjQcMqIIgwHJ5c17j6e3wwImEDYzTW9Kc8R1BgYBAmKumKApUDQu/EEJlZWWTJ0/Gqs7q1asXLFiAEBo1atSFiZeGE+c8HuqgCvm7Zb5oaIERHbb2gf0HgN3/IEGx0DhHmNd8hGXR2RXB5KtTJXz11VcRERE4g9VqtVgse/bs+fzzz2fMmDFlypShQ4ceO3YM70KkaRoszAL7AZu5EJFQVVWSjOkqNE1jieSvS2RlZf3yyy8EQbz11luLFi1avnz5smXLhgwZ8p///AdLYDCjt27dOm7cOHA9lZaWxsbGKory3HPPxcUZs6cv6RUgUvDtJa30r174RUOLIAjYlwJqMezr8QcJhCVVfeVg4ROQgN0hOI6rqqp66aWXEEJ1dXUURYEqNXTo0Hnz5kGZOTk5SUlJ99xzT3p6urldKuvxePAacUVRSJKElbF4CywsEPxbBb0GuVRdXX1q3dXx48cxilJSUmbPng02vdfrxSsi+/TpU1VVpWka7AK1b9++JUuW4OmG/uVf3DQmbEDi4tby/1lpFw0tZ891UxTlAn512PVQEATYIgRrd79Ld2BWsDQgKA4D+fbt26dOnQps6na7LRbLkCFD5s2bB65SvOlwixYtVqxYgU0OjuNgb1X/enEwBLa9grg7xoMsyz6fMT9X1/W1a9fefffdUHhUVBTP87m5ueHh4bDQBSKDNE273e6JEyfu2bMHmhcXF7dt2zan01lTU+Nfbyh9hVDgoqEFj7u4Y6q5DSi+bWAC82tAfqwqBCQCssEtHuZP3c6cOXPbtm0URYEDYPfu3QRBOBwOWFYBbEpRVLt27dasWQNTb2BbUVg77vP5YIMlbKJgjsdVw8QZUM/AXho/fvyYMWNIkiwrK/vyyy8dDgcsu4cFgzCIQPlLly5duHAhgPODDz747bfftm7deqXtdYJ7+jdPXDS04Pl5IBwkScLsdcEkxjNkYWe6AJ0BbhmGYVkWNrMKcFjB7PdPPvkkJiYGFDNZlrt37/7GG29Yrdbi4mLcsPT0dIIgduzYQZJkTU3NwYMHsWAB00VVVa/Xi80YeBHvoAX6m8/nA1Pe4/H079//vffeW7169ciRIz///HO8mInjuGPHjgFWoYodO3Z89NFHum5spLR8+fIlS5asXbvWf/9s3MhQ4k+nwEVDC+jrJEk6zAscqRfQPUCdsR+fWVRNTU1FRUVZWVl1PVdFRUV1dXVtba3b7aZpGsJ8EL6ANbojRoxITU2F6Rt2u/2qq65as2YNWOqgRPl8vp9++ql79+4WiwXWMIWHh4MjC1xquq4fOnToyy+//Oyzz0ab16xZs6ZMmTJ58uSwsDDISdO0y2UcnqFpWl5eXvfu3WHzjbi4uP3794uiuGrVKpfLpapqVFRUQUEBNvdTUlJGjBgBEgnMIVj4cQGkC71yqSlwIWgBJlPV/9vlGra6sVqte/bsWbVq1VtvvbVlyxbQakBHBy8ZvAj7duKOYZcAbA3qcDh4nt+3b1+LFi2uuuqqTz75ZNWqVWvWrAkLC9uwYcP27ds3bdq0fv36JUuWrFix4pVXXrnxxhthkdPixYshjoElDJgNo0aNio+PlyQJHLg333zz8uXLwf8LsiIvL69379779+8H3xfeBQ8s+wDFD9/i9mMBCOuBFUXZs2dP7969obO0ebndbjCKAE5utxt21kMI7dq164MPPoA9kATzgAgcL8JVhBJXCAWCRgv2mUqSsWLe7XbDuAi74/zwww8sy5Ik2a9fP6vVCswB643O9iNhdd8fS6C/cRy3ePHi5s2b9+nTB2IXEEDEczHgFARg9/Ly8okTJ951112w5hsoq6oqGAbTp0/fvn07nhr43Xff9erVCwenfT7fkCFDvvvuO/BJZGRkfPLJJ6mpqTjwguERkIBRAGwz4HJYTYUQeu+99wYOHAh9hyjnF198kZOTgxD69ttvBw8eDO8CQsLCwsBXBuCEjfH/uBJ7hbDX/2fNCBot0H9d10HxwAOhqqoul+utt97Kz8+vqal5/vnn8/PzITOeEA6ZIdiHvwKRAqd5gHngcDgoirJYLH369CEIYsmSJXV1dRzHweugROEd5kGs0TS9YMGCXbt2SZIEG7yDMw20rIULF1IUBaLG5/OtXr16+PDhM2fOnDFjxqhRo0BlAg6Oj49fsWIFmPscx7nd7gCQ4Fs8b8B/KRVN0/PmzbvlllseeeSRn3/+ecGCBbNnz544ceLdd9/tdrtdLtehQ4cGDx6sqirse3IK0uPGjYMNHQH5oEmG0HJlwixotDgcDtC5YRQURRHGVIYx9m4DAfL111/v3LlTVVWPxwMsjgN8DaECXu+RlJT05JNPEgSxYsUKXKmu67ApG5glABsIRC5ZsgRMF6gFdk8+evTof/7zH/wWSZLYZgAGhVAMtJxhmHfffTc3NxeUJYDQOb0LeGUIhJUA8zzPu8wLFD+e5ysrK0tKSqCRDMPs379/4cKFII3tdmP3o4EDB2ZnZ0NgFEJG4KZrCKFCeS4zBYJGC1gdoB35r0QFxtI0LSUlZcGCBWDVQCQeNHhI4/gJSZIQ8fAfRyENO7KBZrJu3TqCIPr2NbZKUFXVYrF4zAuYG9gd7/wAnlnKvIxNM8zTP3ief+utt/Ly8rD+g7e6EkXR4zE2aAZxZLVa8/Pzv/vuu+3bt8MYDyWc/ycBLGGZg406juNAT4OOgPCcNGlSenr6mjVrwCFWVlY2fvx4mMUI2aC0s7XW87ch9O3loUDQaAFWg9ERdCqItLhcLlmW6+rqxo0bR1HUzp07A2L5MJPK2HTNjDye3T2AU8BzlmW//vpr2C4IlC6Ix2OrABDLMAxoTTRNA7+COwuY8tChQ9OmTSspKYHCvV4v4AryYBtG07ScnJyFCxcmJyczDIPtsYAmNeQWW3eQGZAgy/L27dvBSvF6vRUVFRMnTjw1hw2cE1jQQeaG1BLKc5kpEDRaSJIEdgQjHk5Ig1+6rq7u2Wef7devH5y5Q5KkzWbz3+YZ4oPwOvQTbGs8MxceQsgcFDmYStyzZ0+CIL755hvQUoCP/Q86DOB7wBVsNApgWLRo0aFDh/Cu9VAOTG8Bk0YURXgLgASjOxR7zp8EhAmIAv8MsLoLVqrArBkw8OBMItAe4cnOnTt//fVXqEiSJDhxEhzx/iTyLzyU/nMpEDRaYNf0kSNHtmjRIiYmBnirvLx8+PDh2Jw4W/OWZdnpdObn5yclJR05ciQ2NjYhIeHIkSMHDhw4ePBgcnJyaWkpdlsBDLxeLyQQQgkJCV26dDl1SkFERIQgCCBe8KxNDDZwAGCC4lN4wDkGO8H5gwGngTs1zTgwFV6HgL2/loiLhQTwN1gaWL2EcjBWgQ4Mw0A50Aw8Aw0yW61W6LgkSVjxOw9KA5oRur2cFLgQtGRlZZ2aiDVp0qTHH38cjIERI0YcPnwYFnJAYBu0CzgRiiRJOBTq6NGjBw4cOHHiREpKSlxcXGJiYlJSUmJiYk5ODmYUULHAENc0DVwImqYtWrSoZcuWBEFQFAWyheM44D+WZUG4ASPiW4RQeXl5Xl5eaWlpdnZ2oXnl1XPl1nOlp6cXFBRUVlamp6dnZGQkJCRUV1cbOzRWVJw8eTI5OTktLa2oqKiysjIzM7O4uLggyKueanNh/2zMCmcLMfxVKHHZKBA0WmBEZBimqso4yyEnJ2fGjBlpaWnA5aIo4rETD5BwahSM3DDKwoxJ6KTP5/N4PPCcYRgY70nzggEenpyyyD/99NOWLVuOGTPG4XCcPhTBLALcbqDDqKqK6xUEIT4+ftOmTRs2bFi1atW2bdt27969tZ5rSz3Xhg0bdu7cGR4enpiYuG3btg0bNkRERGzatCkiIiI6Ojo+Pj4yMnLlypVhYWFRUVE7d+7cHORVT7VbXC4XXnUDhALKQzr0+adQIGi0QMQazIlx48YNGDCgqKgIlByapvFWi/CE53ns3qmsrJw3b95bb701cuTICRMmjB49euLEiZ999tlHH320YMEC8KJiFc7hcIBSBEiA6b3Jycn33HMPjhvCHtUBszBxoBPgB5PWwOtFURRGcsNp7Xa7YSoKFAiVwusAY2gzfOv1ekE/bPhnfS3x+Xw8z/sjJCRe6qPVZXseNFpA9QILYfTo0cOGDYO2gnZE0zQYJzAVCqACS1/85wWD7QEv4r1O8HmfWIuDaDdIrZqamsGDBzudTrvdDoIFSzkoB5Q3ECyAUnwy6EWhptfrxZPfwB3scrlgC1Zd1+vq6txu93n2mMQu5oBEfW2DHbgxRLGDvr78oeeXgQIXghYYX5cuXbpmzZq2bdva7XZw8ui6vnfv3g0bNpyKEo4fPx5i5xBXgZ7ASO/fK0AdMB8eR2HmFcyoB4OkrKxs2LBhx48fB4GjqioEQxmGwW9JkgSTkXH5gEOGYUAVxDlxhoYk3OYFkUSKomAVl8vlqq6uJklSFEUs6wRBwHHPhpR8/jwgJAPQchHLP3/toW/PSYGg0QIOn1OnN+3YsQMh1LFjx/nz50PR+fn5cH6ALMvmKdLGREbYixHP74KcIIhgWTI8wQ4ucPKCxwkXO2vWLDgSBAQUrKPC0UasEfl8PtgUAjZ7h4nxYM+AvgQ1nvMTjnI/+xPaANBNS0ubO3cuQRDjxo1bvXr1mjVrvvnmm/vvv3/+/Pm4DeAla/jn2TXCE+ztwICBgBW0J/T5p1AgaLR4PJ6YmBiIRguCsHbt2nbt2uXn5+/Zsyc5OXnQoEHA7rIsYzcXBFVw9I3jOAhl+kPCv/MQloEgnd1uh/VSUIiu63CE9KndHsBBrCgK9sAmJibi6TB4kT2O/eEG+Nf1u2me58HahpXAaWlpBEHAnE4YOLZu3QpHYUELf7fAoDL4H7IXQktQpLsUmYNGi6qqMOkQjAqWZTdt2vTjjz9aLJZTNu706dO3bNkSHx+fmpoKSw7PjkzDYAlKBRwjCMuqBEGgaRrPt2fNa+PGjVOmTAEMIITgUDXM9xDIBw9bQkLCjBkz/GmEg/QURf2uGgY29NmfAH6YFWaz2WbPnv3kk08CTqKioiiKio2NTUpKwpZYw+17yHl2jf7WfABaziamf39D6UtNgaDREmCk4lvQHGByPtghWIU4Zx/q4xKYwALMvXv3boAKqFi4Lv+Ex+Ohabq0tLRt27bx8fFw4Po5a2zgQ9wwqCXAVOjVq9cXX3xRUlKSlZX1xRdfIITw8byiKNI0DW/hQhpYaSjbX4ICVxxawI0mimJaWlrr1q0TEhL27t179OjRg/VcW7ZsGTZsWLNmzfr164d1v9+VJOf5bTCjA99jswc29r7uuutmzJixcePG4cOH411j4MzhxMREmG4MTm0o5zwVhb76y1HgIqMFTI6z/Tln0wUzZUCCJEmn02mz2fr169ezZ89nnnnm8ccf7927d896rq5du3bp0uWWW26Jjo6GIA+2/s+utCFPcHuwbKFp47AuhmFycnIeeOABOEN03759JSUlLMv+9NNPMAdsw4YNNTU1IdnSECL/RfMEjRbMTGcnQLnHintA3DCAQGe/Dk/AJKitrc3PzxdFEeapOBwOez2XzWarqKioqanxmBf4sgPqCuoWNwz4HpzUYDDMnz+/f//+brcbjkfked5isaxYsQImqoGzIYSWoKj918ocNFrq657/zEJgOABPffkxUwYkRFGEmAb4ZMGOh32EA3LCLZwPjienge8BTyCor/bzPMe1AN97PB6s102fPn3x4sXgYwBsfPzxx+Xl5ZIkLVmyZNq0aUCEkCZ2HvL+pb+6aGjBJ35gcsCye3wbkMBMGZDwzwZhmYCZxf4ZwDsMpgUwN1gXAXmCusXtgQJh2v/+/fvHjh3bvHnzRx99dMaMGT/88MOSJUteffXVxx57DCHkdrtPbfg9YcIE2IA8hJagCP4XynzFoQUsdbxg2OPxwMqq+qJ4IILAB43nU2IX8wX8EgFoYVkWZpfhxZhgF+FTVmD6WXR09Pbt22EXtRBaLoDsf4lXLhpaZFkOcBnDBJb6qICZMiABnmjYXQmrQPUVAs+xagRqGw6rn/+t+r7F7QHZAh4LcA2DNxmiohDMgZDlqQ3z33nnnYMHD2ZlZcFbuJD6agk9/ytS4KKhBbgEcw9YDtilezZpMD/9wcTZJV/cJ9Cvsz9hzhuE+b1e74oVK37++ecGwvvitjBU2mWjwEVDC8YJbjocM4RvAxJ/ECT49YBiL/rt2TiBJyDQ8N74sLfTRa89VOAVRYGLhhYc88bry89vPGB2/4OJS03N+tCCo6h4mPDfgeBStypU/p9CgYuGFrA0YAETbIEHfFZfr/4gSPDr9ZV/sZ7jigISAeW7XK4LWGoWUEjo9gqnQNBoCWAafAtzwyAKIQgCrJivrq7GGS5R4kqgLw7v4MSV0KpQGy46BYJGS32aCfbkapqG924F5+85X7lY4LnoFGlggbBVpyzL/juPBaykb2BRoWx/FQpcNLRAh2GbSVmWk5OT169fb7VazwkV/4jEH4TNFULogK0Gr5BWhZpxcSlwMdGCN+M6tRLryy+/bNy48U8//fT/K1rAuJdl2b/X2NVxcX+kUGlXCAWCRgtCGvwJAufxuBDS6uqssmzsNI+QxrK0rqsIabGxBwmC+PXXX0iaEiRRVhWGY1mek1WFYmhZVSRFllWFZhlO4HWE4E+QRDjCAagDXibYKQIij3DGHU3TTqczZCRcITz092lG0Gjx+Ty1tTWyLFZUlLEsXV1dyTBUdXUly9J1dVaOY8rKShDScnOzr7qq2bJlSxmOdXs9sqoAHkRZcrpdkC4pK62z21Rdq7PbSJqqtdWJsgQL+hVFgdnEoij6fD6SJOEgOwh31tXV4WUnf5+fKtTTP50CQaMFIW306FEEQVxzTcvt27cOH/7fxo2JZ5992mq1fPfdghYtmi9durimpnrPnl0339xmypRJk6ZMHvv5uBvb3DRn3lwdIYqha2qt/x76nyeeevL9D0bc3f2e/MKC6hrLD4t/bN+xw2NPPP7UU0+1aNFi5syZqqoWFha++uqrQ4YMGT58eJ8+fVJSUmD7yeuvv/7ll1+GwzD+dAqGGvD3oUDQaPF63YoizZ8/t2XLq7KzMz0eV9eud86fP5fn2eTkxKFD/60oEkLaoUMHOne+rXv3u10etyhLffo+0vKaq72kz+Pz9h84oNUNrXWEWJ6b8uUXbW5uK0hiYXER0Yi4v+cDZWVlY8aMWb16dXl5+UsvvfTMM89UVFSc2rFl6tSpTzzxBM/zx48fb9GixYABA/Ly8vA0yr/PDxbq6Z9IgaDRoiiSqsr79+8lCGLlyhVbt26+/vpr27W7paSkaMqUSRkZJ2pqqn0+z7590R06tBs/fpzb69ER+mTM6JbXXO3yuKss1de1ur5nrwdXrPxl2fKfJ02ZTDQiKqurdISIxo1eeuVlnucpivL5fBaLBU7SCwsLmzNnzrhx4wiCSEhIQAhFm5fL5QrNy/oTWedvWHXQaEFIo2kSIe222zrcfXfX//znzcjIHc2aNRk37rOHH+5dVVVBkl5B4JKTEwmCmDNnFtgtz/V/vmnzZi6PO+3E8Vva3drv8ceqLNUWa43FWuMlfT6K5ASeaEQMefMNmNvLMExdXR1BEAMHDrRYLAUFBRkZGSRJWq1W2OHF6XQKgvDHV0r+DX/yUJcvmAJBo0VV5draGoS0SZMmEATx/vvv6brap89DBEEsW7YUgMQwVHJyYrt2t8yZM8tirVF1bdToT4hGhI4QLwqNmza54647dYQqq6soht4esaPWVkezTJub2w74x0BAiyRJVqv1gQce6N+/P6wJQwiFh4czDFNYWEgQxIcffggnUV5wz0MvhigQLAWCRgvDUAhpkiScOJF27bVXh4eHaZpy6NCBG25oVVpa7HI5nE47QtrcubMJghg9elRFVWVhcdHjTz5BNCIio3bqCKWkpXa4rePIUR8nJCVOnT5t9KdjdIR2R+8hGjfq9/hjBQUFXq8XTic+duzYvffeO27cODiucfLkyVVVVSdPniQIYsCAAWVlZX9wKUuwxArl/5tT4ELQ4vN5ZFm0WKqOHYt3OGwIaTZbbVzcYQi/IKRVVpbv2rUzKipyx45t6SczsnNz4o7Gb9m29XDcEY/PqyHd7fXEHjm8ZdvWuKPxLM+xPAcZYo8cTkhIcDgcGAZWqzUqKio8PPzAgQMQB7TZbAkJCRkZGTabDaal/c1/wlD3LxsFgkYLQposixCgtNvrJElASBNFYwNU/JUsiyTpVRRJEDgIrSiaSrOMIIlwCxFJQRJFWcJxGPgWplrhNf2qqsLZDNj9hU9rgVnPl41SoYpCFLgQtHAcgyP6kiRomrGZPUKarqtg4uNvRZFXdQ1i+YAKlue8pI9iaEVT4QkvCrwoQFrRVEmSRFFkWRZOg/GfSwIn08Nvput6KJYfYt/LTIGg0SKKvD8kWJb2+TyCwGGBg+fFMAzl9bophna6XT6KlFVFkESXx03SlI6Ql/SRNMUJvKwqsqpwAk/SlJf0wdHhsMQfjoDFOxH77wKMt7m4zPQKVfd3pkDQaNF14xR4ECYIaaoqCwKHxQtARZIEkDmGwDkzB0xHSFJkhmOxVJEUGetmgiRKiqybPwWWJ6IoggABMwYmaF7mXyvYKdKXuXmh6i4nBYJGC+BBVWVVlSGt66qmKZqmiCKv66oo8jDDUtMUw5I5M0MM0MKLAqACUKQhXVJkSZE1pMMTURQpisIggT2HGIaBXcUEQZAkCfbhP/8+YxeLiPXNoa7v+cWqN1TOFUiBC0GLJAmGQWICBqSKv4kPEMIWP8w1xmDACVX/H7EDUFF17ezzw7Am5h+5909fUrLWh4r6nl/SxoQK/3MpcCFo4TgGXGEADE1TzBOBDANGVWWaJsHFDBDSjUy6KEuqrqm6JsoSljaSIvvbLVgTg7Vi/rsqg6iRJMn/4NKA7csuER1BbP7vZ31IMZ5fomaEir0SKBA0WsAx5X9YMZzTHWxnYEcYmqbBMIBjfYDb4HRVOOoR8x+O6LMsC4YN7F7JMAxsCYAQwtuXwaljHMcpisKyLHY6kyQZEKKBA7egQHx6ODacTMArHq8DIUXVRIQURTU85rCGRxA4yAlNRQj5fD5zhsFpDzvDUDBw4GGF4xiOY3Rd1XVVEDieN9qGg0tQmiAIsiz7dxN2eYa1zXBSLAwf+BRO/xVpwf4QofwNp0DQaMFFgw8Xfjb8sOEJn8+HV7HjvZQcDsfZKhbY+uBTxgdwwwQZvM2Kx+MxnA/mSkaO43w+w7cGSIMNmiVJgo014DRw2BFTEISA9kNdgiDoum42T0NI8focssKxnA8hRZRYjqcQUkjSawaaxNLSUhB6giBB93medbudYLxBMAohDaJPYMuxLI31VUwxOGUWh5UAe/hb3Bd4Aid/wGGaeIsmnDmUuEQUCBot/qcQY1EQwHMNbCuwr6qqLMsyDAOSAUQNnDFG0zRmBXgCexBjRIFPGcBmtVrx6l//I1ywMIFNAvDRsFCdKIoOh0NVVdivFbwI8Lq5WlMjKTdCMkIyL1AgZCjaw/EUuNH9W+L1klAIBoMkCafVUV11uRz+vkSENEHgTMwY1MIDB8/zQBDYEB1OewX8n4eqWPCeJ0/oqz9OgaDREnBKHkgY/0hIA9sEri0Ms7q6uq1bt+7du5fneewvxmwE2hSY+7BBuD8egNXwUeOAB8zHsEQZCxP8InAYdAcEDn4FumC2TeMFWpSYjJOpy1cs+X7RtwcO7kVI4XgKYJCamvrVV1/9/PPPVqsVqjBP0jS8gqLIY+uOpklFkSRJABUOPs84QpAsywUFBdu2bUtLSwNsY2Hrv0QUyALNxq5CABVI2gZSPpTtgikQNFr87Wye54FH4UDWc4Ym6msZqNputxsOahVFceXKlffccw/LssC7wDEURXEcV1tbCyqKqqpYJoAk0TSNoigoTdO02tpaOM0YPNGg3mCTBjzRsG8/zBiA0gBvgEk4QxzA7PW6dSQzrHfwiwNTUo893//prOx0liNNG0bbv3/vG2+8kZCQ0K1bN5vNxjCcw+EwBaYxFYiifKBuYczAnDpdV51Oh3zy0gAAIABJREFUO6RNq8awqiwWy7vvvjt79mzoJjSb53nYfgnsGVEUsYHEMAxIZkmSYAZqfXQOPb+IFAgaLRRF4ZEe2qHrOs/z9fmJztNWTdOATWFATUxMvP3222HJij8HgL4HIyugAlgZlriA/FFVleM4i8UC4IFKSZIE7CGEYPTFG53R5gV6v8/nA4cB1tnAzWAenMQipOyJjnzu+ScRkgsKc0AZczhreZ6dMWP6hAkTNE2rqqoynR8iePM8HhdEb10uh8vlkCSBJL0ADzBgQA1zuRymkDlNocmTJ8MWOQAYWZZdLhek6+rqsPRWFMVms4HMgfP9Aiyc8xA89NUfpEDQaMEH5YEXC2svwaKFMS9d1+12u81mKy0tjYiIePbZZ2tqaoC57Xa7JEklJSXYZWSxWFiW5TiuqqqqrKxMUZS6urrKykpZlsvLy0mShMZkZ2e7XK6qqiqQTk6ns6SkxOVypaenw5IYn89nt9urzAshBMwHfKnrelVVlcPhKC0tNXGrKaqweMl3j/Tt5XBaZYXXdElHsiixNTXVX345ZebMmUVFRXa73eFwcJzgdrttNhvY9zzPVldXejwuVZVJ0kuSXk1TsrMzKyrK3G7nqe0NXC4HQoYwrKioqKqq+vjjj1etWgUSD7rm9XqxMKEoKj8/3+FwiKJYXFxssVgQQg6Hw+v1YpfgH2SF0Ou/S4ELQQvYD+np6WvWrFm9enVmZiao7OcETH0tAP27pqZm6NChK1euXLFixccff/z444/D/n1paWlvv/32woUL33jjjdTUVFVV4+Li+vfvv3nz5kGDBk2fPr1Hjx779+8fNcrYT2Ps2LEEQcTGxiKEFi5cOHv27Llz544ZM6ayshIhFBkZOXLkyDVr1owYMSI7O5skydGjR4eHh0dGRr722muFhYUwTkN7cnNzZ8+evWjRomnTpv32228k6a2oLFn43bwnn3p01eoVRcV5osRquoSQcuJE2ujRowYPHhwZGVlUVDR06NDWrW986623CIIoKiqwWi3Tpn05c+ZXY8d+Om3alzCJ7pdflo8YMfy331a++eaQ7OxMRZEyMzNef/312bNn//TTT7169frxxx8RQiRJRkRETJ06NTw8fPr06VFRUQih+Pj4Bx988JVXXtm4ceMvv/xy3333LVy48Ndff50yZcqjjz6KpWJ91A49vygU+H20YGsEwAAqTVhY2OTJk0mSfP3118eNG4fNA5Ikd+3aNWXKlA8//PCTTz4ZO3bs+++/P3bs2NHmtW7dOvD5UhQF9s+4ceOmTp0KPQkLC3v22Wdpmq6rq7vxxhtPnDiBENq3b997771H0/S0adOWLFlCkuT69evh/DqWZRMTjfXMJEkeP37c7XZnZWW9+uqroBaOHj169erVBQUFbdq0YVlWkqSVK1cuXLiwvLz8ueeeg+1n16xZU11dTdM0SZJwOuxdd90VHx8PawFefvnl3bujFFU4lnD4n4P6CyItKzxCiqzwvECTpHfz5k1ffvklnHQZExPTqVMXu92elJSkqvL8+XM//3ysKPKapjz//LMxMfvy8nIIgkBIO+VMmzJl0hdfTEZIGzDg+cjISLBAxowZM3/+fBgX/vWvf4GOWl5e3qtXr+LiYlmW586dO2LECKDV8OHD58+fL0mS2+1+4oknUlJSwHvmf/DlReGPUCH+FAgaLZqmpaamEgQBmvT27duLi4tVVYWfHMQOVrIZhgEbAOxUCGJgzUqSJIIgcnNzwZbdt29f9+7dEUKxsbEEQUyfPn3FihUjR440mQzNmTNnwYIFCKH169cPHToUREFiYmKrVq3A3D/leJ04ceKTTz75lXkNHjz4888/X7duXatWrb755pvvv/9+8ODBffr08Xg8gwYN6ty584wZMwoLC3VdBwD7fL7S0lKCIGw2m91upyhqy5YtQ4a8Bmh57PE+dkcNL9AsRyKkULSHony//vrLV1995fF4ZFmOjo5+6KE+MJTU1tYMG/b266+/Om/enOXLl3Xs2H7nzoiVK1e0b3/rjBnTv/9+4UcfffDOO2+lpaU0bkw4nU4gztSpU+fNm0fT9LJlywYNGoQQslqtoigOHDhw+/btNE0vXbp02rRpuq6f0mEnTJiwbNkyAPk777yTnp4eQos/W1+idNBoQQi9+eabw4YNc7lc8DODlYl9wS6Xq7y8vKKiorKysri4OC8vr6CgID8/v6CgwGKxcByn67qmabC3C0EQcXFxYKisW7duwIABNputpKSkVatWFoulsrISQOhwOH799dfFixcPGzZs5cqVmqZVVFRYrdaEhIS2bdvKslxRUVFbWztu3LhPPvlEEAQwQkRRnDdv3gsvvIDDKadklKIop8TLsWPHhg4deuedd8L2S8CCx44dO6XXgceZYZhp06a9+eYQTZdOpCeDlY+QwrA+UWJFyVj6Nnfu7M8++wy0oPDw8HvuuRchZPohtF69em7YsA4hzWq1kKSXonyzZs3s168vQlpeXk5lZTlCWlRUJAwW8NaYMWPWrFlz6meeOXPm0KFDwX2naVqXLl3WrFlzypUyefLkCRMmwPkF77333i+//OL1eh0Ox4svvpiWlhZCyyVCiH+xQaNFEITXX3993bp1UIqiKKC6UBSlqirDMCdPntyxY8emTZt27959+PDhgwcPxsfH7969OywsLDk5Gd4Cv7AkST179vzll18AafHx8Y888oimaVarlSCImpoakFFHjhzRNG3hwoXwLuAH/HLHjx+/6aabSJKEnKtXr37iiScAw263Oz09PTk5GYqCkF9GRkZMTExkZCRCyG63v/3220ePHsUBGYfDQRBEdXW1y+Vyu93vvvvurFkzeYHetXvHw316IiRLMoeQYrPXIGTMuV65csXXX38NovLw4cOPPPKoz+dzOp2nNLtx4z778MMRYK5UV1fm5GQlJBwlCALmvLjdzj17dgkC17FjexALqqqOHz9+0qRJCKGIiAhQNSmKcjqdd9xxR05ODkmSa9asGTt2LBDh5ZdfXr16Ncxs6NWrV2ZmZggtQJlL+hk0WgoLC48dOwab4mVkZHz99ddFRUUUReGAGvxs/o2GWU80TbMsC8Fy7IDKzMx8+umnT548efTo0VdeeeWWW24Bs/vIkSNvv/12SkrK9u3bw8LCEEJr164lCOKGG25o1arVgAEDMjIyamtrN2zY0Lx587S0NFmWwZk2c+bMsWPH5uXlrVq1Kjs7GyG0fPnyr7/+Oj8/PywsLDo6OjMzs3PnzocPH46Pjx82bBg0Gya8KIoSHR39/vvv19TUxMXFTZo0qa7O6nLbliz9/plnH09NSygtK0RIcbrqEFKqqyvfeeetQYMGFRUVWSyWadOmtWlzc15enhntETiOGTv207VrV6ekJP38809ZWScR0n76acn06VMLCvLWrFm1a9dOhLSIiO0vvvjiwYMHd+3a1a1bt3feeQdCWPPmzfvmm2/S09OnTJmyZcsWOGT8hRdeePvtt0+ePJmenj5gwIDp06dXVVUdOHCgR48e4eHhIbT4s9wlSgeNFoRQVVVVSUlJREREdHS01WqFwRVcnwzDYKNF0zQIj2CFDSHEcRzkBxFBUZTNZtu9e3dqampubu6OHTtiY2NhokdhYWFSUlJqaqqu6y6Xa9q0abt3746Li9u8efPixYtfe+21ioqKw4eNXS9iY2Npmna73RzH2Wy2mJiYI0eOgOEryzLP84WFhZs3bwZW5nk+LS0tNjY2Ozvb5/PJsuz1eqEKiIsXFxdHRUVFR0ebvjLJ43UcOBi9d19USuqxaku5IDLmxEolJyfrwIH9hw4diomJyc/Pz8jI2L49Ijc3FzzIgsD5fJ7U1ORjx+JttlpR5GHvqBMn0tauXV1eXgrzxxRFysvLW7t27b59+44fP56amgoORoZhQDAeOHAApoTGxcWlp6dHRkaWlZUdP348MjIyKirK6XSmpqZu27YtNTU1hJZLhBD/YoNGC/iXoAjgeFmWwaHkXy4YJ3jWPWAJAwlyAmxg1iN+FzbXg7ghPGRZNicn56GHHgJXr6IoFovlxRdfBK8RRCchgslxpycFY+XqjCFhlAR7jYPhJElSdXU1uAdwyBIiNsYEFUGAqhmGEkSGZjwIyaomSDIniAxCijEl+fRiOORyuaB23AWK8sFUMZyAoD7Ps7B9FMvSsLeBJBnTjeFFvAZOlmWO40D8wleapuE91DVNg95B9+ETy8aQTwz/CpciETRaoBF4xr6/3ICpuHBKK17qCFPiQQGD8Q94C5xaMEsFggwQUIcnmIdIc3d9URTz8vKGDBny7bfffvTRR++++25+fj60BGaFgbKH54DB6yzLggmu6zrMd1QUBSKYYCmB8QNPnE4nMCiGNMdxLEurmiiIjMNZi5DCC7QJFWPXmzMLRY0jNFiWNR3iyNyT1gPYwDNf4Bbm+auqDBPMSNJ75hgPZGwCIknwiRCCyKOqqi6XiyRJTdNgVAKKQRegkTDQ4NfxqgeYUnAp2OVvXubvoyWAQDj80sBEwOv49pyhTPiZoWTIgKcO/G7+gPbgigISAdnwbf3lG2tR/vcPv3TOREDm/7vFsPFP/G/Jv5PZfNHoECYLHq2g/bhBAb0O3V4UCoTQcprB6kcL5sAGJv6P489Ggj9OIH12Hnhyds4zTxDWcjFC8FwK3MSLwhyhQgIocMWhBbQp+NWBG2AcDZabA/qJbzE/BSSCLT/gdb/b86EFz9U/w/rGMsxz/p2NJXgClolfdUbwyt9cga9wf0OJi0iBPw0t/r+3fxr3DR5iJvbP05A0Licg0ZB3/1iec3O/pikYFRgqYMzg5/4JyAObhCiKBIsuYbUmGH5AGZAqomhMf/bXYwN6Hbq9KBT409DSkNZjrg1wOvm/i/MEJPzz+KcDsuFb/zz+aZyhwYl60QJbYQAkMGD8EeKfBiApigQLyxRFArmE/XXYKQIndYbQ4v+rXaL0FY0Wf62svv7Xx8SXOn999fpzvH8abygVIGT88/inAS2wVpnnWbzuErxhuq7DEh1w6MFSypBsqe9Hv1jPr3S0YMDU1+H6uPZS56+vXn+O908DWlRV9pcw/hkC0ggZO6eLIs+yNMvSMJ3Z3BxUBZ+Y07zAJxayW+r7uS/u878AWnAU5Zw9r49rz5kZY+/st4LNf3YJZ56cWxO7MLQIAscwlBEkNbfPNQWOsf0tLBerq6uDwBH2kp1pA2yRW1+fQs8vkAL1ogXTPSCBA/AwqkFEDCpnGAb2+YY4WoCxAaFJ0BwgVM8wjCAIMC5CCRAf1DQN1gx6PB6bzbZx48Y9e/YIgoADmnV1ddAMCGxDnFuSJEjg5QMQowR+wgsM8SpiHIuE9WfQAEVR4MxxsJ49/6+9K4GK6krT5dKdyTKjTmezs7UdTTQxdjpp7Wg8HltbjRtiRlsTNQ52JATiBsS0WxA0KkcTElxQE2NcIpgAjkhBQCj2Yt+qqIJiK6iFqoJ6tVDLq/1Nwde5hyGQSEaartOvjgdfvXrv3fvuvd+9///f//9+ioqPjz937hwpEbuHoNpAC2g0Gmyow6HB4bAZjXoMbvBB37p18+uvr/SGScopqguZCJDrBqmjkPEGohdcBKCiOBw2kUh45swptboDK0+vm2aPm7PJZCovL4+Ojvb08lKD6rZfT+HrzxwX7G0DtcCQ0QKaCAxB+Cxu3759zZo1YWFh8O3FTxjNer0elBH9kINQfuJhSZ4GNzMorIh8ZBjmm2++8WYIQywHplXQhWGMki1wQIXQxOh0OjyWeOWQnDBKpRKoJl48ZrMZ4cfEhwAPZximpqbmhRdegNsiRVF9X0Sv15tMJgQnA3u9D+yh58NK0tWlcTrtubk8DocjFtchpxqwBC0f4fsmk7EvebRKpbRYTA6HTSpteeedrchbCGeZXv+Av3ej2WzesmVLVVWV1Wq12WwDQoXMTQN1PXtuyC0wZLRAmEH+x4ULF1ZXV6NLZDLZxIkT4+PjiYuX0Wgk7Hg0TRuNRoPBgKwsDoeDOJjApAPnDoZh+vJXgEOMy+UuX74czlEej0epVML7A85Udrsdcy0isXAZyPjA3oL49X6l0DTd0dEBIBHiC4x4Te8H1wNvzz33HMJ98VWhUIDoDDRoJOkSsGe1mt1uJ1k0rFazTqd9+ulJYOuD/xhNW+x2Wq+nTCZjd7fB7XaCFLejQwEU0bRFpVLm5+fu378XtGN2Ow2/zK6uLvgpMwzT3t6+atUqvV7/Mzh3hjxS2BsYZshowYjJzc2dMGGCUCgENpCM+/Tp04sXLwZIEEsMecZqtRJ/R7fb7XA48BCLxQISBiwITqfTaDSaTCa1Wl1fX0+4jpKSkl577bW2tjZh7wfjmKIomqbLyspkMhl89eFgJhAIxGIxepbP53d0dKhUKpFIpNPp9Hq90WhsaWlRKBSdnZ0ajUYqlZJ7S0pK5HI5xiKAl5ubKxAINBrNnDlz8vLybDYbkAx8KhQKbzi+RCIxGo3t7e2tra0ul8tqtWq1nQUFeW63026n29paXS6HRFL/4IP/SVFdOp1WJmtraBBTVBcSdKpUPdwx8CgTCmubmiSgU4Iv2RtvrKuqqgCW4LNcVFQgkUgQfodQ7Xnz5qnVapBrDri8sIP8LrbAkNFC9Xa1v7//vn37iPcuJPhLly7df//9pHJEVYADMmQYoMXlcgEw5GIceF3o9+7d+8knn1y4cGHnzp1gY8nJyXn00UdPnDhx5swZPz+/8+fPwzl/27Ztt27dOn/+/LJly2iabm9vDwwMPH78+O7du//617+2tbVJJJIpU6ZMmzYtKCho1KhRpaWln3322ZgxY65cuUJR1MGDB4ODg2tqavR6fVRU1IEDBy5evLhr1y65XG4wGGJiYkJCQs6ePXvq1CkOh5OSkoI1Co4FmZmZ77zzzvjx41NSUnQ63caNGz/44AOHw8Hj8Z5+elJaWuq6dWvPnYvDQqFSKSdOfMRs7qaormPHjjz88INeBoyuLs3Rox8hUt/ptN+4kbRixbIbN5JefXV2Wlqqx+NSqZTLlr1GxDA+vzA0dGd+fm5gYODhw4fRXF6unA0bNmRkZPwM60W/lme/3kkLDBktDMNwudx77rmnvb0dhGCYcRsbG/ft2/eHP/wB8xxkIY/Hc+7cuQ8//DC497Nt27Z33303JCTk/fff37BhwxdffKFUKolrrTdi8b333ouNjcWCc/z48UOHDun1+vz8/JkzZyJKrLu7e/z48SKRKDU1dfXq1RClvvjiC71ef/HixfXr1wOEc+fOTUpKYhhm48aNx44dYximsrISzTFp0iSIVWfOnGlubna5XHFxcW+99RYWySVLliQl9YSp/OlPf2poaICUNX/+/NTUVDiYEDuExWLxJm2GsrRnzx4waN68eXPDhjegt/QGLVNabadYXDdp0lMyWRvDuCWS+ieffBzxLYWF+ePG/TvU/Yce+lVFRRnDuBsaxK+/7m8w6JqbG//7v99SKuVqdQfDuJcsWZScnGixmIxGY3Z2tsViQQDCyZMnz507ZzabB1xYWL3lTjBw59cMGS12u/3kyZO//OUviekJoe0Mw3A4nMjISI/Hg7gRkJ0i5p4oMB6Ph3B1Y0Uim9Otra1PPvlkeno6WFQSExMfeughg8HA4/H8/f27u7uh6ixdunT//v2dnZ3egOff/OY37733HkKdV69evWDBgsOHD0dHR0+ePPnEiRNGo3HBggUIdne73RKJxGQyhYeH79u3T6fTRUZGoplmzpz56quvbtu2bf/+/ZMnTz5+/PhXX331xz/+kSgkc+bMSU5OhvM/TdMQ3qxW69y5c1NSUsrKyo4cOUIo8Coqyi5c+HzbtpCxY0dXVpYzjFssrnvqqSdUKqVOp1UoZJMmPVVTU6XVdpaU8EeP7mGBSUtLHTWKExj4dnh46L59ezgcjkzWVliYv3btf2F1ksvbMzLS77vv37xQ9AaH6vV6wECj0Vy6dOnIkSOIkhgQMHc+FNgrf7IFfg5aIJz0DUTB4FuyZAlCSpxOJ1YYBK4IBIKcnJzi4mJviGxRUVFhYWFVVRUILiB8Q8+WyWSzZ8++ffs27s3NzeVwODRN5+TkPP/88wqFAnFa06dPP3HiBE3TGo3m5s2boaGh48aNq6urW7hw4eHDhy0WC0VRxISwY8cOGB50Oh0wXFZWxuFwqqur4+PjXS6X0WicP3/+7t27AV2YwmJiYhYuXEhgPGHChIKCAuDB7e7Jx4SfcnNzn3jiiaysrObmZp1OZ7Va4+Li5s6d09AgpmnLuHH/rlIpadrS1CR57LGJLS1NsAhzOByJpN5qNefm8h588D8bGxsEghosRFar2WQywlAmFNauXftfnZ1qBPfX14uUSvmVK5dmzZq1Y8cOmA0Zhvn000+PHj3K2sR+cqDflQsGRQt5OpmxiCeSUCj81a9+hSkWGUtqa2tHjx4NaQcDDkOTYRhe7yf7+0/W95+kpKTvvvuOWHIZhlEqlf7+/nFxccDh0aNHw8LCXC5Xamrq/PnziTr+0EMPcblcHo9HgtFXr17tDdCNiIjw9/eHXaGjo+P27duQxBITE/EuZrNZp9O1trb++c9/Xr9+PbFQR0RELF26FK/Z3d0NposXX3wR+S0Yhpk+fXpiYiLiE8HaDB1Mo9FMnjw5KChILpfDQPfrX/8aEmBLS8vYsWMbGhqysrIcDsfEiRNhORCLxb1o6dHUuVzuuHHjrFazRqPCekLTlu5ug1hc53DYmpsb16x5HXyWej21fv1fhMLaXjuyZe7cuV5KGsicx44du3TpktlsJr2DFyHdxx7cxRYYMlogvn/66ae95HQpeXl5ycnJISEh2E8kdBYdHR0/SaBI9jTI+1RWVgYEBCQkJPB4vM2bN1dWVlqt1oSEhMWLF8fExJSWloaGhh47dsztdldXVz/yyCNZWVk1NTVvvfWWwWCgaXrTpk3nz59vbGzEfmJdXd0rr7wSFBQEIj+Px4MqnThxYvv27cRM5yWMDQ8Pj4mJEQgEhw8fFggEXrPbBx98sGLFCoFAcPLkycmTJ3/88ceIvoRFDimHTCZTZGRkfHx8V1eXxWJxu91RUVF+fn5cLjc+Pv6ZZ545dOhQeno6l8sdM2ZMcnIyRVFqtTo0NPTzzz//9ttvN23aNHbs2OLiIqNRX1FR9tpri8vKSsrKSiIiDjiddpPJuGrVyvp6kV7fE4wZGPh2WNiu4uKi2NjYhIQEwu+8fv364uJiwkNNpjbSpOzBXWyBIaOFsHUVFBTk5eXl5OSUl5dD21ar1WQrEGZiMDAgGNhut8Ntlu79kHeAVGOz2SA+abXagoKC0tJSKNkMw8CwS1FUZmamQCDQ6/VWq7Wjo0OtVhcWFvJ4POw2gJmfy+UmJCS0t7frdDqxWJyVlVVYWAgLARYEu91uMpmwDFIUBV1ZqVSC2gL2WZOpR5kWCoU8Hk8kEqWlpeXk5CDNC0lKDrbLlpYWpVIJemUYzUpLS/l8fllZmUKhEIlEFEV5eW1yej8ajUbd+0lLS5NKpQKBoKznU4Ko48bGhm++SRAIasBnqdV2vvHGusrKcqfTbjDo6uoEcnk7l3urqKgIiMX260svvYRlnF1byIgavoMhowVaOyZpsrFts9koiiKqPFEbfsQmQ4gmoDBA+8cxaBwI7wQ2LiF7WCwWrVbrcrlIWWQLEtMqSRVEsoh5qbpAPUNgidbEtglGHs6gICLyYV8fVSLkNcQhAPw1oB/o62KD7BeQu7RaLThl8Hxi/4DgBF5P7EiSBEkk64vDYbt9OyMq6iAUffyF5wsZDXV1dV6jBfapWLSQZhm+gyGjBRwLZNNdo9H08wchdcXgg3sY/vZbauBnDpzgLofDQVBE8KDVaiH+kZHdVyOHAc3pdBoMBhijYTkgYAAtINgoIetj39Pj8SB5i8fjAX8fKRrOAVgnQWsP/AMDZC6A1YEQeiDZJXAFJBA/GqhA8K/Bm0IK7a2wG7uTNG3xeFwOh6272wCPY5q2bNz4JqzJSMTXixkGsPc2y4EDB+rq6jAdsGghA2/4DoaMFqfTiXEMAYDkc9RoNBiL6EuIJTjTd+8MnYpFCfvrsDX1nZ6hhGDsEp9Fso61t7cj66LT6SR+lqgMAIANROxswq8MeykYoHBOw6KHvKeAIlFLsKMCawHaHRYnhukhQyJmZfwEhCDlpdPphJ8oyPIAaUihpP+QkxWrARZDbN6rVEqGcXd2qmEQYxi3XN6O/Rlv3gt4ZEJCw/YuTdNcLvfMmTNkTmHRQhp5+A6GjJa+EyTMSm63WyaTkUHW3d3dN+/uj1SdRP9h3AAwxNoD2mzcrtFooJyQUmiaJksBEbpAnwdw4kaoUkRjIURKFEUR4cpms8GHt5cSyQxNhqIoIKq7u5s4JeCZMCL3FTKhw8B7DZOFTqejKIo4aNtsNqReIo+F43PvxW6dTotoFqgoFosJni89/Ewuh0qlbGqS4AKNRoUdYbvdXlNTA3yCUJdFy4+MtLv105DRguncYrFALMFfDFBYk1EzuAbr9XqymGDKJ4IZkdPIvg22/3E7skRgZaBpmtBe0jQN8YmUAj0KXzGd4y5UgCw+OIn05WQ+hosnZDmyCjmdToJDJCiHGxtgAODBBkVWUbwC+UoggScTiMJuhqoiG2vvsRtIgO2rs1ONEHyjUW+1ml0uB84zjBs5khDKAmJ/aI/EvYCNnUTbDt/fn0ZLv7LJRKvT6RArQpRySCnYkYDg3lcGI8bNHz/oVxz5Othd5II7PwCoMLhJfvABb0cOWhILAMWJiJcD3gLfTfL6kMqIGIlbSPBWb0160PLDfx6PS6fTwgGZZOHrjXLp4bnFJAVqaWCVXVsG7I67e3LIaEHxxHuFDB3IM5jRoQeTwPHBBvqA5wd7vQEv7isODXbjD89DdcF5jGOijve9GCVCqsSIJL8SgZCcIQdE6YddwWg0Erc7vJ+NAAAPy0lEQVQGXIPHYnD/CFrcbqfZ3G230ySLJcQzUjRZY0k6ZXZtIb0wTAdDRgsmWnPvh2ySoAuhWhCVoO/gGGys//D8YO/5wytxZrDrBzsPoY4IkLiMiHDkLlIcgNTZ2UlsGIQellzc7wBmZZgWYEiAbEaWFCKd9mJ1gIWFYf5uKMNevsNhQ8CMzWbtW1U0O+wZ7NrSrxeG4+uQ0UJsR4hxJXVCsBdkFawtTqcTFN1k5N3JAXlgv4PB7u132U9+hb0Ylw22NJGyiARFNBmDwTDgQtS3XLjJkVUX45sobP0YJ34og+EMZDAcI2gMIS6AIokYhQsF6/nSt/2H73jIaEFmarLngE066CoYB2RrhYxIMvj+GQ76WgVQ1X6YQSXJ9K/VaslCRHx5kMRiwNchpmdyF7Z3YAAEOzgaCuX2o3ohXxnGrVIpPR5XXl4OGMqBH+IulJ6ertfrlUol+oJdW4YPJOTJQ0YL2SLs7u4mCd31ej2m0tbWVszH2Hn8GVo+Gab9DgYcmgPKNv1u7PcVApJCoYBVCpEh/YCNW2DES01NjYyMlEql8KzBlVBm+j0ZX4lnEKKRKYpKTk6OjY21WCzgvgBgyKoFwqQf/oXr8enTJ9PTueDEgHEM2HA4HIWFhZ988gnxFUDppJVIB7MHd7EFhowWkmEiNTU1ODj4lVdeOXjw4ObNm4ODg6Oiovz9/bOzs00mEwbHPyFaMNowfGGwQmuScdYXKi6Xi8fjTZkyJTs7m+R7gFl5QKjASEj3fhAOYDQab968+fDDD3tDa5C4Ar7MP4kWvZ7S6bSbN2+CKZmmLeB3xUYNJqPQ0NDS0lLgk0XLXUTFYI8aMlqIR4nL5bp8+fLLL7/c2NiIp3vZFXbu3FleXo5AfJhoySi8w4PBRuFgtw92/WDnsSm5cuVKbMUQFZk8HzdiYYHINGPGDGQ/xhAHV9Ngz4eWgodDx6Np+sEHH4Q3DRz7HQ7HT6KFYdxHjhxOSLgG1QW0fQzTk24NipPL5aqsrHz77bfhmYb6kLcYrL/Z8/+fFvhptJAOQH8gTA+7hIGBgR999JHBYDAajfDe/eijjyQSCcaKN1E1kd2JbkBSf8EA0LfqGGdqtZrH4wkEApqmdTpdbW1tRUWFQCCwWCz19fUVFRWNjY0qlSo/P7+pqUnU+2lqagIPHXxYxGJxVVUVqGEsFguYMfh8vk6nQ/j+7t27V61alZOTQ2hfKIoqLi5uaWkhe5Q2m00ikZSXlwsENVOnPlNUVAB+I1C31NeLRCJhW1trfb1IKm3RaFQNDWKEBDc0iKXSlpISvtVqtlrNFotJp9M++eTjDQ1ih8PG5xdWVpYjfKW6urK1tdlms2G3tK2tLT8/Hy0GhWrDhg0VFRXIw+xwONra2mQyWVtbGzEiMwwza9YszFYsWvqOpWE6HjJajEYjhn5jY+Py5csRdFVUVHT48GG3261SqeRyOfEsRCK7vnv8ZOeepmmVSkWutFqtJpNJIpEsWbLkq6++2rRpU0pKisPhSEhIWLRo0bJly1Qq1eOPPx4UFNTU1OSNvvTz83vmmWeuX7/+7bffTps2TSAQKBQKr9fm3r17IyMjz58/v2vXLq1WK5PJ+Hz+okWLSkpKHnvssbNnz0ql0q1bty5atCgzM7O4uNjlctXV1YWGhsbFxcXExGzZssVgMFgslri4uB07dqSnp3/2WcyECeO43Fsul8NiMWk0qq4uTXFx0caNb86YMb2jQ9HRoVi8+M+nTsWq1R0JCdcmT/5tSsr/BAa+/eWXXzCMW6+nuro0zz47pbvbUFNTFRd3esyYUSaT0UtPERFxgMPhQN9LSkpauXJlcXHxzJkzwaQjlUqXLl0Ku0JXV5dIJDp06BCPx9u+ffupU6cg4tI0vXz5cj6fTxY6MrUN03D5F3/skNGCIEeGYaqqqjgczs6dO/fu3Tt16lTMcN50quh+2AAYhjl79mxUVE9e+eDg4Pd6Pzt27AgPD9+8efPXX3+N9QR9TFHUhg0brl27hi6ZNm0aFo36+no/P7/CwsKYmBhCrhcUFBQaGoql4Pr162PGjKFp+sKFC2S4v/vuu8gGfO+994I54Msvv0QIZF5e3tatW2F7pWk6OjoaGbeVSuXGjRszMzNv3749b948RK3IZG0vv/x7LvcWJCKSgEWt7hg//j+k0ha7nT5wYB9+/e67NPjYq9UdDzxwn1hc5/G45PL23/72N/DMVyhko0dztNpOl8uRlZX57LNTLBaLUqnkcDidnZ12u720tHTp0qVqtTorK2vLli3gPfOSAPr7+1+/fh2bXenp6aDR8XIV7Nmz58aNG/2s0mQl/xcf3Hf99X8OWrD5cOHChUcffRRO+NHR0XK5nKKovLw8DGgSaQyLKiZsTIFw1oKTstVqJXx8RqPx5ZdfXrduXUBAwI4dOzgcTkVFBZ4WGxv7i1/8AuQyBoPBZrOFhoaGhIRgaaqtrZ06dSqfz//LX/6yYMGC8PDw7du3P/bYY5999lliYuKECRPg9Yhqg/3Iy/BEjHjLly+fNWtWcHDwgQMHRo0atWfPnlOnTq1Zs+b7tnY///w0Hi8LLPc2mxXylcNhmzLl6evX4wWCmsuXv4LXsM1mlUjqP/nkREDA5gkTxtXWVtO0pbGxYeLER4CWgoK88eP/w2jU2+10SQn/vvv+zWazZWZmPvDAA1u3bg0JCXn99dcnTZrkDW9OTEzEdICInezsbA6H4+fnFxISgv0cmJLDwsKuXLkC/x12L//7Lhuu/4eMFpqm29raOjs7V6xY8f7777tcLsLWw+Vy09LS4NlOtvAkEgmfz8/IyODxePzeDyIus7OzEQAMPCgUCqlUOmPGjJKSEpIwFTqxy+VKTk4eO3Zsbm4uJBOPx7Nly5bg4GC0SlVV1eOPP56TkxMSEhIdHU2UJbPZfPLkyUceeYSEBgAhN27cCAwM7OjoyM/P12g0c+fOvXTpEmlgh8MRGxu7bNkylNXdbXjqqSfa2lrtdtpo1IOn2O12WiymmJiPw8J25ebyamurkX71ypVLv/vdCzqdVi5vv//+e8EGplDIpk9/rr1d6nY7KyvLORyOx+NSKuVlZSXPPjuFYZi4uLjf//73WDdgGrFYLEVFRatWrYIZ2mazVVRUKJXKhIQEPz+/0NBQeFF0dXVFRkZevnyZzXZEum9YD4aMFhJLzOFwkFQe7BByuTwsLIzwRLpcLq1W63Q6NRqNUCjMzc29ffs2qCxyc3OLioqgpsNLFwuRwWBYu3bt5cuX8TUzMxORZ1Kp9MiRI2lpafPnz5fJZBqNxuPxBAQE7Nq1C1pQYmLifffd53Q6z58/v3HjRoqiYGbIyMgQiUQcDgcxjAzDXLt2zWq1JiUl+fv7ezyejz/+mKKouLg4Pz+/7yMZO7KzsxMSEubMmdPR0dHreN81efJva2uriaew2dwNl63W1uYxY0ZFRR0krMf33nsPViG5vH30aE5xcVF6OlckEv7udy8ggqW5uZHD4dhsVoZxX7jw+dSpz2g0GofDMXr0aKFQCL/sK1euMAxz69atgIAAg8GABt+0aRPgRFHUzJkzDQYDWjgsLAy9wGr5w4oTPHzIaGEYBvtiHA7nyy+/5PF4169fz8jIWLNmzd/+9je4IZOFBWSWhOUVRcLg45WmiIpP0zQcscxms5+fX3x8/NWrV0HDl5ubO2PGjK+//tputz/88MO7d+8WCoXe/fWwsLDp06cnJSXFx8c/99xzIpFIoVB4ffsPHDhw+vRpHo8XGRkJd8PLly/Pnj07KSnpzJkzNTU1DMM0NTW99NJL586du3btGoJDIiIigoKCCgoKoqOjAVGIc+Xl5Xv2fHDvvfdERByAyxbJ0QVWYj+/FSkp/9Nr2DWYzd1Hj360cuVyobD2ww/3z579x9jYT4uLi/LycjgcTnJyokajksna1q1be/16fE5O9sKFfxo7dnRdXR3DMBkZGQEBAdnZ2RcvXvzuu+/A8/Tmm2+2t7cDxv7+/gcPHvTy10RERPD5fNJ0L774Ip7AouWfFC15eXnNzc2NjY35+fkNDQ1VVVW1tbUlJSVWqxXzn9vt7kvFD8MuFBji/wvWEoRh4T1NJpNer+/s7CwvLxeLxWD3KykpqayslMlkarWaz+dXV1eXlpYyDBMVFRUWFtbS0gLGZEhf4CYXCoV1dXXYfccy1djYWFhYKJfLnU6nVquFU31paanBYEAKCovFIpVKMzMz4cKDtai+vr62tlYiqa+uroT9V6+nENuIvyaTsaSE391tQKiww2GjaUtDg7i8vFSt7gCTi0ajysvLqaqqqK6ulEpbTCajWFyXl5fT1CRRKGR8fqFQKEShra2tBQUFIpEI4dYOh2Pt2rXZ2dlwPlCpVJWVlQKBoKamBvqJl/+pubkZJgE2N9g/ACo9/JKDFUNskf/Pg8GeP9j5wYrDegXFQ6vV7tmzJzw8HDjETuKwTa4D+wgTh647PIDRbKC/g7UEc/XqVZgBHQ4HUdgQmA31JjEx8dChQ1h8hu31B63ev+APPoMWsiWn1+tv3ry5aNGiefPmJSQk9N10Hx6j0MigBdGpwcHBSqVSq9VCcHW5XFi9dTqdRqMJDg6mKAr6IYuWfwB6fQYtUIHUajUspyaTCU4rw7yw9MiPA/67wyWFXDbgQ3pPDtzLHo9Hq9Xy+fyLFy/C2g7TudFohNJy9erV1NRUmqZNJhO73zJwI97tsz6DFrw4yf2Cr5hQ+06rd7t9RhItsFLU1tbCXRr0MSQTGBwR4OLJ7rcMQ78P8EifQQsGBN4AXpuQu4ZH+urbUiOztiBHH2zKJKiYpmksLC6XC3ss2LY3GAx9pwx2L79v/93FY59BC6K4IHXAeR7GX2IVuIuN8n8fNTJoQVg/qJUIKwAchaDiw6gI8LCxk/+3y4brm8+ghfjLwKJKQgiBluFqnp7njgxa4JAKDk6498OxDRYw2DyMRmPfDMzDv8wOZzP7wrN9Bi19SSIdDofJZCJJS4a5nUcMLZgX8HbYpgR5CJYa2JSxzrB6yzCPgb8/flC0/GOKZ0thW8CHWoBFiw91FlvVEW4BFi0j3AFs8T7UAixafKiz2KqOcAuwaBnhDmCL96EWYNHiQ53FVnWEW4BFywh3AFu8D7UAixYf6iy2qiPcAixaRrgD2OJ9qAVYtPhQZ7FVHeEWYNEywh3AFu9DLcCixYc6i63qCLcAi5YR7gC2eB9qARYtPtRZbFVHuAVYtIxwB7DF+1ALsGjxoc5iqzrCLcCiZYQ7gC3eh1qARYsPdRZb1RFuARYtI9wBbPE+1AIsWnyos9iqjnALsGgZ4Q5gi/ehFmDR4kOdxVZ1hFuARcsIdwBbvA+1AIsWH+ostqoj3AIsWka4A9jifagFWLT4UGexVR3hFvhfFktIzCuwzY4AAAAASUVORK5CYII=)"
      ],
      "metadata": {
        "id": "08oiV3_EKj47"
      }
    },
    {
      "cell_type": "markdown",
      "source": [
        "It is a non parametric test that is performed on categorical data"
      ],
      "metadata": {
        "id": "eMNB2mFvLA75"
      }
    },
    {
      "cell_type": "code",
      "source": [
        "titanic_df = pd.read_csv(\"https://raw.githubusercontent.com/datasciencedojo/datasets/master/titanic.csv\")\n",
        "titanic_df.head(5)"
      ],
      "metadata": {
        "colab": {
          "base_uri": "https://localhost:8080/",
          "height": 206
        },
        "id": "ssRoljasHCmI",
        "outputId": "434e1ccc-07d8-4f34-8bc4-66733e4f5f81"
      },
      "execution_count": null,
      "outputs": [
        {
          "output_type": "execute_result",
          "data": {
            "text/plain": [
              "   PassengerId  Survived  Pclass  \\\n",
              "0            1         0       3   \n",
              "1            2         1       1   \n",
              "2            3         1       3   \n",
              "3            4         1       1   \n",
              "4            5         0       3   \n",
              "\n",
              "                                                Name     Sex   Age  SibSp  \\\n",
              "0                            Braund, Mr. Owen Harris    male  22.0      1   \n",
              "1  Cumings, Mrs. John Bradley (Florence Briggs Th...  female  38.0      1   \n",
              "2                             Heikkinen, Miss. Laina  female  26.0      0   \n",
              "3       Futrelle, Mrs. Jacques Heath (Lily May Peel)  female  35.0      1   \n",
              "4                           Allen, Mr. William Henry    male  35.0      0   \n",
              "\n",
              "   Parch            Ticket     Fare Cabin Embarked  \n",
              "0      0         A/5 21171   7.2500   NaN        S  \n",
              "1      0          PC 17599  71.2833   C85        C  \n",
              "2      0  STON/O2. 3101282   7.9250   NaN        S  \n",
              "3      0            113803  53.1000  C123        S  \n",
              "4      0            373450   8.0500   NaN        S  "
            ],
            "text/html": [
              "\n",
              "  <div id=\"df-3a5b85c9-1745-49a3-9650-108e5909dcd2\" class=\"colab-df-container\">\n",
              "    <div>\n",
              "<style scoped>\n",
              "    .dataframe tbody tr th:only-of-type {\n",
              "        vertical-align: middle;\n",
              "    }\n",
              "\n",
              "    .dataframe tbody tr th {\n",
              "        vertical-align: top;\n",
              "    }\n",
              "\n",
              "    .dataframe thead th {\n",
              "        text-align: right;\n",
              "    }\n",
              "</style>\n",
              "<table border=\"1\" class=\"dataframe\">\n",
              "  <thead>\n",
              "    <tr style=\"text-align: right;\">\n",
              "      <th></th>\n",
              "      <th>PassengerId</th>\n",
              "      <th>Survived</th>\n",
              "      <th>Pclass</th>\n",
              "      <th>Name</th>\n",
              "      <th>Sex</th>\n",
              "      <th>Age</th>\n",
              "      <th>SibSp</th>\n",
              "      <th>Parch</th>\n",
              "      <th>Ticket</th>\n",
              "      <th>Fare</th>\n",
              "      <th>Cabin</th>\n",
              "      <th>Embarked</th>\n",
              "    </tr>\n",
              "  </thead>\n",
              "  <tbody>\n",
              "    <tr>\n",
              "      <th>0</th>\n",
              "      <td>1</td>\n",
              "      <td>0</td>\n",
              "      <td>3</td>\n",
              "      <td>Braund, Mr. Owen Harris</td>\n",
              "      <td>male</td>\n",
              "      <td>22.0</td>\n",
              "      <td>1</td>\n",
              "      <td>0</td>\n",
              "      <td>A/5 21171</td>\n",
              "      <td>7.2500</td>\n",
              "      <td>NaN</td>\n",
              "      <td>S</td>\n",
              "    </tr>\n",
              "    <tr>\n",
              "      <th>1</th>\n",
              "      <td>2</td>\n",
              "      <td>1</td>\n",
              "      <td>1</td>\n",
              "      <td>Cumings, Mrs. John Bradley (Florence Briggs Th...</td>\n",
              "      <td>female</td>\n",
              "      <td>38.0</td>\n",
              "      <td>1</td>\n",
              "      <td>0</td>\n",
              "      <td>PC 17599</td>\n",
              "      <td>71.2833</td>\n",
              "      <td>C85</td>\n",
              "      <td>C</td>\n",
              "    </tr>\n",
              "    <tr>\n",
              "      <th>2</th>\n",
              "      <td>3</td>\n",
              "      <td>1</td>\n",
              "      <td>3</td>\n",
              "      <td>Heikkinen, Miss. Laina</td>\n",
              "      <td>female</td>\n",
              "      <td>26.0</td>\n",
              "      <td>0</td>\n",
              "      <td>0</td>\n",
              "      <td>STON/O2. 3101282</td>\n",
              "      <td>7.9250</td>\n",
              "      <td>NaN</td>\n",
              "      <td>S</td>\n",
              "    </tr>\n",
              "    <tr>\n",
              "      <th>3</th>\n",
              "      <td>4</td>\n",
              "      <td>1</td>\n",
              "      <td>1</td>\n",
              "      <td>Futrelle, Mrs. Jacques Heath (Lily May Peel)</td>\n",
              "      <td>female</td>\n",
              "      <td>35.0</td>\n",
              "      <td>1</td>\n",
              "      <td>0</td>\n",
              "      <td>113803</td>\n",
              "      <td>53.1000</td>\n",
              "      <td>C123</td>\n",
              "      <td>S</td>\n",
              "    </tr>\n",
              "    <tr>\n",
              "      <th>4</th>\n",
              "      <td>5</td>\n",
              "      <td>0</td>\n",
              "      <td>3</td>\n",
              "      <td>Allen, Mr. William Henry</td>\n",
              "      <td>male</td>\n",
              "      <td>35.0</td>\n",
              "      <td>0</td>\n",
              "      <td>0</td>\n",
              "      <td>373450</td>\n",
              "      <td>8.0500</td>\n",
              "      <td>NaN</td>\n",
              "      <td>S</td>\n",
              "    </tr>\n",
              "  </tbody>\n",
              "</table>\n",
              "</div>\n",
              "    <div class=\"colab-df-buttons\">\n",
              "\n",
              "  <div class=\"colab-df-container\">\n",
              "    <button class=\"colab-df-convert\" onclick=\"convertToInteractive('df-3a5b85c9-1745-49a3-9650-108e5909dcd2')\"\n",
              "            title=\"Convert this dataframe to an interactive table.\"\n",
              "            style=\"display:none;\">\n",
              "\n",
              "  <svg xmlns=\"http://www.w3.org/2000/svg\" height=\"24px\" viewBox=\"0 -960 960 960\">\n",
              "    <path d=\"M120-120v-720h720v720H120Zm60-500h600v-160H180v160Zm220 220h160v-160H400v160Zm0 220h160v-160H400v160ZM180-400h160v-160H180v160Zm440 0h160v-160H620v160ZM180-180h160v-160H180v160Zm440 0h160v-160H620v160Z\"/>\n",
              "  </svg>\n",
              "    </button>\n",
              "\n",
              "  <style>\n",
              "    .colab-df-container {\n",
              "      display:flex;\n",
              "      gap: 12px;\n",
              "    }\n",
              "\n",
              "    .colab-df-convert {\n",
              "      background-color: #E8F0FE;\n",
              "      border: none;\n",
              "      border-radius: 50%;\n",
              "      cursor: pointer;\n",
              "      display: none;\n",
              "      fill: #1967D2;\n",
              "      height: 32px;\n",
              "      padding: 0 0 0 0;\n",
              "      width: 32px;\n",
              "    }\n",
              "\n",
              "    .colab-df-convert:hover {\n",
              "      background-color: #E2EBFA;\n",
              "      box-shadow: 0px 1px 2px rgba(60, 64, 67, 0.3), 0px 1px 3px 1px rgba(60, 64, 67, 0.15);\n",
              "      fill: #174EA6;\n",
              "    }\n",
              "\n",
              "    .colab-df-buttons div {\n",
              "      margin-bottom: 4px;\n",
              "    }\n",
              "\n",
              "    [theme=dark] .colab-df-convert {\n",
              "      background-color: #3B4455;\n",
              "      fill: #D2E3FC;\n",
              "    }\n",
              "\n",
              "    [theme=dark] .colab-df-convert:hover {\n",
              "      background-color: #434B5C;\n",
              "      box-shadow: 0px 1px 3px 1px rgba(0, 0, 0, 0.15);\n",
              "      filter: drop-shadow(0px 1px 2px rgba(0, 0, 0, 0.3));\n",
              "      fill: #FFFFFF;\n",
              "    }\n",
              "  </style>\n",
              "\n",
              "    <script>\n",
              "      const buttonEl =\n",
              "        document.querySelector('#df-3a5b85c9-1745-49a3-9650-108e5909dcd2 button.colab-df-convert');\n",
              "      buttonEl.style.display =\n",
              "        google.colab.kernel.accessAllowed ? 'block' : 'none';\n",
              "\n",
              "      async function convertToInteractive(key) {\n",
              "        const element = document.querySelector('#df-3a5b85c9-1745-49a3-9650-108e5909dcd2');\n",
              "        const dataTable =\n",
              "          await google.colab.kernel.invokeFunction('convertToInteractive',\n",
              "                                                    [key], {});\n",
              "        if (!dataTable) return;\n",
              "\n",
              "        const docLinkHtml = 'Like what you see? Visit the ' +\n",
              "          '<a target=\"_blank\" href=https://colab.research.google.com/notebooks/data_table.ipynb>data table notebook</a>'\n",
              "          + ' to learn more about interactive tables.';\n",
              "        element.innerHTML = '';\n",
              "        dataTable['output_type'] = 'display_data';\n",
              "        await google.colab.output.renderOutput(dataTable, element);\n",
              "        const docLink = document.createElement('div');\n",
              "        docLink.innerHTML = docLinkHtml;\n",
              "        element.appendChild(docLink);\n",
              "      }\n",
              "    </script>\n",
              "  </div>\n",
              "\n",
              "\n",
              "<div id=\"df-1eb2b5f6-2f4e-4fd3-a54b-873e76288594\">\n",
              "  <button class=\"colab-df-quickchart\" onclick=\"quickchart('df-1eb2b5f6-2f4e-4fd3-a54b-873e76288594')\"\n",
              "            title=\"Suggest charts\"\n",
              "            style=\"display:none;\">\n",
              "\n",
              "<svg xmlns=\"http://www.w3.org/2000/svg\" height=\"24px\"viewBox=\"0 0 24 24\"\n",
              "     width=\"24px\">\n",
              "    <g>\n",
              "        <path d=\"M19 3H5c-1.1 0-2 .9-2 2v14c0 1.1.9 2 2 2h14c1.1 0 2-.9 2-2V5c0-1.1-.9-2-2-2zM9 17H7v-7h2v7zm4 0h-2V7h2v10zm4 0h-2v-4h2v4z\"/>\n",
              "    </g>\n",
              "</svg>\n",
              "  </button>\n",
              "\n",
              "<style>\n",
              "  .colab-df-quickchart {\n",
              "      --bg-color: #E8F0FE;\n",
              "      --fill-color: #1967D2;\n",
              "      --hover-bg-color: #E2EBFA;\n",
              "      --hover-fill-color: #174EA6;\n",
              "      --disabled-fill-color: #AAA;\n",
              "      --disabled-bg-color: #DDD;\n",
              "  }\n",
              "\n",
              "  [theme=dark] .colab-df-quickchart {\n",
              "      --bg-color: #3B4455;\n",
              "      --fill-color: #D2E3FC;\n",
              "      --hover-bg-color: #434B5C;\n",
              "      --hover-fill-color: #FFFFFF;\n",
              "      --disabled-bg-color: #3B4455;\n",
              "      --disabled-fill-color: #666;\n",
              "  }\n",
              "\n",
              "  .colab-df-quickchart {\n",
              "    background-color: var(--bg-color);\n",
              "    border: none;\n",
              "    border-radius: 50%;\n",
              "    cursor: pointer;\n",
              "    display: none;\n",
              "    fill: var(--fill-color);\n",
              "    height: 32px;\n",
              "    padding: 0;\n",
              "    width: 32px;\n",
              "  }\n",
              "\n",
              "  .colab-df-quickchart:hover {\n",
              "    background-color: var(--hover-bg-color);\n",
              "    box-shadow: 0 1px 2px rgba(60, 64, 67, 0.3), 0 1px 3px 1px rgba(60, 64, 67, 0.15);\n",
              "    fill: var(--button-hover-fill-color);\n",
              "  }\n",
              "\n",
              "  .colab-df-quickchart-complete:disabled,\n",
              "  .colab-df-quickchart-complete:disabled:hover {\n",
              "    background-color: var(--disabled-bg-color);\n",
              "    fill: var(--disabled-fill-color);\n",
              "    box-shadow: none;\n",
              "  }\n",
              "\n",
              "  .colab-df-spinner {\n",
              "    border: 2px solid var(--fill-color);\n",
              "    border-color: transparent;\n",
              "    border-bottom-color: var(--fill-color);\n",
              "    animation:\n",
              "      spin 1s steps(1) infinite;\n",
              "  }\n",
              "\n",
              "  @keyframes spin {\n",
              "    0% {\n",
              "      border-color: transparent;\n",
              "      border-bottom-color: var(--fill-color);\n",
              "      border-left-color: var(--fill-color);\n",
              "    }\n",
              "    20% {\n",
              "      border-color: transparent;\n",
              "      border-left-color: var(--fill-color);\n",
              "      border-top-color: var(--fill-color);\n",
              "    }\n",
              "    30% {\n",
              "      border-color: transparent;\n",
              "      border-left-color: var(--fill-color);\n",
              "      border-top-color: var(--fill-color);\n",
              "      border-right-color: var(--fill-color);\n",
              "    }\n",
              "    40% {\n",
              "      border-color: transparent;\n",
              "      border-right-color: var(--fill-color);\n",
              "      border-top-color: var(--fill-color);\n",
              "    }\n",
              "    60% {\n",
              "      border-color: transparent;\n",
              "      border-right-color: var(--fill-color);\n",
              "    }\n",
              "    80% {\n",
              "      border-color: transparent;\n",
              "      border-right-color: var(--fill-color);\n",
              "      border-bottom-color: var(--fill-color);\n",
              "    }\n",
              "    90% {\n",
              "      border-color: transparent;\n",
              "      border-bottom-color: var(--fill-color);\n",
              "    }\n",
              "  }\n",
              "</style>\n",
              "\n",
              "  <script>\n",
              "    async function quickchart(key) {\n",
              "      const quickchartButtonEl =\n",
              "        document.querySelector('#' + key + ' button');\n",
              "      quickchartButtonEl.disabled = true;  // To prevent multiple clicks.\n",
              "      quickchartButtonEl.classList.add('colab-df-spinner');\n",
              "      try {\n",
              "        const charts = await google.colab.kernel.invokeFunction(\n",
              "            'suggestCharts', [key], {});\n",
              "      } catch (error) {\n",
              "        console.error('Error during call to suggestCharts:', error);\n",
              "      }\n",
              "      quickchartButtonEl.classList.remove('colab-df-spinner');\n",
              "      quickchartButtonEl.classList.add('colab-df-quickchart-complete');\n",
              "    }\n",
              "    (() => {\n",
              "      let quickchartButtonEl =\n",
              "        document.querySelector('#df-1eb2b5f6-2f4e-4fd3-a54b-873e76288594 button');\n",
              "      quickchartButtonEl.style.display =\n",
              "        google.colab.kernel.accessAllowed ? 'block' : 'none';\n",
              "    })();\n",
              "  </script>\n",
              "</div>\n",
              "\n",
              "    </div>\n",
              "  </div>\n"
            ],
            "application/vnd.google.colaboratory.intrinsic+json": {
              "type": "dataframe",
              "variable_name": "titanic_df",
              "summary": "{\n  \"name\": \"titanic_df\",\n  \"rows\": 891,\n  \"fields\": [\n    {\n      \"column\": \"PassengerId\",\n      \"properties\": {\n        \"dtype\": \"number\",\n        \"std\": 257,\n        \"min\": 1,\n        \"max\": 891,\n        \"num_unique_values\": 891,\n        \"samples\": [\n          710,\n          440,\n          841\n        ],\n        \"semantic_type\": \"\",\n        \"description\": \"\"\n      }\n    },\n    {\n      \"column\": \"Survived\",\n      \"properties\": {\n        \"dtype\": \"number\",\n        \"std\": 0,\n        \"min\": 0,\n        \"max\": 1,\n        \"num_unique_values\": 2,\n        \"samples\": [\n          1,\n          0\n        ],\n        \"semantic_type\": \"\",\n        \"description\": \"\"\n      }\n    },\n    {\n      \"column\": \"Pclass\",\n      \"properties\": {\n        \"dtype\": \"number\",\n        \"std\": 0,\n        \"min\": 1,\n        \"max\": 3,\n        \"num_unique_values\": 3,\n        \"samples\": [\n          3,\n          1\n        ],\n        \"semantic_type\": \"\",\n        \"description\": \"\"\n      }\n    },\n    {\n      \"column\": \"Name\",\n      \"properties\": {\n        \"dtype\": \"string\",\n        \"num_unique_values\": 891,\n        \"samples\": [\n          \"Moubarek, Master. Halim Gonios (\\\"William George\\\")\",\n          \"Kvillner, Mr. Johan Henrik Johannesson\"\n        ],\n        \"semantic_type\": \"\",\n        \"description\": \"\"\n      }\n    },\n    {\n      \"column\": \"Sex\",\n      \"properties\": {\n        \"dtype\": \"category\",\n        \"num_unique_values\": 2,\n        \"samples\": [\n          \"female\",\n          \"male\"\n        ],\n        \"semantic_type\": \"\",\n        \"description\": \"\"\n      }\n    },\n    {\n      \"column\": \"Age\",\n      \"properties\": {\n        \"dtype\": \"number\",\n        \"std\": 14.526497332334042,\n        \"min\": 0.42,\n        \"max\": 80.0,\n        \"num_unique_values\": 88,\n        \"samples\": [\n          0.75,\n          22.0\n        ],\n        \"semantic_type\": \"\",\n        \"description\": \"\"\n      }\n    },\n    {\n      \"column\": \"SibSp\",\n      \"properties\": {\n        \"dtype\": \"number\",\n        \"std\": 1,\n        \"min\": 0,\n        \"max\": 8,\n        \"num_unique_values\": 7,\n        \"samples\": [\n          1,\n          0\n        ],\n        \"semantic_type\": \"\",\n        \"description\": \"\"\n      }\n    },\n    {\n      \"column\": \"Parch\",\n      \"properties\": {\n        \"dtype\": \"number\",\n        \"std\": 0,\n        \"min\": 0,\n        \"max\": 6,\n        \"num_unique_values\": 7,\n        \"samples\": [\n          0,\n          1\n        ],\n        \"semantic_type\": \"\",\n        \"description\": \"\"\n      }\n    },\n    {\n      \"column\": \"Ticket\",\n      \"properties\": {\n        \"dtype\": \"string\",\n        \"num_unique_values\": 681,\n        \"samples\": [\n          \"11774\",\n          \"248740\"\n        ],\n        \"semantic_type\": \"\",\n        \"description\": \"\"\n      }\n    },\n    {\n      \"column\": \"Fare\",\n      \"properties\": {\n        \"dtype\": \"number\",\n        \"std\": 49.6934285971809,\n        \"min\": 0.0,\n        \"max\": 512.3292,\n        \"num_unique_values\": 248,\n        \"samples\": [\n          11.2417,\n          51.8625\n        ],\n        \"semantic_type\": \"\",\n        \"description\": \"\"\n      }\n    },\n    {\n      \"column\": \"Cabin\",\n      \"properties\": {\n        \"dtype\": \"category\",\n        \"num_unique_values\": 147,\n        \"samples\": [\n          \"D45\",\n          \"B49\"\n        ],\n        \"semantic_type\": \"\",\n        \"description\": \"\"\n      }\n    },\n    {\n      \"column\": \"Embarked\",\n      \"properties\": {\n        \"dtype\": \"category\",\n        \"num_unique_values\": 3,\n        \"samples\": [\n          \"S\",\n          \"C\"\n        ],\n        \"semantic_type\": \"\",\n        \"description\": \"\"\n      }\n    }\n  ]\n}"
            }
          },
          "metadata": {},
          "execution_count": 24
        }
      ]
    },
    {
      "cell_type": "markdown",
      "source": [
        "Let us find out if there is any relation between survived and Passenger class\n",
        "\n",
        "Null hypothesis : there is no relation between them\n",
        "\n",
        "Alternate hypothesis : there is a relation"
      ],
      "metadata": {
        "id": "feQGsRjqLFQK"
      }
    },
    {
      "cell_type": "code",
      "source": [
        "titanic_df = titanic_df.dropna(subset=['Pclass','Survived'])"
      ],
      "metadata": {
        "id": "xozWVpPMe9B6"
      },
      "execution_count": null,
      "outputs": []
    },
    {
      "cell_type": "code",
      "source": [
        "crosstab = pd.crosstab(titanic_df['Pclass'],titanic_df[\"Survived\"],margins=True,margins_name='Total')\n",
        "row_totals = crosstab['Total'][:-1]\n",
        "col_totals = crosstab.loc['Total'][:-1]"
      ],
      "metadata": {
        "id": "xorFk_R3fAvM"
      },
      "execution_count": null,
      "outputs": []
    },
    {
      "cell_type": "code",
      "source": [
        "crosstab"
      ],
      "metadata": {
        "colab": {
          "base_uri": "https://localhost:8080/",
          "height": 206
        },
        "id": "961Ke-h8LZ89",
        "outputId": "ef198084-cd68-4064-9f65-f063ee0ddb9e"
      },
      "execution_count": null,
      "outputs": [
        {
          "output_type": "execute_result",
          "data": {
            "text/plain": [
              "Survived    0    1  Total\n",
              "Pclass                   \n",
              "1          80  136    216\n",
              "2          97   87    184\n",
              "3         372  119    491\n",
              "Total     549  342    891"
            ],
            "text/html": [
              "\n",
              "  <div id=\"df-f6b857e2-6ff2-4b23-88bf-e83a1e76a852\" class=\"colab-df-container\">\n",
              "    <div>\n",
              "<style scoped>\n",
              "    .dataframe tbody tr th:only-of-type {\n",
              "        vertical-align: middle;\n",
              "    }\n",
              "\n",
              "    .dataframe tbody tr th {\n",
              "        vertical-align: top;\n",
              "    }\n",
              "\n",
              "    .dataframe thead th {\n",
              "        text-align: right;\n",
              "    }\n",
              "</style>\n",
              "<table border=\"1\" class=\"dataframe\">\n",
              "  <thead>\n",
              "    <tr style=\"text-align: right;\">\n",
              "      <th>Survived</th>\n",
              "      <th>0</th>\n",
              "      <th>1</th>\n",
              "      <th>Total</th>\n",
              "    </tr>\n",
              "    <tr>\n",
              "      <th>Pclass</th>\n",
              "      <th></th>\n",
              "      <th></th>\n",
              "      <th></th>\n",
              "    </tr>\n",
              "  </thead>\n",
              "  <tbody>\n",
              "    <tr>\n",
              "      <th>1</th>\n",
              "      <td>80</td>\n",
              "      <td>136</td>\n",
              "      <td>216</td>\n",
              "    </tr>\n",
              "    <tr>\n",
              "      <th>2</th>\n",
              "      <td>97</td>\n",
              "      <td>87</td>\n",
              "      <td>184</td>\n",
              "    </tr>\n",
              "    <tr>\n",
              "      <th>3</th>\n",
              "      <td>372</td>\n",
              "      <td>119</td>\n",
              "      <td>491</td>\n",
              "    </tr>\n",
              "    <tr>\n",
              "      <th>Total</th>\n",
              "      <td>549</td>\n",
              "      <td>342</td>\n",
              "      <td>891</td>\n",
              "    </tr>\n",
              "  </tbody>\n",
              "</table>\n",
              "</div>\n",
              "    <div class=\"colab-df-buttons\">\n",
              "\n",
              "  <div class=\"colab-df-container\">\n",
              "    <button class=\"colab-df-convert\" onclick=\"convertToInteractive('df-f6b857e2-6ff2-4b23-88bf-e83a1e76a852')\"\n",
              "            title=\"Convert this dataframe to an interactive table.\"\n",
              "            style=\"display:none;\">\n",
              "\n",
              "  <svg xmlns=\"http://www.w3.org/2000/svg\" height=\"24px\" viewBox=\"0 -960 960 960\">\n",
              "    <path d=\"M120-120v-720h720v720H120Zm60-500h600v-160H180v160Zm220 220h160v-160H400v160Zm0 220h160v-160H400v160ZM180-400h160v-160H180v160Zm440 0h160v-160H620v160ZM180-180h160v-160H180v160Zm440 0h160v-160H620v160Z\"/>\n",
              "  </svg>\n",
              "    </button>\n",
              "\n",
              "  <style>\n",
              "    .colab-df-container {\n",
              "      display:flex;\n",
              "      gap: 12px;\n",
              "    }\n",
              "\n",
              "    .colab-df-convert {\n",
              "      background-color: #E8F0FE;\n",
              "      border: none;\n",
              "      border-radius: 50%;\n",
              "      cursor: pointer;\n",
              "      display: none;\n",
              "      fill: #1967D2;\n",
              "      height: 32px;\n",
              "      padding: 0 0 0 0;\n",
              "      width: 32px;\n",
              "    }\n",
              "\n",
              "    .colab-df-convert:hover {\n",
              "      background-color: #E2EBFA;\n",
              "      box-shadow: 0px 1px 2px rgba(60, 64, 67, 0.3), 0px 1px 3px 1px rgba(60, 64, 67, 0.15);\n",
              "      fill: #174EA6;\n",
              "    }\n",
              "\n",
              "    .colab-df-buttons div {\n",
              "      margin-bottom: 4px;\n",
              "    }\n",
              "\n",
              "    [theme=dark] .colab-df-convert {\n",
              "      background-color: #3B4455;\n",
              "      fill: #D2E3FC;\n",
              "    }\n",
              "\n",
              "    [theme=dark] .colab-df-convert:hover {\n",
              "      background-color: #434B5C;\n",
              "      box-shadow: 0px 1px 3px 1px rgba(0, 0, 0, 0.15);\n",
              "      filter: drop-shadow(0px 1px 2px rgba(0, 0, 0, 0.3));\n",
              "      fill: #FFFFFF;\n",
              "    }\n",
              "  </style>\n",
              "\n",
              "    <script>\n",
              "      const buttonEl =\n",
              "        document.querySelector('#df-f6b857e2-6ff2-4b23-88bf-e83a1e76a852 button.colab-df-convert');\n",
              "      buttonEl.style.display =\n",
              "        google.colab.kernel.accessAllowed ? 'block' : 'none';\n",
              "\n",
              "      async function convertToInteractive(key) {\n",
              "        const element = document.querySelector('#df-f6b857e2-6ff2-4b23-88bf-e83a1e76a852');\n",
              "        const dataTable =\n",
              "          await google.colab.kernel.invokeFunction('convertToInteractive',\n",
              "                                                    [key], {});\n",
              "        if (!dataTable) return;\n",
              "\n",
              "        const docLinkHtml = 'Like what you see? Visit the ' +\n",
              "          '<a target=\"_blank\" href=https://colab.research.google.com/notebooks/data_table.ipynb>data table notebook</a>'\n",
              "          + ' to learn more about interactive tables.';\n",
              "        element.innerHTML = '';\n",
              "        dataTable['output_type'] = 'display_data';\n",
              "        await google.colab.output.renderOutput(dataTable, element);\n",
              "        const docLink = document.createElement('div');\n",
              "        docLink.innerHTML = docLinkHtml;\n",
              "        element.appendChild(docLink);\n",
              "      }\n",
              "    </script>\n",
              "  </div>\n",
              "\n",
              "\n",
              "<div id=\"df-8f870414-73f6-4865-a226-913717d5ca14\">\n",
              "  <button class=\"colab-df-quickchart\" onclick=\"quickchart('df-8f870414-73f6-4865-a226-913717d5ca14')\"\n",
              "            title=\"Suggest charts\"\n",
              "            style=\"display:none;\">\n",
              "\n",
              "<svg xmlns=\"http://www.w3.org/2000/svg\" height=\"24px\"viewBox=\"0 0 24 24\"\n",
              "     width=\"24px\">\n",
              "    <g>\n",
              "        <path d=\"M19 3H5c-1.1 0-2 .9-2 2v14c0 1.1.9 2 2 2h14c1.1 0 2-.9 2-2V5c0-1.1-.9-2-2-2zM9 17H7v-7h2v7zm4 0h-2V7h2v10zm4 0h-2v-4h2v4z\"/>\n",
              "    </g>\n",
              "</svg>\n",
              "  </button>\n",
              "\n",
              "<style>\n",
              "  .colab-df-quickchart {\n",
              "      --bg-color: #E8F0FE;\n",
              "      --fill-color: #1967D2;\n",
              "      --hover-bg-color: #E2EBFA;\n",
              "      --hover-fill-color: #174EA6;\n",
              "      --disabled-fill-color: #AAA;\n",
              "      --disabled-bg-color: #DDD;\n",
              "  }\n",
              "\n",
              "  [theme=dark] .colab-df-quickchart {\n",
              "      --bg-color: #3B4455;\n",
              "      --fill-color: #D2E3FC;\n",
              "      --hover-bg-color: #434B5C;\n",
              "      --hover-fill-color: #FFFFFF;\n",
              "      --disabled-bg-color: #3B4455;\n",
              "      --disabled-fill-color: #666;\n",
              "  }\n",
              "\n",
              "  .colab-df-quickchart {\n",
              "    background-color: var(--bg-color);\n",
              "    border: none;\n",
              "    border-radius: 50%;\n",
              "    cursor: pointer;\n",
              "    display: none;\n",
              "    fill: var(--fill-color);\n",
              "    height: 32px;\n",
              "    padding: 0;\n",
              "    width: 32px;\n",
              "  }\n",
              "\n",
              "  .colab-df-quickchart:hover {\n",
              "    background-color: var(--hover-bg-color);\n",
              "    box-shadow: 0 1px 2px rgba(60, 64, 67, 0.3), 0 1px 3px 1px rgba(60, 64, 67, 0.15);\n",
              "    fill: var(--button-hover-fill-color);\n",
              "  }\n",
              "\n",
              "  .colab-df-quickchart-complete:disabled,\n",
              "  .colab-df-quickchart-complete:disabled:hover {\n",
              "    background-color: var(--disabled-bg-color);\n",
              "    fill: var(--disabled-fill-color);\n",
              "    box-shadow: none;\n",
              "  }\n",
              "\n",
              "  .colab-df-spinner {\n",
              "    border: 2px solid var(--fill-color);\n",
              "    border-color: transparent;\n",
              "    border-bottom-color: var(--fill-color);\n",
              "    animation:\n",
              "      spin 1s steps(1) infinite;\n",
              "  }\n",
              "\n",
              "  @keyframes spin {\n",
              "    0% {\n",
              "      border-color: transparent;\n",
              "      border-bottom-color: var(--fill-color);\n",
              "      border-left-color: var(--fill-color);\n",
              "    }\n",
              "    20% {\n",
              "      border-color: transparent;\n",
              "      border-left-color: var(--fill-color);\n",
              "      border-top-color: var(--fill-color);\n",
              "    }\n",
              "    30% {\n",
              "      border-color: transparent;\n",
              "      border-left-color: var(--fill-color);\n",
              "      border-top-color: var(--fill-color);\n",
              "      border-right-color: var(--fill-color);\n",
              "    }\n",
              "    40% {\n",
              "      border-color: transparent;\n",
              "      border-right-color: var(--fill-color);\n",
              "      border-top-color: var(--fill-color);\n",
              "    }\n",
              "    60% {\n",
              "      border-color: transparent;\n",
              "      border-right-color: var(--fill-color);\n",
              "    }\n",
              "    80% {\n",
              "      border-color: transparent;\n",
              "      border-right-color: var(--fill-color);\n",
              "      border-bottom-color: var(--fill-color);\n",
              "    }\n",
              "    90% {\n",
              "      border-color: transparent;\n",
              "      border-bottom-color: var(--fill-color);\n",
              "    }\n",
              "  }\n",
              "</style>\n",
              "\n",
              "  <script>\n",
              "    async function quickchart(key) {\n",
              "      const quickchartButtonEl =\n",
              "        document.querySelector('#' + key + ' button');\n",
              "      quickchartButtonEl.disabled = true;  // To prevent multiple clicks.\n",
              "      quickchartButtonEl.classList.add('colab-df-spinner');\n",
              "      try {\n",
              "        const charts = await google.colab.kernel.invokeFunction(\n",
              "            'suggestCharts', [key], {});\n",
              "      } catch (error) {\n",
              "        console.error('Error during call to suggestCharts:', error);\n",
              "      }\n",
              "      quickchartButtonEl.classList.remove('colab-df-spinner');\n",
              "      quickchartButtonEl.classList.add('colab-df-quickchart-complete');\n",
              "    }\n",
              "    (() => {\n",
              "      let quickchartButtonEl =\n",
              "        document.querySelector('#df-8f870414-73f6-4865-a226-913717d5ca14 button');\n",
              "      quickchartButtonEl.style.display =\n",
              "        google.colab.kernel.accessAllowed ? 'block' : 'none';\n",
              "    })();\n",
              "  </script>\n",
              "</div>\n",
              "\n",
              "  <div id=\"id_4012b621-b6e6-4dc6-ba6e-9c3875278a88\">\n",
              "    <style>\n",
              "      .colab-df-generate {\n",
              "        background-color: #E8F0FE;\n",
              "        border: none;\n",
              "        border-radius: 50%;\n",
              "        cursor: pointer;\n",
              "        display: none;\n",
              "        fill: #1967D2;\n",
              "        height: 32px;\n",
              "        padding: 0 0 0 0;\n",
              "        width: 32px;\n",
              "      }\n",
              "\n",
              "      .colab-df-generate:hover {\n",
              "        background-color: #E2EBFA;\n",
              "        box-shadow: 0px 1px 2px rgba(60, 64, 67, 0.3), 0px 1px 3px 1px rgba(60, 64, 67, 0.15);\n",
              "        fill: #174EA6;\n",
              "      }\n",
              "\n",
              "      [theme=dark] .colab-df-generate {\n",
              "        background-color: #3B4455;\n",
              "        fill: #D2E3FC;\n",
              "      }\n",
              "\n",
              "      [theme=dark] .colab-df-generate:hover {\n",
              "        background-color: #434B5C;\n",
              "        box-shadow: 0px 1px 3px 1px rgba(0, 0, 0, 0.15);\n",
              "        filter: drop-shadow(0px 1px 2px rgba(0, 0, 0, 0.3));\n",
              "        fill: #FFFFFF;\n",
              "      }\n",
              "    </style>\n",
              "    <button class=\"colab-df-generate\" onclick=\"generateWithVariable('crosstab')\"\n",
              "            title=\"Generate code using this dataframe.\"\n",
              "            style=\"display:none;\">\n",
              "\n",
              "  <svg xmlns=\"http://www.w3.org/2000/svg\" height=\"24px\"viewBox=\"0 0 24 24\"\n",
              "       width=\"24px\">\n",
              "    <path d=\"M7,19H8.4L18.45,9,17,7.55,7,17.6ZM5,21V16.75L18.45,3.32a2,2,0,0,1,2.83,0l1.4,1.43a1.91,1.91,0,0,1,.58,1.4,1.91,1.91,0,0,1-.58,1.4L9.25,21ZM18.45,9,17,7.55Zm-12,3A5.31,5.31,0,0,0,4.9,8.1,5.31,5.31,0,0,0,1,6.5,5.31,5.31,0,0,0,4.9,4.9,5.31,5.31,0,0,0,6.5,1,5.31,5.31,0,0,0,8.1,4.9,5.31,5.31,0,0,0,12,6.5,5.46,5.46,0,0,0,6.5,12Z\"/>\n",
              "  </svg>\n",
              "    </button>\n",
              "    <script>\n",
              "      (() => {\n",
              "      const buttonEl =\n",
              "        document.querySelector('#id_4012b621-b6e6-4dc6-ba6e-9c3875278a88 button.colab-df-generate');\n",
              "      buttonEl.style.display =\n",
              "        google.colab.kernel.accessAllowed ? 'block' : 'none';\n",
              "\n",
              "      buttonEl.onclick = () => {\n",
              "        google.colab.notebook.generateWithVariable('crosstab');\n",
              "      }\n",
              "      })();\n",
              "    </script>\n",
              "  </div>\n",
              "\n",
              "    </div>\n",
              "  </div>\n"
            ],
            "application/vnd.google.colaboratory.intrinsic+json": {
              "type": "dataframe",
              "variable_name": "crosstab",
              "summary": "{\n  \"name\": \"crosstab\",\n  \"rows\": 4,\n  \"fields\": [\n    {\n      \"column\": 0,\n      \"properties\": {\n        \"dtype\": \"number\",\n        \"std\": 226,\n        \"min\": 80,\n        \"max\": 549,\n        \"num_unique_values\": 4,\n        \"samples\": [\n          97,\n          549,\n          80\n        ],\n        \"semantic_type\": \"\",\n        \"description\": \"\"\n      }\n    },\n    {\n      \"column\": 1,\n      \"properties\": {\n        \"dtype\": \"number\",\n        \"std\": 115,\n        \"min\": 87,\n        \"max\": 342,\n        \"num_unique_values\": 4,\n        \"samples\": [\n          87,\n          342,\n          136\n        ],\n        \"semantic_type\": \"\",\n        \"description\": \"\"\n      }\n    },\n    {\n      \"column\": \"Total\",\n      \"properties\": {\n        \"dtype\": \"number\",\n        \"std\": 327,\n        \"min\": 184,\n        \"max\": 891,\n        \"num_unique_values\": 4,\n        \"samples\": [\n          184,\n          891,\n          216\n        ],\n        \"semantic_type\": \"\",\n        \"description\": \"\"\n      }\n    }\n  ]\n}"
            }
          },
          "metadata": {},
          "execution_count": 27
        }
      ]
    },
    {
      "cell_type": "code",
      "source": [
        "total = len(titanic_df)\n",
        "total"
      ],
      "metadata": {
        "colab": {
          "base_uri": "https://localhost:8080/"
        },
        "id": "wDSCCmflL0Ka",
        "outputId": "52f6339d-52d4-4fcd-bf39-888ea23c358d"
      },
      "execution_count": null,
      "outputs": [
        {
          "output_type": "execute_result",
          "data": {
            "text/plain": [
              "891"
            ]
          },
          "metadata": {},
          "execution_count": 28
        }
      ]
    },
    {
      "cell_type": "code",
      "source": [
        "expected = np.outer(np.array(row_totals),np.array(col_totals)) / total\n",
        "expected"
      ],
      "metadata": {
        "colab": {
          "base_uri": "https://localhost:8080/"
        },
        "id": "K255MdPsgPh4",
        "outputId": "bef1e2d0-4b9e-44e9-b28a-6e111edb9e6a"
      },
      "execution_count": null,
      "outputs": [
        {
          "output_type": "execute_result",
          "data": {
            "text/plain": [
              "array([[133.09090909,  82.90909091],\n",
              "       [113.37373737,  70.62626263],\n",
              "       [302.53535354, 188.46464646]])"
            ]
          },
          "metadata": {},
          "execution_count": 29
        }
      ]
    },
    {
      "cell_type": "code",
      "source": [
        "observed = crosstab.iloc[:-1, :-1].values\n",
        "observed"
      ],
      "metadata": {
        "colab": {
          "base_uri": "https://localhost:8080/"
        },
        "id": "CntLLj_lKgFU",
        "outputId": "3de4d6ce-7e9d-40fe-8b65-435ebedb7166"
      },
      "execution_count": null,
      "outputs": [
        {
          "output_type": "execute_result",
          "data": {
            "text/plain": [
              "array([[ 80, 136],\n",
              "       [ 97,  87],\n",
              "       [372, 119]])"
            ]
          },
          "metadata": {},
          "execution_count": 30
        }
      ]
    },
    {
      "cell_type": "code",
      "source": [
        "final = (observed-expected)**2 / (expected)\n",
        "final"
      ],
      "metadata": {
        "colab": {
          "base_uri": "https://localhost:8080/"
        },
        "id": "eBXXLHlZKhGC",
        "outputId": "90aa9cfa-4efb-4d46-f8e3-fcd234f6f8b3"
      },
      "execution_count": null,
      "outputs": [
        {
          "output_type": "execute_result",
          "data": {
            "text/plain": [
              "array([[21.17834078, 33.99681021],\n",
              "       [ 2.3647388 ,  3.79602807],\n",
              "       [15.94966358, 25.60340732]])"
            ]
          },
          "metadata": {},
          "execution_count": 31
        }
      ]
    },
    {
      "cell_type": "code",
      "source": [
        "np.sum(final)"
      ],
      "metadata": {
        "colab": {
          "base_uri": "https://localhost:8080/"
        },
        "id": "DGjheE-rNBr8",
        "outputId": "36f74841-79d3-4efd-dafd-6173e65a8cc3"
      },
      "execution_count": null,
      "outputs": [
        {
          "output_type": "execute_result",
          "data": {
            "text/plain": [
              "102.88898875696056"
            ]
          },
          "metadata": {},
          "execution_count": 32
        }
      ]
    },
    {
      "cell_type": "code",
      "source": [
        "dof = (len(row_totals)-1) * (len(col_totals)-1)\n",
        "dof"
      ],
      "metadata": {
        "colab": {
          "base_uri": "https://localhost:8080/"
        },
        "id": "nLJJzJnnNCOE",
        "outputId": "e2418f62-2d97-4104-8588-b0dca6a93a3c"
      },
      "execution_count": null,
      "outputs": [
        {
          "output_type": "execute_result",
          "data": {
            "text/plain": [
              "2"
            ]
          },
          "metadata": {},
          "execution_count": 33
        }
      ]
    },
    {
      "cell_type": "markdown",
      "source": [
        "Chi square value for dof = 2 and significance level = 0.05 is 5.99\n",
        "\n",
        "since our chi square value is bigger than 5.99 we reject the null hypothesis"
      ],
      "metadata": {
        "id": "d-2l3hHXQBlR"
      }
    },
    {
      "cell_type": "markdown",
      "source": [
        "Performing the same experiment using the scipy library"
      ],
      "metadata": {
        "id": "9MjQq2ePQSGo"
      }
    },
    {
      "cell_type": "code",
      "source": [
        "from scipy.stats import chi2_contingency\n",
        "contingency_table = pd.crosstab(titanic_df['Pclass'], titanic_df['Survived'])\n",
        "chi2, p, dof, expected = chi2_contingency(contingency_table)"
      ],
      "metadata": {
        "id": "I_Z_e6skOomr"
      },
      "execution_count": null,
      "outputs": []
    },
    {
      "cell_type": "code",
      "source": [
        "chi2, p, dof, expected"
      ],
      "metadata": {
        "colab": {
          "base_uri": "https://localhost:8080/"
        },
        "id": "SPdAgCefPflw",
        "outputId": "43f6b7c1-e261-475b-ac11-0ab0712fedbe"
      },
      "execution_count": null,
      "outputs": [
        {
          "output_type": "execute_result",
          "data": {
            "text/plain": [
              "(102.88898875696056,\n",
              " 4.549251711298793e-23,\n",
              " 2,\n",
              " array([[133.09090909,  82.90909091],\n",
              "        [113.37373737,  70.62626263],\n",
              "        [302.53535354, 188.46464646]]))"
            ]
          },
          "metadata": {},
          "execution_count": 35
        }
      ]
    },
    {
      "cell_type": "markdown",
      "source": [
        "Conlusion we can say that there is a relation between survival and pclass"
      ],
      "metadata": {
        "id": "9mEaUc2DQfYa"
      }
    },
    {
      "cell_type": "code",
      "source": [],
      "metadata": {
        "id": "KpVmJxNCYrcy"
      },
      "execution_count": null,
      "outputs": []
    },
    {
      "cell_type": "markdown",
      "source": [
        "### Mann Whitney U Test\n",
        "The Mann-Whitney U test, also known as the Wilcoxon rank-sum test, is a non-parametric statistical test used to compare two independent groups to determine if they have different population medians.\n",
        "\n",
        "Assumptions :\n",
        "* Independent samples\n",
        "* Random sampling\n",
        "* Ordinal or interval data\n",
        "* Equal shapes of distributions\n",
        "* Similar variances"
      ],
      "metadata": {
        "id": "OczPQaOGPgSs"
      }
    },
    {
      "cell_type": "markdown",
      "source": [
        "Null Hypothesis : median ages of male and female are same\n",
        "\n",
        "Alternate Hypotehesis : they are not same"
      ],
      "metadata": {
        "id": "3wAQPR_oQ145"
      }
    },
    {
      "cell_type": "code",
      "source": [
        "from scipy.stats import mannwhitneyu\n",
        "titanic_data = pd.read_csv(titanic_link)\n",
        "\n",
        "male_ages = titanic_data[titanic_data['Sex'] == 'male']['Age'].dropna()\n",
        "female_ages = titanic_data[titanic_data['Sex'] == 'female']['Age'].dropna()\n",
        "\n",
        "statistic, p_value = mannwhitneyu(male_ages, female_ages)\n",
        "print(\"Mann-Whitney U statistic:\", statistic , \"P : value\" , p_value)"
      ],
      "metadata": {
        "colab": {
          "base_uri": "https://localhost:8080/"
        },
        "id": "E9EdWI1GPfeK",
        "outputId": "9830a0c1-d77a-4d58-85b4-8cdcdcc44211"
      },
      "execution_count": null,
      "outputs": [
        {
          "output_type": "stream",
          "name": "stdout",
          "text": [
            "Mann-Whitney U statistic: 65020.5 P : value 0.026087746884279634\n"
          ]
        }
      ]
    },
    {
      "cell_type": "markdown",
      "source": [
        "Since P value is less than 0.05, we will reject the null hypothesis\n"
      ],
      "metadata": {
        "id": "6Uz3bSN7RBj8"
      }
    },
    {
      "cell_type": "markdown",
      "source": [
        "Statistical Tests Covered:\n",
        "\n",
        "Parametric Tests:\n",
        "\n",
        "* T-test\n",
        "* Z-Test\n",
        "* ANOVA Test\n",
        "* Variance Ratio Test\n",
        "\n",
        "Non-parametric Tests:\n",
        "\n",
        "* Chi-square Test\n",
        "* Mann Whitney U Test"
      ],
      "metadata": {
        "id": "SvvuuhnXvY1Q"
      }
    },
    {
      "cell_type": "code",
      "source": [],
      "metadata": {
        "id": "dFgcBNfFQ-74"
      },
      "execution_count": null,
      "outputs": []
    }
  ]
}